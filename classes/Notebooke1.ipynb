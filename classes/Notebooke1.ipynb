{
 "cells": [
  {
   "cell_type": "markdown",
   "id": "ebedfada-c8c3-4e65-8cd1-fdf0ee198f5e",
   "metadata": {},
   "source": [
    "# Pandas Cheat Sheet\n",
    "\n",
    "Creando Data Frames\n",
    "\n",
    "\n",
    "- Ejemplo de dataframe con 3 columnas con valores especificos"
   ]
  },
  {
   "cell_type": "code",
   "execution_count": 1,
   "id": "c4bfa52f-1fe5-4e4f-8643-8aee2b252915",
   "metadata": {},
   "outputs": [
    {
     "name": "stdout",
     "output_type": "stream",
     "text": [
      "   a  b   c\n",
      "1  4  7  10\n",
      "2  5  8  11\n",
      "3  6  9  12\n"
     ]
    }
   ],
   "source": [
    "import pandas as pd\n",
    "import numpy as np\n",
    "\n",
    "df = pd.DataFrame(\n",
    "\n",
    "{\"a\" : [4, 5, 6],\n",
    "\"b\" : [7, 8, 9],\n",
    "\"c\" : [10, 11, 12]},\n",
    "index = [1, 2, 3])\n",
    "\n",
    "print(df)"
   ]
  },
  {
   "cell_type": "markdown",
   "id": "1c056a4c-b811-43a8-8484-b652d3eaf6f6",
   "metadata": {},
   "source": [
    "- Ejemplo dataframe con valores especificos para cada fila"
   ]
  },
  {
   "cell_type": "code",
   "execution_count": 2,
   "id": "1c354b29-68cd-46f5-9edc-c75092e70a0b",
   "metadata": {},
   "outputs": [
    {
     "name": "stdout",
     "output_type": "stream",
     "text": [
      "   x  y   z\n",
      "1  4  7  10\n",
      "2  5  8  11\n",
      "3  6  9  12\n"
     ]
    }
   ],
   "source": [
    "df2 = pd.DataFrame(\n",
    "[[4, 7, 10],\n",
    "[5, 8, 11],\n",
    "[6, 9, 12]],\n",
    "index=[1, 2, 3],\n",
    "columns=['x', 'y', 'z'])\n",
    "\n",
    "print(df2)"
   ]
  },
  {
   "cell_type": "code",
   "execution_count": 3,
   "id": "7f236101-abf5-4cfb-b432-311384b0a7af",
   "metadata": {},
   "outputs": [
    {
     "name": "stdout",
     "output_type": "stream",
     "text": [
      "     a  b   c\n",
      "n v          \n",
      "d 1  4  7  10\n",
      "  2  5  8  11\n",
      "e 2  6  9  12\n"
     ]
    }
   ],
   "source": [
    "df1 = pd.DataFrame(\n",
    "\n",
    "{\"a\" : [4 ,5, 6],\n",
    "\"b\" : [7, 8, 9],\n",
    "\"c\" : [10, 11, 12]},\n",
    "index = pd.MultiIndex.from_tuples(\n",
    "[('d', 1), ('d', 2),\n",
    "('e', 2)], names=['n', 'v']))\n",
    "\n",
    "print(df1)"
   ]
  },
  {
   "cell_type": "code",
   "execution_count": 4,
   "id": "be2b224d-bd8c-4638-ad83-3abe06091b11",
   "metadata": {},
   "outputs": [
    {
     "data": {
      "text/html": [
       "<div>\n",
       "<style scoped>\n",
       "    .dataframe tbody tr th:only-of-type {\n",
       "        vertical-align: middle;\n",
       "    }\n",
       "\n",
       "    .dataframe tbody tr th {\n",
       "        vertical-align: top;\n",
       "    }\n",
       "\n",
       "    .dataframe thead th {\n",
       "        text-align: right;\n",
       "    }\n",
       "</style>\n",
       "<table border=\"1\" class=\"dataframe\">\n",
       "  <thead>\n",
       "    <tr style=\"text-align: right;\">\n",
       "      <th></th>\n",
       "      <th>variable</th>\n",
       "      <th>value</th>\n",
       "    </tr>\n",
       "  </thead>\n",
       "  <tbody>\n",
       "    <tr>\n",
       "      <th>0</th>\n",
       "      <td>x</td>\n",
       "      <td>4</td>\n",
       "    </tr>\n",
       "    <tr>\n",
       "      <th>1</th>\n",
       "      <td>x</td>\n",
       "      <td>5</td>\n",
       "    </tr>\n",
       "    <tr>\n",
       "      <th>2</th>\n",
       "      <td>x</td>\n",
       "      <td>6</td>\n",
       "    </tr>\n",
       "    <tr>\n",
       "      <th>3</th>\n",
       "      <td>y</td>\n",
       "      <td>7</td>\n",
       "    </tr>\n",
       "    <tr>\n",
       "      <th>4</th>\n",
       "      <td>y</td>\n",
       "      <td>8</td>\n",
       "    </tr>\n",
       "    <tr>\n",
       "      <th>5</th>\n",
       "      <td>y</td>\n",
       "      <td>9</td>\n",
       "    </tr>\n",
       "    <tr>\n",
       "      <th>6</th>\n",
       "      <td>z</td>\n",
       "      <td>10</td>\n",
       "    </tr>\n",
       "    <tr>\n",
       "      <th>7</th>\n",
       "      <td>z</td>\n",
       "      <td>11</td>\n",
       "    </tr>\n",
       "    <tr>\n",
       "      <th>8</th>\n",
       "      <td>z</td>\n",
       "      <td>12</td>\n",
       "    </tr>\n",
       "  </tbody>\n",
       "</table>\n",
       "</div>"
      ],
      "text/plain": [
       "  variable  value\n",
       "0        x      4\n",
       "1        x      5\n",
       "2        x      6\n",
       "3        y      7\n",
       "4        y      8\n",
       "5        y      9\n",
       "6        z     10\n",
       "7        z     11\n",
       "8        z     12"
      ]
     },
     "execution_count": 4,
     "metadata": {},
     "output_type": "execute_result"
    }
   ],
   "source": [
    "pd.melt(df2)"
   ]
  },
  {
   "cell_type": "markdown",
   "id": "60d0534f-3d27-4415-bb5f-188cef8eba98",
   "metadata": {},
   "source": [
    "### Anexar filas de DataFrames"
   ]
  },
  {
   "cell_type": "code",
   "execution_count": 5,
   "id": "0182213c-952c-40bc-ac8d-379dc83411c4",
   "metadata": {},
   "outputs": [
    {
     "data": {
      "text/html": [
       "<div>\n",
       "<style scoped>\n",
       "    .dataframe tbody tr th:only-of-type {\n",
       "        vertical-align: middle;\n",
       "    }\n",
       "\n",
       "    .dataframe tbody tr th {\n",
       "        vertical-align: top;\n",
       "    }\n",
       "\n",
       "    .dataframe thead th {\n",
       "        text-align: right;\n",
       "    }\n",
       "</style>\n",
       "<table border=\"1\" class=\"dataframe\">\n",
       "  <thead>\n",
       "    <tr style=\"text-align: right;\">\n",
       "      <th></th>\n",
       "      <th>a</th>\n",
       "      <th>b</th>\n",
       "      <th>c</th>\n",
       "      <th>x</th>\n",
       "      <th>y</th>\n",
       "      <th>z</th>\n",
       "    </tr>\n",
       "  </thead>\n",
       "  <tbody>\n",
       "    <tr>\n",
       "      <th>(d, 1)</th>\n",
       "      <td>4.0</td>\n",
       "      <td>7.0</td>\n",
       "      <td>10.0</td>\n",
       "      <td>NaN</td>\n",
       "      <td>NaN</td>\n",
       "      <td>NaN</td>\n",
       "    </tr>\n",
       "    <tr>\n",
       "      <th>(d, 2)</th>\n",
       "      <td>5.0</td>\n",
       "      <td>8.0</td>\n",
       "      <td>11.0</td>\n",
       "      <td>NaN</td>\n",
       "      <td>NaN</td>\n",
       "      <td>NaN</td>\n",
       "    </tr>\n",
       "    <tr>\n",
       "      <th>(e, 2)</th>\n",
       "      <td>6.0</td>\n",
       "      <td>9.0</td>\n",
       "      <td>12.0</td>\n",
       "      <td>NaN</td>\n",
       "      <td>NaN</td>\n",
       "      <td>NaN</td>\n",
       "    </tr>\n",
       "    <tr>\n",
       "      <th>1</th>\n",
       "      <td>NaN</td>\n",
       "      <td>NaN</td>\n",
       "      <td>NaN</td>\n",
       "      <td>4.0</td>\n",
       "      <td>7.0</td>\n",
       "      <td>10.0</td>\n",
       "    </tr>\n",
       "    <tr>\n",
       "      <th>2</th>\n",
       "      <td>NaN</td>\n",
       "      <td>NaN</td>\n",
       "      <td>NaN</td>\n",
       "      <td>5.0</td>\n",
       "      <td>8.0</td>\n",
       "      <td>11.0</td>\n",
       "    </tr>\n",
       "    <tr>\n",
       "      <th>3</th>\n",
       "      <td>NaN</td>\n",
       "      <td>NaN</td>\n",
       "      <td>NaN</td>\n",
       "      <td>6.0</td>\n",
       "      <td>9.0</td>\n",
       "      <td>12.0</td>\n",
       "    </tr>\n",
       "  </tbody>\n",
       "</table>\n",
       "</div>"
      ],
      "text/plain": [
       "          a    b     c    x    y     z\n",
       "(d, 1)  4.0  7.0  10.0  NaN  NaN   NaN\n",
       "(d, 2)  5.0  8.0  11.0  NaN  NaN   NaN\n",
       "(e, 2)  6.0  9.0  12.0  NaN  NaN   NaN\n",
       "1       NaN  NaN   NaN  4.0  7.0  10.0\n",
       "2       NaN  NaN   NaN  5.0  8.0  11.0\n",
       "3       NaN  NaN   NaN  6.0  9.0  12.0"
      ]
     },
     "execution_count": 5,
     "metadata": {},
     "output_type": "execute_result"
    }
   ],
   "source": [
    "pd.concat([df1,df2])"
   ]
  },
  {
   "cell_type": "code",
   "execution_count": 6,
   "id": "0c6669b9-6616-4594-94ba-bc36951f4c16",
   "metadata": {},
   "outputs": [
    {
     "data": {
      "text/html": [
       "<div>\n",
       "<style scoped>\n",
       "    .dataframe tbody tr th:only-of-type {\n",
       "        vertical-align: middle;\n",
       "    }\n",
       "\n",
       "    .dataframe tbody tr th {\n",
       "        vertical-align: top;\n",
       "    }\n",
       "\n",
       "    .dataframe thead th {\n",
       "        text-align: right;\n",
       "    }\n",
       "</style>\n",
       "<table border=\"1\" class=\"dataframe\">\n",
       "  <thead>\n",
       "    <tr style=\"text-align: right;\">\n",
       "      <th></th>\n",
       "      <th>a</th>\n",
       "      <th>b</th>\n",
       "      <th>c</th>\n",
       "      <th>x</th>\n",
       "      <th>y</th>\n",
       "      <th>z</th>\n",
       "    </tr>\n",
       "  </thead>\n",
       "  <tbody>\n",
       "    <tr>\n",
       "      <th>(d, 1)</th>\n",
       "      <td>4.0</td>\n",
       "      <td>7.0</td>\n",
       "      <td>10.0</td>\n",
       "      <td>NaN</td>\n",
       "      <td>NaN</td>\n",
       "      <td>NaN</td>\n",
       "    </tr>\n",
       "    <tr>\n",
       "      <th>(d, 2)</th>\n",
       "      <td>5.0</td>\n",
       "      <td>8.0</td>\n",
       "      <td>11.0</td>\n",
       "      <td>NaN</td>\n",
       "      <td>NaN</td>\n",
       "      <td>NaN</td>\n",
       "    </tr>\n",
       "    <tr>\n",
       "      <th>(e, 2)</th>\n",
       "      <td>6.0</td>\n",
       "      <td>9.0</td>\n",
       "      <td>12.0</td>\n",
       "      <td>NaN</td>\n",
       "      <td>NaN</td>\n",
       "      <td>NaN</td>\n",
       "    </tr>\n",
       "    <tr>\n",
       "      <th>1</th>\n",
       "      <td>NaN</td>\n",
       "      <td>NaN</td>\n",
       "      <td>NaN</td>\n",
       "      <td>4.0</td>\n",
       "      <td>7.0</td>\n",
       "      <td>10.0</td>\n",
       "    </tr>\n",
       "    <tr>\n",
       "      <th>2</th>\n",
       "      <td>NaN</td>\n",
       "      <td>NaN</td>\n",
       "      <td>NaN</td>\n",
       "      <td>5.0</td>\n",
       "      <td>8.0</td>\n",
       "      <td>11.0</td>\n",
       "    </tr>\n",
       "    <tr>\n",
       "      <th>3</th>\n",
       "      <td>NaN</td>\n",
       "      <td>NaN</td>\n",
       "      <td>NaN</td>\n",
       "      <td>6.0</td>\n",
       "      <td>9.0</td>\n",
       "      <td>12.0</td>\n",
       "    </tr>\n",
       "  </tbody>\n",
       "</table>\n",
       "</div>"
      ],
      "text/plain": [
       "          a    b     c    x    y     z\n",
       "(d, 1)  4.0  7.0  10.0  NaN  NaN   NaN\n",
       "(d, 2)  5.0  8.0  11.0  NaN  NaN   NaN\n",
       "(e, 2)  6.0  9.0  12.0  NaN  NaN   NaN\n",
       "1       NaN  NaN   NaN  4.0  7.0  10.0\n",
       "2       NaN  NaN   NaN  5.0  8.0  11.0\n",
       "3       NaN  NaN   NaN  6.0  9.0  12.0"
      ]
     },
     "execution_count": 6,
     "metadata": {},
     "output_type": "execute_result"
    }
   ],
   "source": [
    "pd.concat([df1,df2])"
   ]
  },
  {
   "cell_type": "code",
   "execution_count": 7,
   "id": "b15189ca-1f92-4778-9a45-893e21670d90",
   "metadata": {},
   "outputs": [
    {
     "data": {
      "text/html": [
       "<div>\n",
       "<style scoped>\n",
       "    .dataframe tbody tr th:only-of-type {\n",
       "        vertical-align: middle;\n",
       "    }\n",
       "\n",
       "    .dataframe tbody tr th {\n",
       "        vertical-align: top;\n",
       "    }\n",
       "\n",
       "    .dataframe thead th {\n",
       "        text-align: right;\n",
       "    }\n",
       "</style>\n",
       "<table border=\"1\" class=\"dataframe\">\n",
       "  <thead>\n",
       "    <tr style=\"text-align: right;\">\n",
       "      <th></th>\n",
       "      <th>x</th>\n",
       "      <th>y</th>\n",
       "      <th>z</th>\n",
       "    </tr>\n",
       "  </thead>\n",
       "  <tbody>\n",
       "    <tr>\n",
       "      <th>1</th>\n",
       "      <td>4</td>\n",
       "      <td>7</td>\n",
       "      <td>10</td>\n",
       "    </tr>\n",
       "    <tr>\n",
       "      <th>2</th>\n",
       "      <td>5</td>\n",
       "      <td>8</td>\n",
       "      <td>11</td>\n",
       "    </tr>\n",
       "    <tr>\n",
       "      <th>3</th>\n",
       "      <td>6</td>\n",
       "      <td>9</td>\n",
       "      <td>12</td>\n",
       "    </tr>\n",
       "  </tbody>\n",
       "</table>\n",
       "</div>"
      ],
      "text/plain": [
       "   x  y   z\n",
       "1  4  7  10\n",
       "2  5  8  11\n",
       "3  6  9  12"
      ]
     },
     "execution_count": 7,
     "metadata": {},
     "output_type": "execute_result"
    }
   ],
   "source": [
    "df2.sort_values('x')"
   ]
  },
  {
   "cell_type": "markdown",
   "id": "953763e0-93e9-460d-aa6c-bd52437d0397",
   "metadata": {},
   "source": [
    "### Se ordenan los valores de una columna especifica"
   ]
  },
  {
   "cell_type": "code",
   "execution_count": 8,
   "id": "3acfce5f-d0bd-4de8-a4e1-2746f58390da",
   "metadata": {},
   "outputs": [
    {
     "data": {
      "text/html": [
       "<div>\n",
       "<style scoped>\n",
       "    .dataframe tbody tr th:only-of-type {\n",
       "        vertical-align: middle;\n",
       "    }\n",
       "\n",
       "    .dataframe tbody tr th {\n",
       "        vertical-align: top;\n",
       "    }\n",
       "\n",
       "    .dataframe thead th {\n",
       "        text-align: right;\n",
       "    }\n",
       "</style>\n",
       "<table border=\"1\" class=\"dataframe\">\n",
       "  <thead>\n",
       "    <tr style=\"text-align: right;\">\n",
       "      <th></th>\n",
       "      <th>a</th>\n",
       "      <th>b</th>\n",
       "      <th>c</th>\n",
       "    </tr>\n",
       "  </thead>\n",
       "  <tbody>\n",
       "    <tr>\n",
       "      <th>3</th>\n",
       "      <td>6</td>\n",
       "      <td>9</td>\n",
       "      <td>12</td>\n",
       "    </tr>\n",
       "    <tr>\n",
       "      <th>2</th>\n",
       "      <td>5</td>\n",
       "      <td>8</td>\n",
       "      <td>11</td>\n",
       "    </tr>\n",
       "    <tr>\n",
       "      <th>1</th>\n",
       "      <td>4</td>\n",
       "      <td>7</td>\n",
       "      <td>10</td>\n",
       "    </tr>\n",
       "  </tbody>\n",
       "</table>\n",
       "</div>"
      ],
      "text/plain": [
       "   a  b   c\n",
       "3  6  9  12\n",
       "2  5  8  11\n",
       "1  4  7  10"
      ]
     },
     "execution_count": 8,
     "metadata": {},
     "output_type": "execute_result"
    }
   ],
   "source": [
    "df.sort_values('a', ascending=False)"
   ]
  },
  {
   "cell_type": "code",
   "execution_count": 9,
   "id": "6d0334ba-2582-4f6e-862b-32981a644d9d",
   "metadata": {},
   "outputs": [
    {
     "data": {
      "text/html": [
       "<div>\n",
       "<style scoped>\n",
       "    .dataframe tbody tr th:only-of-type {\n",
       "        vertical-align: middle;\n",
       "    }\n",
       "\n",
       "    .dataframe tbody tr th {\n",
       "        vertical-align: top;\n",
       "    }\n",
       "\n",
       "    .dataframe thead th {\n",
       "        text-align: right;\n",
       "    }\n",
       "</style>\n",
       "<table border=\"1\" class=\"dataframe\">\n",
       "  <thead>\n",
       "    <tr style=\"text-align: right;\">\n",
       "      <th></th>\n",
       "      <th>primero</th>\n",
       "      <th>b</th>\n",
       "      <th>c</th>\n",
       "    </tr>\n",
       "  </thead>\n",
       "  <tbody>\n",
       "    <tr>\n",
       "      <th>1</th>\n",
       "      <td>4</td>\n",
       "      <td>7</td>\n",
       "      <td>10</td>\n",
       "    </tr>\n",
       "    <tr>\n",
       "      <th>2</th>\n",
       "      <td>5</td>\n",
       "      <td>8</td>\n",
       "      <td>11</td>\n",
       "    </tr>\n",
       "    <tr>\n",
       "      <th>3</th>\n",
       "      <td>6</td>\n",
       "      <td>9</td>\n",
       "      <td>12</td>\n",
       "    </tr>\n",
       "  </tbody>\n",
       "</table>\n",
       "</div>"
      ],
      "text/plain": [
       "   primero  b   c\n",
       "1        4  7  10\n",
       "2        5  8  11\n",
       "3        6  9  12"
      ]
     },
     "execution_count": 9,
     "metadata": {},
     "output_type": "execute_result"
    }
   ],
   "source": [
    "df.rename(columns = {'a':'primero'})\n",
    "# Se modifica el nombre de una columna"
   ]
  },
  {
   "cell_type": "code",
   "execution_count": 10,
   "id": "aee9c240-b860-4730-8a27-704c69087554",
   "metadata": {},
   "outputs": [
    {
     "data": {
      "text/html": [
       "<div>\n",
       "<style scoped>\n",
       "    .dataframe tbody tr th:only-of-type {\n",
       "        vertical-align: middle;\n",
       "    }\n",
       "\n",
       "    .dataframe tbody tr th {\n",
       "        vertical-align: top;\n",
       "    }\n",
       "\n",
       "    .dataframe thead th {\n",
       "        text-align: right;\n",
       "    }\n",
       "</style>\n",
       "<table border=\"1\" class=\"dataframe\">\n",
       "  <thead>\n",
       "    <tr style=\"text-align: right;\">\n",
       "      <th></th>\n",
       "      <th>a</th>\n",
       "      <th>b</th>\n",
       "      <th>c</th>\n",
       "    </tr>\n",
       "  </thead>\n",
       "  <tbody>\n",
       "    <tr>\n",
       "      <th>1</th>\n",
       "      <td>4</td>\n",
       "      <td>7</td>\n",
       "      <td>10</td>\n",
       "    </tr>\n",
       "    <tr>\n",
       "      <th>2</th>\n",
       "      <td>5</td>\n",
       "      <td>8</td>\n",
       "      <td>11</td>\n",
       "    </tr>\n",
       "    <tr>\n",
       "      <th>3</th>\n",
       "      <td>6</td>\n",
       "      <td>9</td>\n",
       "      <td>12</td>\n",
       "    </tr>\n",
       "  </tbody>\n",
       "</table>\n",
       "</div>"
      ],
      "text/plain": [
       "   a  b   c\n",
       "1  4  7  10\n",
       "2  5  8  11\n",
       "3  6  9  12"
      ]
     },
     "execution_count": 10,
     "metadata": {},
     "output_type": "execute_result"
    }
   ],
   "source": [
    "#ordena el indice el dataframe\n",
    "df.sort_index()"
   ]
  },
  {
   "cell_type": "code",
   "execution_count": 11,
   "id": "ca53359b-c92f-48b7-ad5b-d5c16b078f0c",
   "metadata": {},
   "outputs": [
    {
     "data": {
      "text/html": [
       "<div>\n",
       "<style scoped>\n",
       "    .dataframe tbody tr th:only-of-type {\n",
       "        vertical-align: middle;\n",
       "    }\n",
       "\n",
       "    .dataframe tbody tr th {\n",
       "        vertical-align: top;\n",
       "    }\n",
       "\n",
       "    .dataframe thead th {\n",
       "        text-align: right;\n",
       "    }\n",
       "</style>\n",
       "<table border=\"1\" class=\"dataframe\">\n",
       "  <thead>\n",
       "    <tr style=\"text-align: right;\">\n",
       "      <th></th>\n",
       "      <th>index</th>\n",
       "      <th>a</th>\n",
       "      <th>b</th>\n",
       "      <th>c</th>\n",
       "    </tr>\n",
       "  </thead>\n",
       "  <tbody>\n",
       "    <tr>\n",
       "      <th>0</th>\n",
       "      <td>1</td>\n",
       "      <td>4</td>\n",
       "      <td>7</td>\n",
       "      <td>10</td>\n",
       "    </tr>\n",
       "    <tr>\n",
       "      <th>1</th>\n",
       "      <td>2</td>\n",
       "      <td>5</td>\n",
       "      <td>8</td>\n",
       "      <td>11</td>\n",
       "    </tr>\n",
       "    <tr>\n",
       "      <th>2</th>\n",
       "      <td>3</td>\n",
       "      <td>6</td>\n",
       "      <td>9</td>\n",
       "      <td>12</td>\n",
       "    </tr>\n",
       "  </tbody>\n",
       "</table>\n",
       "</div>"
      ],
      "text/plain": [
       "   index  a  b   c\n",
       "0      1  4  7  10\n",
       "1      2  5  8  11\n",
       "2      3  6  9  12"
      ]
     },
     "execution_count": 11,
     "metadata": {},
     "output_type": "execute_result"
    }
   ],
   "source": [
    "df.reset_index()"
   ]
  },
  {
   "cell_type": "code",
   "execution_count": 12,
   "id": "ed083758-a144-4b82-8050-148b2a9fa633",
   "metadata": {},
   "outputs": [
    {
     "data": {
      "text/html": [
       "<div>\n",
       "<style scoped>\n",
       "    .dataframe tbody tr th:only-of-type {\n",
       "        vertical-align: middle;\n",
       "    }\n",
       "\n",
       "    .dataframe tbody tr th {\n",
       "        vertical-align: top;\n",
       "    }\n",
       "\n",
       "    .dataframe thead th {\n",
       "        text-align: right;\n",
       "    }\n",
       "</style>\n",
       "<table border=\"1\" class=\"dataframe\">\n",
       "  <thead>\n",
       "    <tr style=\"text-align: right;\">\n",
       "      <th></th>\n",
       "      <th>a</th>\n",
       "    </tr>\n",
       "  </thead>\n",
       "  <tbody>\n",
       "    <tr>\n",
       "      <th>1</th>\n",
       "      <td>4</td>\n",
       "    </tr>\n",
       "    <tr>\n",
       "      <th>2</th>\n",
       "      <td>5</td>\n",
       "    </tr>\n",
       "    <tr>\n",
       "      <th>3</th>\n",
       "      <td>6</td>\n",
       "    </tr>\n",
       "  </tbody>\n",
       "</table>\n",
       "</div>"
      ],
      "text/plain": [
       "   a\n",
       "1  4\n",
       "2  5\n",
       "3  6"
      ]
     },
     "execution_count": 12,
     "metadata": {},
     "output_type": "execute_result"
    }
   ],
   "source": [
    "df.drop(columns=['c', 'b'])"
   ]
  },
  {
   "cell_type": "markdown",
   "id": "1bafa2e0-d1c1-407c-9a17-431b5df351a8",
   "metadata": {},
   "source": [
    "### Se elimina columnad del dataframe"
   ]
  },
  {
   "cell_type": "markdown",
   "id": "dd3beb13-c432-4dd7-8692-463de30d05e7",
   "metadata": {},
   "source": [
    "## Subset Observations - rows\n",
    "\n",
    "Aquí he comenzado a utilizar un archivo csv con datos que ya he manejado sobre variables de exoplanetas"
   ]
  },
  {
   "cell_type": "code",
   "execution_count": 13,
   "id": "e01e09f4-010c-4105-80a2-cbf649c8f34a",
   "metadata": {},
   "outputs": [
    {
     "data": {
      "text/html": [
       "<div>\n",
       "<style scoped>\n",
       "    .dataframe tbody tr th:only-of-type {\n",
       "        vertical-align: middle;\n",
       "    }\n",
       "\n",
       "    .dataframe tbody tr th {\n",
       "        vertical-align: top;\n",
       "    }\n",
       "\n",
       "    .dataframe thead th {\n",
       "        text-align: right;\n",
       "    }\n",
       "</style>\n",
       "<table border=\"1\" class=\"dataframe\">\n",
       "  <thead>\n",
       "    <tr style=\"text-align: right;\">\n",
       "      <th></th>\n",
       "      <th>pl_rade</th>\n",
       "      <th>pl_radj</th>\n",
       "      <th>pl_bmasse</th>\n",
       "      <th>pl_bmassj</th>\n",
       "      <th>st_teff</th>\n",
       "      <th>pl_eqt</th>\n",
       "      <th>Pl_eh_vol</th>\n",
       "      <th>Pl_J_vol</th>\n",
       "      <th>dens_pl_ert</th>\n",
       "      <th>dens_pl_jup</th>\n",
       "    </tr>\n",
       "  </thead>\n",
       "  <tbody>\n",
       "    <tr>\n",
       "      <th>7</th>\n",
       "      <td>11.500</td>\n",
       "      <td>1.026</td>\n",
       "      <td>131.89945</td>\n",
       "      <td>0.415</td>\n",
       "      <td>5521.0</td>\n",
       "      <td>1228</td>\n",
       "      <td>1520.875000</td>\n",
       "      <td>1.080046</td>\n",
       "      <td>0.086726</td>\n",
       "      <td>359.315321</td>\n",
       "    </tr>\n",
       "    <tr>\n",
       "      <th>14</th>\n",
       "      <td>17.318</td>\n",
       "      <td>1.545</td>\n",
       "      <td>323.23311</td>\n",
       "      <td>1.017</td>\n",
       "      <td>6272.0</td>\n",
       "      <td>2132</td>\n",
       "      <td>5193.895481</td>\n",
       "      <td>3.687954</td>\n",
       "      <td>0.062233</td>\n",
       "      <td>257.872614</td>\n",
       "    </tr>\n",
       "    <tr>\n",
       "      <th>27</th>\n",
       "      <td>16.141</td>\n",
       "      <td>1.440</td>\n",
       "      <td>371.86110</td>\n",
       "      <td>1.170</td>\n",
       "      <td>6801.0</td>\n",
       "      <td>2061</td>\n",
       "      <td>4205.245091</td>\n",
       "      <td>2.985984</td>\n",
       "      <td>0.088428</td>\n",
       "      <td>366.410666</td>\n",
       "    </tr>\n",
       "    <tr>\n",
       "      <th>31</th>\n",
       "      <td>9.718</td>\n",
       "      <td>0.867</td>\n",
       "      <td>77.55052</td>\n",
       "      <td>0.244</td>\n",
       "      <td>6089.0</td>\n",
       "      <td>876</td>\n",
       "      <td>917.763294</td>\n",
       "      <td>0.651714</td>\n",
       "      <td>0.084500</td>\n",
       "      <td>350.108178</td>\n",
       "    </tr>\n",
       "    <tr>\n",
       "      <th>39</th>\n",
       "      <td>22.754</td>\n",
       "      <td>2.030</td>\n",
       "      <td>1021.18779</td>\n",
       "      <td>3.213</td>\n",
       "      <td>4590.0</td>\n",
       "      <td>1411</td>\n",
       "      <td>11780.758720</td>\n",
       "      <td>8.365427</td>\n",
       "      <td>0.086683</td>\n",
       "      <td>359.163615</td>\n",
       "    </tr>\n",
       "    <tr>\n",
       "      <th>...</th>\n",
       "      <td>...</td>\n",
       "      <td>...</td>\n",
       "      <td>...</td>\n",
       "      <td>...</td>\n",
       "      <td>...</td>\n",
       "      <td>...</td>\n",
       "      <td>...</td>\n",
       "      <td>...</td>\n",
       "      <td>...</td>\n",
       "      <td>...</td>\n",
       "    </tr>\n",
       "    <tr>\n",
       "      <th>198</th>\n",
       "      <td>13.115</td>\n",
       "      <td>1.170</td>\n",
       "      <td>392.83788</td>\n",
       "      <td>1.236</td>\n",
       "      <td>6295.0</td>\n",
       "      <td>1252</td>\n",
       "      <td>2255.822296</td>\n",
       "      <td>1.601613</td>\n",
       "      <td>0.174144</td>\n",
       "      <td>721.656632</td>\n",
       "    </tr>\n",
       "    <tr>\n",
       "      <th>207</th>\n",
       "      <td>11.994</td>\n",
       "      <td>1.070</td>\n",
       "      <td>301.93850</td>\n",
       "      <td>0.950</td>\n",
       "      <td>6261.0</td>\n",
       "      <td>1397</td>\n",
       "      <td>1725.409296</td>\n",
       "      <td>1.225043</td>\n",
       "      <td>0.174996</td>\n",
       "      <td>725.173615</td>\n",
       "    </tr>\n",
       "    <tr>\n",
       "      <th>208</th>\n",
       "      <td>13.126</td>\n",
       "      <td>1.171</td>\n",
       "      <td>211.99261</td>\n",
       "      <td>0.667</td>\n",
       "      <td>5570.0</td>\n",
       "      <td>1192</td>\n",
       "      <td>2261.503164</td>\n",
       "      <td>1.605723</td>\n",
       "      <td>0.093740</td>\n",
       "      <td>388.440828</td>\n",
       "    </tr>\n",
       "    <tr>\n",
       "      <th>209</th>\n",
       "      <td>9.550</td>\n",
       "      <td>0.852</td>\n",
       "      <td>55.30242</td>\n",
       "      <td>0.174</td>\n",
       "      <td>5710.0</td>\n",
       "      <td>1526</td>\n",
       "      <td>870.983875</td>\n",
       "      <td>0.618470</td>\n",
       "      <td>0.063494</td>\n",
       "      <td>263.087483</td>\n",
       "    </tr>\n",
       "    <tr>\n",
       "      <th>211</th>\n",
       "      <td>10.400</td>\n",
       "      <td>0.928</td>\n",
       "      <td>4386.05400</td>\n",
       "      <td>13.800</td>\n",
       "      <td>4710.0</td>\n",
       "      <td>163</td>\n",
       "      <td>1124.864000</td>\n",
       "      <td>0.799179</td>\n",
       "      <td>3.899197</td>\n",
       "      <td>16147.484620</td>\n",
       "    </tr>\n",
       "  </tbody>\n",
       "</table>\n",
       "<p>91 rows × 10 columns</p>\n",
       "</div>"
      ],
      "text/plain": [
       "     pl_rade  pl_radj   pl_bmasse  pl_bmassj  st_teff  pl_eqt     Pl_eh_vol  \\\n",
       "7     11.500    1.026   131.89945      0.415   5521.0    1228   1520.875000   \n",
       "14    17.318    1.545   323.23311      1.017   6272.0    2132   5193.895481   \n",
       "27    16.141    1.440   371.86110      1.170   6801.0    2061   4205.245091   \n",
       "31     9.718    0.867    77.55052      0.244   6089.0     876    917.763294   \n",
       "39    22.754    2.030  1021.18779      3.213   4590.0    1411  11780.758720   \n",
       "..       ...      ...         ...        ...      ...     ...           ...   \n",
       "198   13.115    1.170   392.83788      1.236   6295.0    1252   2255.822296   \n",
       "207   11.994    1.070   301.93850      0.950   6261.0    1397   1725.409296   \n",
       "208   13.126    1.171   211.99261      0.667   5570.0    1192   2261.503164   \n",
       "209    9.550    0.852    55.30242      0.174   5710.0    1526    870.983875   \n",
       "211   10.400    0.928  4386.05400     13.800   4710.0     163   1124.864000   \n",
       "\n",
       "     Pl_J_vol  dens_pl_ert   dens_pl_jup  \n",
       "7    1.080046     0.086726    359.315321  \n",
       "14   3.687954     0.062233    257.872614  \n",
       "27   2.985984     0.088428    366.410666  \n",
       "31   0.651714     0.084500    350.108178  \n",
       "39   8.365427     0.086683    359.163615  \n",
       "..        ...          ...           ...  \n",
       "198  1.601613     0.174144    721.656632  \n",
       "207  1.225043     0.174996    725.173615  \n",
       "208  1.605723     0.093740    388.440828  \n",
       "209  0.618470     0.063494    263.087483  \n",
       "211  0.799179     3.899197  16147.484620  \n",
       "\n",
       "[91 rows x 10 columns]"
      ]
     },
     "execution_count": 13,
     "metadata": {},
     "output_type": "execute_result"
    }
   ],
   "source": [
    "df = pd.read_csv('TessData250523(1).csv')\n",
    "df[df.pl_rade > 7]\n",
    "\n"
   ]
  },
  {
   "cell_type": "markdown",
   "id": "6e2a5c55-6384-43af-8c21-ab514ef6408f",
   "metadata": {},
   "source": [
    "Con el anterior código se extraen del dataframe los datos de una columna que cumplan con la logica planeada, en este caso aquellos valores de la columna pl_rade que son mayores a 7"
   ]
  },
  {
   "cell_type": "code",
   "execution_count": 14,
   "id": "c0d0f96c-f684-4260-92ad-673ca837b875",
   "metadata": {},
   "outputs": [
    {
     "data": {
      "text/html": [
       "<div>\n",
       "<style scoped>\n",
       "    .dataframe tbody tr th:only-of-type {\n",
       "        vertical-align: middle;\n",
       "    }\n",
       "\n",
       "    .dataframe tbody tr th {\n",
       "        vertical-align: top;\n",
       "    }\n",
       "\n",
       "    .dataframe thead th {\n",
       "        text-align: right;\n",
       "    }\n",
       "</style>\n",
       "<table border=\"1\" class=\"dataframe\">\n",
       "  <thead>\n",
       "    <tr style=\"text-align: right;\">\n",
       "      <th></th>\n",
       "      <th>pl_rade</th>\n",
       "      <th>pl_radj</th>\n",
       "      <th>pl_bmasse</th>\n",
       "      <th>pl_bmassj</th>\n",
       "      <th>st_teff</th>\n",
       "      <th>pl_eqt</th>\n",
       "      <th>Pl_eh_vol</th>\n",
       "      <th>Pl_J_vol</th>\n",
       "      <th>dens_pl_ert</th>\n",
       "      <th>dens_pl_jup</th>\n",
       "    </tr>\n",
       "  </thead>\n",
       "  <tbody>\n",
       "    <tr>\n",
       "      <th>0</th>\n",
       "      <td>2.610</td>\n",
       "      <td>0.233</td>\n",
       "      <td>22.70000</td>\n",
       "      <td>0.07142</td>\n",
       "      <td>4640.0</td>\n",
       "      <td>422</td>\n",
       "      <td>17.779581</td>\n",
       "      <td>0.012649</td>\n",
       "      <td>1.276749</td>\n",
       "      <td>5279.852677</td>\n",
       "    </tr>\n",
       "    <tr>\n",
       "      <th>1</th>\n",
       "      <td>2.130</td>\n",
       "      <td>0.190</td>\n",
       "      <td>3.34000</td>\n",
       "      <td>0.01051</td>\n",
       "      <td>3556.0</td>\n",
       "      <td>693</td>\n",
       "      <td>9.663597</td>\n",
       "      <td>0.006859</td>\n",
       "      <td>0.345628</td>\n",
       "      <td>1432.885986</td>\n",
       "    </tr>\n",
       "    <tr>\n",
       "      <th>2</th>\n",
       "      <td>1.264</td>\n",
       "      <td>0.113</td>\n",
       "      <td>1.86000</td>\n",
       "      <td>0.00585</td>\n",
       "      <td>3347.0</td>\n",
       "      <td>773</td>\n",
       "      <td>2.019488</td>\n",
       "      <td>0.001443</td>\n",
       "      <td>0.921028</td>\n",
       "      <td>3791.318391</td>\n",
       "    </tr>\n",
       "    <tr>\n",
       "      <th>3</th>\n",
       "      <td>1.217</td>\n",
       "      <td>0.109</td>\n",
       "      <td>1.84000</td>\n",
       "      <td>0.00579</td>\n",
       "      <td>3505.0</td>\n",
       "      <td>525</td>\n",
       "      <td>1.802485</td>\n",
       "      <td>0.001295</td>\n",
       "      <td>1.020816</td>\n",
       "      <td>4180.890486</td>\n",
       "    </tr>\n",
       "    <tr>\n",
       "      <th>4</th>\n",
       "      <td>0.718</td>\n",
       "      <td>0.064</td>\n",
       "      <td>0.54600</td>\n",
       "      <td>0.00172</td>\n",
       "      <td>3522.0</td>\n",
       "      <td>1745</td>\n",
       "      <td>0.370146</td>\n",
       "      <td>0.000262</td>\n",
       "      <td>1.475097</td>\n",
       "      <td>6135.617067</td>\n",
       "    </tr>\n",
       "    <tr>\n",
       "      <th>...</th>\n",
       "      <td>...</td>\n",
       "      <td>...</td>\n",
       "      <td>...</td>\n",
       "      <td>...</td>\n",
       "      <td>...</td>\n",
       "      <td>...</td>\n",
       "      <td>...</td>\n",
       "      <td>...</td>\n",
       "      <td>...</td>\n",
       "      <td>...</td>\n",
       "    </tr>\n",
       "    <tr>\n",
       "      <th>207</th>\n",
       "      <td>11.994</td>\n",
       "      <td>1.070</td>\n",
       "      <td>301.93850</td>\n",
       "      <td>0.95000</td>\n",
       "      <td>6261.0</td>\n",
       "      <td>1397</td>\n",
       "      <td>1725.409296</td>\n",
       "      <td>1.225043</td>\n",
       "      <td>0.174996</td>\n",
       "      <td>725.173615</td>\n",
       "    </tr>\n",
       "    <tr>\n",
       "      <th>208</th>\n",
       "      <td>13.126</td>\n",
       "      <td>1.171</td>\n",
       "      <td>211.99261</td>\n",
       "      <td>0.66700</td>\n",
       "      <td>5570.0</td>\n",
       "      <td>1192</td>\n",
       "      <td>2261.503164</td>\n",
       "      <td>1.605723</td>\n",
       "      <td>0.093740</td>\n",
       "      <td>388.440828</td>\n",
       "    </tr>\n",
       "    <tr>\n",
       "      <th>209</th>\n",
       "      <td>9.550</td>\n",
       "      <td>0.852</td>\n",
       "      <td>55.30242</td>\n",
       "      <td>0.17400</td>\n",
       "      <td>5710.0</td>\n",
       "      <td>1526</td>\n",
       "      <td>870.983875</td>\n",
       "      <td>0.618470</td>\n",
       "      <td>0.063494</td>\n",
       "      <td>263.087483</td>\n",
       "    </tr>\n",
       "    <tr>\n",
       "      <th>210</th>\n",
       "      <td>2.765</td>\n",
       "      <td>0.247</td>\n",
       "      <td>9.10000</td>\n",
       "      <td>0.02863</td>\n",
       "      <td>4435.0</td>\n",
       "      <td>941</td>\n",
       "      <td>21.139047</td>\n",
       "      <td>0.015069</td>\n",
       "      <td>0.430484</td>\n",
       "      <td>1776.643168</td>\n",
       "    </tr>\n",
       "    <tr>\n",
       "      <th>211</th>\n",
       "      <td>10.400</td>\n",
       "      <td>0.928</td>\n",
       "      <td>4386.05400</td>\n",
       "      <td>13.80000</td>\n",
       "      <td>4710.0</td>\n",
       "      <td>163</td>\n",
       "      <td>1124.864000</td>\n",
       "      <td>0.799179</td>\n",
       "      <td>3.899197</td>\n",
       "      <td>16147.484620</td>\n",
       "    </tr>\n",
       "  </tbody>\n",
       "</table>\n",
       "<p>212 rows × 10 columns</p>\n",
       "</div>"
      ],
      "text/plain": [
       "     pl_rade  pl_radj   pl_bmasse  pl_bmassj  st_teff  pl_eqt    Pl_eh_vol  \\\n",
       "0      2.610    0.233    22.70000    0.07142   4640.0     422    17.779581   \n",
       "1      2.130    0.190     3.34000    0.01051   3556.0     693     9.663597   \n",
       "2      1.264    0.113     1.86000    0.00585   3347.0     773     2.019488   \n",
       "3      1.217    0.109     1.84000    0.00579   3505.0     525     1.802485   \n",
       "4      0.718    0.064     0.54600    0.00172   3522.0    1745     0.370146   \n",
       "..       ...      ...         ...        ...      ...     ...          ...   \n",
       "207   11.994    1.070   301.93850    0.95000   6261.0    1397  1725.409296   \n",
       "208   13.126    1.171   211.99261    0.66700   5570.0    1192  2261.503164   \n",
       "209    9.550    0.852    55.30242    0.17400   5710.0    1526   870.983875   \n",
       "210    2.765    0.247     9.10000    0.02863   4435.0     941    21.139047   \n",
       "211   10.400    0.928  4386.05400   13.80000   4710.0     163  1124.864000   \n",
       "\n",
       "     Pl_J_vol  dens_pl_ert   dens_pl_jup  \n",
       "0    0.012649     1.276749   5279.852677  \n",
       "1    0.006859     0.345628   1432.885986  \n",
       "2    0.001443     0.921028   3791.318391  \n",
       "3    0.001295     1.020816   4180.890486  \n",
       "4    0.000262     1.475097   6135.617067  \n",
       "..        ...          ...           ...  \n",
       "207  1.225043     0.174996    725.173615  \n",
       "208  1.605723     0.093740    388.440828  \n",
       "209  0.618470     0.063494    263.087483  \n",
       "210  0.015069     0.430484   1776.643168  \n",
       "211  0.799179     3.899197  16147.484620  \n",
       "\n",
       "[212 rows x 10 columns]"
      ]
     },
     "execution_count": 14,
     "metadata": {},
     "output_type": "execute_result"
    }
   ],
   "source": [
    "df.drop_duplicates()\n",
    "\n",
    "#En este dataframe no hay columnas duplicadas"
   ]
  },
  {
   "cell_type": "code",
   "execution_count": 15,
   "id": "2ce995a4-9eb3-49bc-b46d-4cd045fa96ed",
   "metadata": {},
   "outputs": [
    {
     "data": {
      "text/html": [
       "<div>\n",
       "<style scoped>\n",
       "    .dataframe tbody tr th:only-of-type {\n",
       "        vertical-align: middle;\n",
       "    }\n",
       "\n",
       "    .dataframe tbody tr th {\n",
       "        vertical-align: top;\n",
       "    }\n",
       "\n",
       "    .dataframe thead th {\n",
       "        text-align: right;\n",
       "    }\n",
       "</style>\n",
       "<table border=\"1\" class=\"dataframe\">\n",
       "  <thead>\n",
       "    <tr style=\"text-align: right;\">\n",
       "      <th></th>\n",
       "      <th>pl_rade</th>\n",
       "      <th>pl_radj</th>\n",
       "      <th>pl_bmasse</th>\n",
       "      <th>pl_bmassj</th>\n",
       "      <th>st_teff</th>\n",
       "      <th>pl_eqt</th>\n",
       "      <th>Pl_eh_vol</th>\n",
       "      <th>Pl_J_vol</th>\n",
       "      <th>dens_pl_ert</th>\n",
       "      <th>dens_pl_jup</th>\n",
       "    </tr>\n",
       "  </thead>\n",
       "  <tbody>\n",
       "    <tr>\n",
       "      <th>146</th>\n",
       "      <td>2.355</td>\n",
       "      <td>0.210</td>\n",
       "      <td>6.15000</td>\n",
       "      <td>0.01935</td>\n",
       "      <td>3506.0</td>\n",
       "      <td>488</td>\n",
       "      <td>13.060889</td>\n",
       "      <td>0.009261</td>\n",
       "      <td>0.470873</td>\n",
       "      <td>1953.857143</td>\n",
       "    </tr>\n",
       "    <tr>\n",
       "      <th>143</th>\n",
       "      <td>12.106</td>\n",
       "      <td>1.080</td>\n",
       "      <td>1112.39942</td>\n",
       "      <td>3.50000</td>\n",
       "      <td>5579.0</td>\n",
       "      <td>592</td>\n",
       "      <td>1774.197687</td>\n",
       "      <td>1.259712</td>\n",
       "      <td>0.626989</td>\n",
       "      <td>2598.163634</td>\n",
       "    </tr>\n",
       "    <tr>\n",
       "      <th>191</th>\n",
       "      <td>2.910</td>\n",
       "      <td>0.260</td>\n",
       "      <td>5.39000</td>\n",
       "      <td>0.01696</td>\n",
       "      <td>5372.0</td>\n",
       "      <td>800</td>\n",
       "      <td>24.642171</td>\n",
       "      <td>0.017576</td>\n",
       "      <td>0.218731</td>\n",
       "      <td>902.351046</td>\n",
       "    </tr>\n",
       "    <tr>\n",
       "      <th>175</th>\n",
       "      <td>11.209</td>\n",
       "      <td>1.000</td>\n",
       "      <td>95.34852</td>\n",
       "      <td>0.30000</td>\n",
       "      <td>6219.0</td>\n",
       "      <td>904</td>\n",
       "      <td>1408.317602</td>\n",
       "      <td>1.000000</td>\n",
       "      <td>0.067704</td>\n",
       "      <td>280.537535</td>\n",
       "    </tr>\n",
       "    <tr>\n",
       "      <th>210</th>\n",
       "      <td>2.765</td>\n",
       "      <td>0.247</td>\n",
       "      <td>9.10000</td>\n",
       "      <td>0.02863</td>\n",
       "      <td>4435.0</td>\n",
       "      <td>941</td>\n",
       "      <td>21.139047</td>\n",
       "      <td>0.015069</td>\n",
       "      <td>0.430484</td>\n",
       "      <td>1776.643168</td>\n",
       "    </tr>\n",
       "    <tr>\n",
       "      <th>...</th>\n",
       "      <td>...</td>\n",
       "      <td>...</td>\n",
       "      <td>...</td>\n",
       "      <td>...</td>\n",
       "      <td>...</td>\n",
       "      <td>...</td>\n",
       "      <td>...</td>\n",
       "      <td>...</td>\n",
       "      <td>...</td>\n",
       "      <td>...</td>\n",
       "    </tr>\n",
       "    <tr>\n",
       "      <th>93</th>\n",
       "      <td>14.067</td>\n",
       "      <td>1.255</td>\n",
       "      <td>797.75330</td>\n",
       "      <td>2.51000</td>\n",
       "      <td>6255.0</td>\n",
       "      <td>1404</td>\n",
       "      <td>2783.584839</td>\n",
       "      <td>1.976656</td>\n",
       "      <td>0.286593</td>\n",
       "      <td>1187.441617</td>\n",
       "    </tr>\n",
       "    <tr>\n",
       "      <th>180</th>\n",
       "      <td>11.097</td>\n",
       "      <td>0.990</td>\n",
       "      <td>486.27990</td>\n",
       "      <td>1.53000</td>\n",
       "      <td>5735.0</td>\n",
       "      <td>1370</td>\n",
       "      <td>1366.522410</td>\n",
       "      <td>0.970299</td>\n",
       "      <td>0.355853</td>\n",
       "      <td>1474.536641</td>\n",
       "    </tr>\n",
       "    <tr>\n",
       "      <th>159</th>\n",
       "      <td>13.081</td>\n",
       "      <td>1.167</td>\n",
       "      <td>311.47184</td>\n",
       "      <td>0.98000</td>\n",
       "      <td>5950.0</td>\n",
       "      <td>1534</td>\n",
       "      <td>2238.323410</td>\n",
       "      <td>1.589324</td>\n",
       "      <td>0.139154</td>\n",
       "      <td>576.611407</td>\n",
       "    </tr>\n",
       "    <tr>\n",
       "      <th>10</th>\n",
       "      <td>3.550</td>\n",
       "      <td>0.317</td>\n",
       "      <td>19.70000</td>\n",
       "      <td>0.06198</td>\n",
       "      <td>5788.0</td>\n",
       "      <td>769</td>\n",
       "      <td>44.738875</td>\n",
       "      <td>0.031855</td>\n",
       "      <td>0.440334</td>\n",
       "      <td>1819.464168</td>\n",
       "    </tr>\n",
       "    <tr>\n",
       "      <th>131</th>\n",
       "      <td>3.510</td>\n",
       "      <td>0.313</td>\n",
       "      <td>26.00000</td>\n",
       "      <td>0.08181</td>\n",
       "      <td>5634.0</td>\n",
       "      <td>1860</td>\n",
       "      <td>43.243551</td>\n",
       "      <td>0.030664</td>\n",
       "      <td>0.601247</td>\n",
       "      <td>2494.842317</td>\n",
       "    </tr>\n",
       "  </tbody>\n",
       "</table>\n",
       "<p>106 rows × 10 columns</p>\n",
       "</div>"
      ],
      "text/plain": [
       "     pl_rade  pl_radj   pl_bmasse  pl_bmassj  st_teff  pl_eqt    Pl_eh_vol  \\\n",
       "146    2.355    0.210     6.15000    0.01935   3506.0     488    13.060889   \n",
       "143   12.106    1.080  1112.39942    3.50000   5579.0     592  1774.197687   \n",
       "191    2.910    0.260     5.39000    0.01696   5372.0     800    24.642171   \n",
       "175   11.209    1.000    95.34852    0.30000   6219.0     904  1408.317602   \n",
       "210    2.765    0.247     9.10000    0.02863   4435.0     941    21.139047   \n",
       "..       ...      ...         ...        ...      ...     ...          ...   \n",
       "93    14.067    1.255   797.75330    2.51000   6255.0    1404  2783.584839   \n",
       "180   11.097    0.990   486.27990    1.53000   5735.0    1370  1366.522410   \n",
       "159   13.081    1.167   311.47184    0.98000   5950.0    1534  2238.323410   \n",
       "10     3.550    0.317    19.70000    0.06198   5788.0     769    44.738875   \n",
       "131    3.510    0.313    26.00000    0.08181   5634.0    1860    43.243551   \n",
       "\n",
       "     Pl_J_vol  dens_pl_ert  dens_pl_jup  \n",
       "146  0.009261     0.470873  1953.857143  \n",
       "143  1.259712     0.626989  2598.163634  \n",
       "191  0.017576     0.218731   902.351046  \n",
       "175  1.000000     0.067704   280.537535  \n",
       "210  0.015069     0.430484  1776.643168  \n",
       "..        ...          ...          ...  \n",
       "93   1.976656     0.286593  1187.441617  \n",
       "180  0.970299     0.355853  1474.536641  \n",
       "159  1.589324     0.139154   576.611407  \n",
       "10   0.031855     0.440334  1819.464168  \n",
       "131  0.030664     0.601247  2494.842317  \n",
       "\n",
       "[106 rows x 10 columns]"
      ]
     },
     "execution_count": 15,
     "metadata": {},
     "output_type": "execute_result"
    }
   ],
   "source": [
    "df.sample(frac=0.5)\n",
    "\n",
    "#Al azar se muestra una fracción de los datos"
   ]
  },
  {
   "cell_type": "code",
   "execution_count": 16,
   "id": "8a5962b8-3a23-4b06-82bd-2a646a9fa452",
   "metadata": {},
   "outputs": [
    {
     "data": {
      "text/html": [
       "<div>\n",
       "<style scoped>\n",
       "    .dataframe tbody tr th:only-of-type {\n",
       "        vertical-align: middle;\n",
       "    }\n",
       "\n",
       "    .dataframe tbody tr th {\n",
       "        vertical-align: top;\n",
       "    }\n",
       "\n",
       "    .dataframe thead th {\n",
       "        text-align: right;\n",
       "    }\n",
       "</style>\n",
       "<table border=\"1\" class=\"dataframe\">\n",
       "  <thead>\n",
       "    <tr style=\"text-align: right;\">\n",
       "      <th></th>\n",
       "      <th>pl_rade</th>\n",
       "      <th>pl_radj</th>\n",
       "      <th>pl_bmasse</th>\n",
       "      <th>pl_bmassj</th>\n",
       "      <th>st_teff</th>\n",
       "      <th>pl_eqt</th>\n",
       "      <th>Pl_eh_vol</th>\n",
       "      <th>Pl_J_vol</th>\n",
       "      <th>dens_pl_ert</th>\n",
       "      <th>dens_pl_jup</th>\n",
       "    </tr>\n",
       "  </thead>\n",
       "  <tbody>\n",
       "    <tr>\n",
       "      <th>45</th>\n",
       "      <td>1.521</td>\n",
       "      <td>0.136</td>\n",
       "      <td>1.94000</td>\n",
       "      <td>0.00610</td>\n",
       "      <td>3415.0</td>\n",
       "      <td>416</td>\n",
       "      <td>3.518744</td>\n",
       "      <td>0.002515</td>\n",
       "      <td>0.551335</td>\n",
       "      <td>2267.685545</td>\n",
       "    </tr>\n",
       "    <tr>\n",
       "      <th>90</th>\n",
       "      <td>1.280</td>\n",
       "      <td>0.114</td>\n",
       "      <td>3.21000</td>\n",
       "      <td>0.01010</td>\n",
       "      <td>3496.0</td>\n",
       "      <td>682</td>\n",
       "      <td>2.097152</td>\n",
       "      <td>0.001482</td>\n",
       "      <td>1.530652</td>\n",
       "      <td>6374.946459</td>\n",
       "    </tr>\n",
       "    <tr>\n",
       "      <th>42</th>\n",
       "      <td>1.390</td>\n",
       "      <td>0.124</td>\n",
       "      <td>4.60000</td>\n",
       "      <td>0.01447</td>\n",
       "      <td>3800.0</td>\n",
       "      <td>965</td>\n",
       "      <td>2.685619</td>\n",
       "      <td>0.001907</td>\n",
       "      <td>1.712832</td>\n",
       "      <td>7096.973728</td>\n",
       "    </tr>\n",
       "    <tr>\n",
       "      <th>138</th>\n",
       "      <td>10.368</td>\n",
       "      <td>0.925</td>\n",
       "      <td>105.83686</td>\n",
       "      <td>0.33300</td>\n",
       "      <td>5607.0</td>\n",
       "      <td>1534</td>\n",
       "      <td>1114.512556</td>\n",
       "      <td>0.791453</td>\n",
       "      <td>0.094963</td>\n",
       "      <td>393.449282</td>\n",
       "    </tr>\n",
       "    <tr>\n",
       "      <th>107</th>\n",
       "      <td>2.120</td>\n",
       "      <td>0.189</td>\n",
       "      <td>14.00000</td>\n",
       "      <td>0.04405</td>\n",
       "      <td>3985.0</td>\n",
       "      <td>673</td>\n",
       "      <td>9.528128</td>\n",
       "      <td>0.006751</td>\n",
       "      <td>1.469338</td>\n",
       "      <td>6101.410177</td>\n",
       "    </tr>\n",
       "  </tbody>\n",
       "</table>\n",
       "</div>"
      ],
      "text/plain": [
       "     pl_rade  pl_radj  pl_bmasse  pl_bmassj  st_teff  pl_eqt    Pl_eh_vol  \\\n",
       "45     1.521    0.136    1.94000    0.00610   3415.0     416     3.518744   \n",
       "90     1.280    0.114    3.21000    0.01010   3496.0     682     2.097152   \n",
       "42     1.390    0.124    4.60000    0.01447   3800.0     965     2.685619   \n",
       "138   10.368    0.925  105.83686    0.33300   5607.0    1534  1114.512556   \n",
       "107    2.120    0.189   14.00000    0.04405   3985.0     673     9.528128   \n",
       "\n",
       "     Pl_J_vol  dens_pl_ert  dens_pl_jup  \n",
       "45   0.002515     0.551335  2267.685545  \n",
       "90   0.001482     1.530652  6374.946459  \n",
       "42   0.001907     1.712832  7096.973728  \n",
       "138  0.791453     0.094963   393.449282  \n",
       "107  0.006751     1.469338  6101.410177  "
      ]
     },
     "execution_count": 16,
     "metadata": {},
     "output_type": "execute_result"
    }
   ],
   "source": [
    "df.sample(n=5)\n",
    "\n",
    "#Al azar se toman 5 filas de datos"
   ]
  },
  {
   "cell_type": "code",
   "execution_count": 17,
   "id": "a1509762-606f-445f-8de5-7fabffa40edb",
   "metadata": {},
   "outputs": [
    {
     "data": {
      "text/html": [
       "<div>\n",
       "<style scoped>\n",
       "    .dataframe tbody tr th:only-of-type {\n",
       "        vertical-align: middle;\n",
       "    }\n",
       "\n",
       "    .dataframe tbody tr th {\n",
       "        vertical-align: top;\n",
       "    }\n",
       "\n",
       "    .dataframe thead th {\n",
       "        text-align: right;\n",
       "    }\n",
       "</style>\n",
       "<table border=\"1\" class=\"dataframe\">\n",
       "  <thead>\n",
       "    <tr style=\"text-align: right;\">\n",
       "      <th></th>\n",
       "      <th>pl_rade</th>\n",
       "      <th>pl_radj</th>\n",
       "      <th>pl_bmasse</th>\n",
       "      <th>pl_bmassj</th>\n",
       "      <th>st_teff</th>\n",
       "      <th>pl_eqt</th>\n",
       "      <th>Pl_eh_vol</th>\n",
       "      <th>Pl_J_vol</th>\n",
       "      <th>dens_pl_ert</th>\n",
       "      <th>dens_pl_jup</th>\n",
       "    </tr>\n",
       "  </thead>\n",
       "  <tbody>\n",
       "    <tr>\n",
       "      <th>157</th>\n",
       "      <td>23.539</td>\n",
       "      <td>2.100</td>\n",
       "      <td>375.03752</td>\n",
       "      <td>1.180</td>\n",
       "      <td>5810.0</td>\n",
       "      <td>1498</td>\n",
       "      <td>13042.595540</td>\n",
       "      <td>9.261000</td>\n",
       "      <td>0.028755</td>\n",
       "      <td>119.149945</td>\n",
       "    </tr>\n",
       "    <tr>\n",
       "      <th>39</th>\n",
       "      <td>22.754</td>\n",
       "      <td>2.030</td>\n",
       "      <td>1021.18779</td>\n",
       "      <td>3.213</td>\n",
       "      <td>4590.0</td>\n",
       "      <td>1411</td>\n",
       "      <td>11780.758720</td>\n",
       "      <td>8.365427</td>\n",
       "      <td>0.086683</td>\n",
       "      <td>359.163615</td>\n",
       "    </tr>\n",
       "    <tr>\n",
       "      <th>196</th>\n",
       "      <td>19.851</td>\n",
       "      <td>1.771</td>\n",
       "      <td>279.69040</td>\n",
       "      <td>0.880</td>\n",
       "      <td>6460.0</td>\n",
       "      <td>1749</td>\n",
       "      <td>7822.528752</td>\n",
       "      <td>5.554637</td>\n",
       "      <td>0.035755</td>\n",
       "      <td>148.148313</td>\n",
       "    </tr>\n",
       "  </tbody>\n",
       "</table>\n",
       "</div>"
      ],
      "text/plain": [
       "     pl_rade  pl_radj   pl_bmasse  pl_bmassj  st_teff  pl_eqt     Pl_eh_vol  \\\n",
       "157   23.539    2.100   375.03752      1.180   5810.0    1498  13042.595540   \n",
       "39    22.754    2.030  1021.18779      3.213   4590.0    1411  11780.758720   \n",
       "196   19.851    1.771   279.69040      0.880   6460.0    1749   7822.528752   \n",
       "\n",
       "     Pl_J_vol  dens_pl_ert  dens_pl_jup  \n",
       "157  9.261000     0.028755   119.149945  \n",
       "39   8.365427     0.086683   359.163615  \n",
       "196  5.554637     0.035755   148.148313  "
      ]
     },
     "execution_count": 17,
     "metadata": {},
     "output_type": "execute_result"
    }
   ],
   "source": [
    "n=3\n",
    "\n",
    "df.nlargest(n, 'pl_rade')"
   ]
  },
  {
   "cell_type": "code",
   "execution_count": 18,
   "id": "439ca120-51c1-47c3-91e7-533a3c309937",
   "metadata": {},
   "outputs": [
    {
     "data": {
      "text/html": [
       "<div>\n",
       "<style scoped>\n",
       "    .dataframe tbody tr th:only-of-type {\n",
       "        vertical-align: middle;\n",
       "    }\n",
       "\n",
       "    .dataframe tbody tr th {\n",
       "        vertical-align: top;\n",
       "    }\n",
       "\n",
       "    .dataframe thead th {\n",
       "        text-align: right;\n",
       "    }\n",
       "</style>\n",
       "<table border=\"1\" class=\"dataframe\">\n",
       "  <thead>\n",
       "    <tr style=\"text-align: right;\">\n",
       "      <th></th>\n",
       "      <th>pl_rade</th>\n",
       "      <th>pl_radj</th>\n",
       "      <th>pl_bmasse</th>\n",
       "      <th>pl_bmassj</th>\n",
       "      <th>st_teff</th>\n",
       "      <th>pl_eqt</th>\n",
       "      <th>Pl_eh_vol</th>\n",
       "      <th>Pl_J_vol</th>\n",
       "      <th>dens_pl_ert</th>\n",
       "      <th>dens_pl_jup</th>\n",
       "    </tr>\n",
       "  </thead>\n",
       "  <tbody>\n",
       "    <tr>\n",
       "      <th>0</th>\n",
       "      <td>2.610</td>\n",
       "      <td>0.233</td>\n",
       "      <td>22.70</td>\n",
       "      <td>0.07142</td>\n",
       "      <td>4640.0</td>\n",
       "      <td>422</td>\n",
       "      <td>17.779581</td>\n",
       "      <td>0.012649</td>\n",
       "      <td>1.276749</td>\n",
       "      <td>5279.852677</td>\n",
       "    </tr>\n",
       "    <tr>\n",
       "      <th>1</th>\n",
       "      <td>2.130</td>\n",
       "      <td>0.190</td>\n",
       "      <td>3.34</td>\n",
       "      <td>0.01051</td>\n",
       "      <td>3556.0</td>\n",
       "      <td>693</td>\n",
       "      <td>9.663597</td>\n",
       "      <td>0.006859</td>\n",
       "      <td>0.345628</td>\n",
       "      <td>1432.885986</td>\n",
       "    </tr>\n",
       "    <tr>\n",
       "      <th>2</th>\n",
       "      <td>1.264</td>\n",
       "      <td>0.113</td>\n",
       "      <td>1.86</td>\n",
       "      <td>0.00585</td>\n",
       "      <td>3347.0</td>\n",
       "      <td>773</td>\n",
       "      <td>2.019488</td>\n",
       "      <td>0.001443</td>\n",
       "      <td>0.921028</td>\n",
       "      <td>3791.318391</td>\n",
       "    </tr>\n",
       "  </tbody>\n",
       "</table>\n",
       "</div>"
      ],
      "text/plain": [
       "   pl_rade  pl_radj  pl_bmasse  pl_bmassj  st_teff  pl_eqt  Pl_eh_vol  \\\n",
       "0    2.610    0.233      22.70    0.07142   4640.0     422  17.779581   \n",
       "1    2.130    0.190       3.34    0.01051   3556.0     693   9.663597   \n",
       "2    1.264    0.113       1.86    0.00585   3347.0     773   2.019488   \n",
       "\n",
       "   Pl_J_vol  dens_pl_ert  dens_pl_jup  \n",
       "0  0.012649     1.276749  5279.852677  \n",
       "1  0.006859     0.345628  1432.885986  \n",
       "2  0.001443     0.921028  3791.318391  "
      ]
     },
     "execution_count": 18,
     "metadata": {},
     "output_type": "execute_result"
    }
   ],
   "source": [
    "df.head(n)"
   ]
  },
  {
   "cell_type": "code",
   "execution_count": 19,
   "id": "3c862f30-199a-479c-8658-b322116a6a6a",
   "metadata": {},
   "outputs": [
    {
     "data": {
      "text/html": [
       "<div>\n",
       "<style scoped>\n",
       "    .dataframe tbody tr th:only-of-type {\n",
       "        vertical-align: middle;\n",
       "    }\n",
       "\n",
       "    .dataframe tbody tr th {\n",
       "        vertical-align: top;\n",
       "    }\n",
       "\n",
       "    .dataframe thead th {\n",
       "        text-align: right;\n",
       "    }\n",
       "</style>\n",
       "<table border=\"1\" class=\"dataframe\">\n",
       "  <thead>\n",
       "    <tr style=\"text-align: right;\">\n",
       "      <th></th>\n",
       "      <th>pl_rade</th>\n",
       "      <th>pl_radj</th>\n",
       "      <th>pl_bmasse</th>\n",
       "      <th>pl_bmassj</th>\n",
       "      <th>st_teff</th>\n",
       "      <th>pl_eqt</th>\n",
       "      <th>Pl_eh_vol</th>\n",
       "      <th>Pl_J_vol</th>\n",
       "      <th>dens_pl_ert</th>\n",
       "      <th>dens_pl_jup</th>\n",
       "    </tr>\n",
       "  </thead>\n",
       "  <tbody>\n",
       "    <tr>\n",
       "      <th>209</th>\n",
       "      <td>9.550</td>\n",
       "      <td>0.852</td>\n",
       "      <td>55.30242</td>\n",
       "      <td>0.17400</td>\n",
       "      <td>5710.0</td>\n",
       "      <td>1526</td>\n",
       "      <td>870.983875</td>\n",
       "      <td>0.618470</td>\n",
       "      <td>0.063494</td>\n",
       "      <td>263.087483</td>\n",
       "    </tr>\n",
       "    <tr>\n",
       "      <th>210</th>\n",
       "      <td>2.765</td>\n",
       "      <td>0.247</td>\n",
       "      <td>9.10000</td>\n",
       "      <td>0.02863</td>\n",
       "      <td>4435.0</td>\n",
       "      <td>941</td>\n",
       "      <td>21.139047</td>\n",
       "      <td>0.015069</td>\n",
       "      <td>0.430484</td>\n",
       "      <td>1776.643168</td>\n",
       "    </tr>\n",
       "    <tr>\n",
       "      <th>211</th>\n",
       "      <td>10.400</td>\n",
       "      <td>0.928</td>\n",
       "      <td>4386.05400</td>\n",
       "      <td>13.80000</td>\n",
       "      <td>4710.0</td>\n",
       "      <td>163</td>\n",
       "      <td>1124.864000</td>\n",
       "      <td>0.799179</td>\n",
       "      <td>3.899197</td>\n",
       "      <td>16147.484620</td>\n",
       "    </tr>\n",
       "  </tbody>\n",
       "</table>\n",
       "</div>"
      ],
      "text/plain": [
       "     pl_rade  pl_radj   pl_bmasse  pl_bmassj  st_teff  pl_eqt    Pl_eh_vol  \\\n",
       "209    9.550    0.852    55.30242    0.17400   5710.0    1526   870.983875   \n",
       "210    2.765    0.247     9.10000    0.02863   4435.0     941    21.139047   \n",
       "211   10.400    0.928  4386.05400   13.80000   4710.0     163  1124.864000   \n",
       "\n",
       "     Pl_J_vol  dens_pl_ert   dens_pl_jup  \n",
       "209  0.618470     0.063494    263.087483  \n",
       "210  0.015069     0.430484   1776.643168  \n",
       "211  0.799179     3.899197  16147.484620  "
      ]
     },
     "execution_count": 19,
     "metadata": {},
     "output_type": "execute_result"
    }
   ],
   "source": [
    "df.tail(n)"
   ]
  },
  {
   "cell_type": "code",
   "execution_count": 20,
   "id": "dd792b6d-7ba1-47bb-8ea9-fc5a04561ba4",
   "metadata": {},
   "outputs": [
    {
     "data": {
      "text/html": [
       "<div>\n",
       "<style scoped>\n",
       "    .dataframe tbody tr th:only-of-type {\n",
       "        vertical-align: middle;\n",
       "    }\n",
       "\n",
       "    .dataframe tbody tr th {\n",
       "        vertical-align: top;\n",
       "    }\n",
       "\n",
       "    .dataframe thead th {\n",
       "        text-align: right;\n",
       "    }\n",
       "</style>\n",
       "<table border=\"1\" class=\"dataframe\">\n",
       "  <thead>\n",
       "    <tr style=\"text-align: right;\">\n",
       "      <th></th>\n",
       "      <th>pl_rade</th>\n",
       "      <th>pl_bmasse</th>\n",
       "      <th>st_teff</th>\n",
       "    </tr>\n",
       "  </thead>\n",
       "  <tbody>\n",
       "    <tr>\n",
       "      <th>0</th>\n",
       "      <td>2.610</td>\n",
       "      <td>22.70000</td>\n",
       "      <td>4640.0</td>\n",
       "    </tr>\n",
       "    <tr>\n",
       "      <th>1</th>\n",
       "      <td>2.130</td>\n",
       "      <td>3.34000</td>\n",
       "      <td>3556.0</td>\n",
       "    </tr>\n",
       "    <tr>\n",
       "      <th>2</th>\n",
       "      <td>1.264</td>\n",
       "      <td>1.86000</td>\n",
       "      <td>3347.0</td>\n",
       "    </tr>\n",
       "    <tr>\n",
       "      <th>3</th>\n",
       "      <td>1.217</td>\n",
       "      <td>1.84000</td>\n",
       "      <td>3505.0</td>\n",
       "    </tr>\n",
       "    <tr>\n",
       "      <th>4</th>\n",
       "      <td>0.718</td>\n",
       "      <td>0.54600</td>\n",
       "      <td>3522.0</td>\n",
       "    </tr>\n",
       "    <tr>\n",
       "      <th>...</th>\n",
       "      <td>...</td>\n",
       "      <td>...</td>\n",
       "      <td>...</td>\n",
       "    </tr>\n",
       "    <tr>\n",
       "      <th>207</th>\n",
       "      <td>11.994</td>\n",
       "      <td>301.93850</td>\n",
       "      <td>6261.0</td>\n",
       "    </tr>\n",
       "    <tr>\n",
       "      <th>208</th>\n",
       "      <td>13.126</td>\n",
       "      <td>211.99261</td>\n",
       "      <td>5570.0</td>\n",
       "    </tr>\n",
       "    <tr>\n",
       "      <th>209</th>\n",
       "      <td>9.550</td>\n",
       "      <td>55.30242</td>\n",
       "      <td>5710.0</td>\n",
       "    </tr>\n",
       "    <tr>\n",
       "      <th>210</th>\n",
       "      <td>2.765</td>\n",
       "      <td>9.10000</td>\n",
       "      <td>4435.0</td>\n",
       "    </tr>\n",
       "    <tr>\n",
       "      <th>211</th>\n",
       "      <td>10.400</td>\n",
       "      <td>4386.05400</td>\n",
       "      <td>4710.0</td>\n",
       "    </tr>\n",
       "  </tbody>\n",
       "</table>\n",
       "<p>212 rows × 3 columns</p>\n",
       "</div>"
      ],
      "text/plain": [
       "     pl_rade   pl_bmasse  st_teff\n",
       "0      2.610    22.70000   4640.0\n",
       "1      2.130     3.34000   3556.0\n",
       "2      1.264     1.86000   3347.0\n",
       "3      1.217     1.84000   3505.0\n",
       "4      0.718     0.54600   3522.0\n",
       "..       ...         ...      ...\n",
       "207   11.994   301.93850   6261.0\n",
       "208   13.126   211.99261   5570.0\n",
       "209    9.550    55.30242   5710.0\n",
       "210    2.765     9.10000   4435.0\n",
       "211   10.400  4386.05400   4710.0\n",
       "\n",
       "[212 rows x 3 columns]"
      ]
     },
     "execution_count": 20,
     "metadata": {},
     "output_type": "execute_result"
    }
   ],
   "source": [
    "df[['pl_rade', 'pl_bmasse', 'st_teff']]"
   ]
  },
  {
   "cell_type": "markdown",
   "id": "4994f298-18f7-47fb-bba8-a7acf012745b",
   "metadata": {},
   "source": [
    "Se seleccionan columnas en especifico a partir de una entrada"
   ]
  },
  {
   "cell_type": "code",
   "execution_count": 21,
   "id": "286925a2-e9d5-43ce-9720-fb2389f62f4a",
   "metadata": {},
   "outputs": [
    {
     "data": {
      "text/html": [
       "<div>\n",
       "<style scoped>\n",
       "    .dataframe tbody tr th:only-of-type {\n",
       "        vertical-align: middle;\n",
       "    }\n",
       "\n",
       "    .dataframe tbody tr th {\n",
       "        vertical-align: top;\n",
       "    }\n",
       "\n",
       "    .dataframe thead th {\n",
       "        text-align: right;\n",
       "    }\n",
       "</style>\n",
       "<table border=\"1\" class=\"dataframe\">\n",
       "  <thead>\n",
       "    <tr style=\"text-align: right;\">\n",
       "      <th></th>\n",
       "      <th>pl_bmasse</th>\n",
       "      <th>pl_bmassj</th>\n",
       "    </tr>\n",
       "  </thead>\n",
       "  <tbody>\n",
       "    <tr>\n",
       "      <th>0</th>\n",
       "      <td>22.70000</td>\n",
       "      <td>0.07142</td>\n",
       "    </tr>\n",
       "    <tr>\n",
       "      <th>1</th>\n",
       "      <td>3.34000</td>\n",
       "      <td>0.01051</td>\n",
       "    </tr>\n",
       "    <tr>\n",
       "      <th>2</th>\n",
       "      <td>1.86000</td>\n",
       "      <td>0.00585</td>\n",
       "    </tr>\n",
       "    <tr>\n",
       "      <th>3</th>\n",
       "      <td>1.84000</td>\n",
       "      <td>0.00579</td>\n",
       "    </tr>\n",
       "    <tr>\n",
       "      <th>4</th>\n",
       "      <td>0.54600</td>\n",
       "      <td>0.00172</td>\n",
       "    </tr>\n",
       "    <tr>\n",
       "      <th>...</th>\n",
       "      <td>...</td>\n",
       "      <td>...</td>\n",
       "    </tr>\n",
       "    <tr>\n",
       "      <th>207</th>\n",
       "      <td>301.93850</td>\n",
       "      <td>0.95000</td>\n",
       "    </tr>\n",
       "    <tr>\n",
       "      <th>208</th>\n",
       "      <td>211.99261</td>\n",
       "      <td>0.66700</td>\n",
       "    </tr>\n",
       "    <tr>\n",
       "      <th>209</th>\n",
       "      <td>55.30242</td>\n",
       "      <td>0.17400</td>\n",
       "    </tr>\n",
       "    <tr>\n",
       "      <th>210</th>\n",
       "      <td>9.10000</td>\n",
       "      <td>0.02863</td>\n",
       "    </tr>\n",
       "    <tr>\n",
       "      <th>211</th>\n",
       "      <td>4386.05400</td>\n",
       "      <td>13.80000</td>\n",
       "    </tr>\n",
       "  </tbody>\n",
       "</table>\n",
       "<p>212 rows × 2 columns</p>\n",
       "</div>"
      ],
      "text/plain": [
       "      pl_bmasse  pl_bmassj\n",
       "0      22.70000    0.07142\n",
       "1       3.34000    0.01051\n",
       "2       1.86000    0.00585\n",
       "3       1.84000    0.00579\n",
       "4       0.54600    0.00172\n",
       "..          ...        ...\n",
       "207   301.93850    0.95000\n",
       "208   211.99261    0.66700\n",
       "209    55.30242    0.17400\n",
       "210     9.10000    0.02863\n",
       "211  4386.05400   13.80000\n",
       "\n",
       "[212 rows x 2 columns]"
      ]
     },
     "execution_count": 21,
     "metadata": {},
     "output_type": "execute_result"
    }
   ],
   "source": [
    "df.filter(regex='bm') \n",
    "#Se filtran aquellos datos que cumplen con una expresion dada"
   ]
  },
  {
   "cell_type": "markdown",
   "id": "0004b1e4-3900-44c3-b227-efd876d83c99",
   "metadata": {},
   "source": [
    "### query permite usar expresiones Booleanas para filtrar columnas"
   ]
  },
  {
   "cell_type": "code",
   "execution_count": 22,
   "id": "54992d0f-095f-4d7a-b070-82962a9991f6",
   "metadata": {},
   "outputs": [
    {
     "data": {
      "text/html": [
       "<div>\n",
       "<style scoped>\n",
       "    .dataframe tbody tr th:only-of-type {\n",
       "        vertical-align: middle;\n",
       "    }\n",
       "\n",
       "    .dataframe tbody tr th {\n",
       "        vertical-align: top;\n",
       "    }\n",
       "\n",
       "    .dataframe thead th {\n",
       "        text-align: right;\n",
       "    }\n",
       "</style>\n",
       "<table border=\"1\" class=\"dataframe\">\n",
       "  <thead>\n",
       "    <tr style=\"text-align: right;\">\n",
       "      <th></th>\n",
       "      <th>pl_rade</th>\n",
       "      <th>pl_radj</th>\n",
       "      <th>pl_bmasse</th>\n",
       "      <th>pl_bmassj</th>\n",
       "      <th>st_teff</th>\n",
       "      <th>pl_eqt</th>\n",
       "      <th>Pl_eh_vol</th>\n",
       "      <th>Pl_J_vol</th>\n",
       "      <th>dens_pl_ert</th>\n",
       "      <th>dens_pl_jup</th>\n",
       "    </tr>\n",
       "  </thead>\n",
       "  <tbody>\n",
       "    <tr>\n",
       "      <th>178</th>\n",
       "      <td>11.680</td>\n",
       "      <td>1.042</td>\n",
       "      <td>4096.80817</td>\n",
       "      <td>12.89</td>\n",
       "      <td>6264.0</td>\n",
       "      <td>1677</td>\n",
       "      <td>1593.413632</td>\n",
       "      <td>1.131366</td>\n",
       "      <td>2.571096</td>\n",
       "      <td>10654.16657</td>\n",
       "    </tr>\n",
       "    <tr>\n",
       "      <th>183</th>\n",
       "      <td>11.994</td>\n",
       "      <td>1.070</td>\n",
       "      <td>4449.62000</td>\n",
       "      <td>14.00</td>\n",
       "      <td>3350.0</td>\n",
       "      <td>760</td>\n",
       "      <td>1725.409296</td>\n",
       "      <td>1.225043</td>\n",
       "      <td>2.578885</td>\n",
       "      <td>10686.76906</td>\n",
       "    </tr>\n",
       "    <tr>\n",
       "      <th>211</th>\n",
       "      <td>10.400</td>\n",
       "      <td>0.928</td>\n",
       "      <td>4386.05400</td>\n",
       "      <td>13.80</td>\n",
       "      <td>4710.0</td>\n",
       "      <td>163</td>\n",
       "      <td>1124.864000</td>\n",
       "      <td>0.799179</td>\n",
       "      <td>3.899197</td>\n",
       "      <td>16147.48462</td>\n",
       "    </tr>\n",
       "  </tbody>\n",
       "</table>\n",
       "</div>"
      ],
      "text/plain": [
       "     pl_rade  pl_radj   pl_bmasse  pl_bmassj  st_teff  pl_eqt    Pl_eh_vol  \\\n",
       "178   11.680    1.042  4096.80817      12.89   6264.0    1677  1593.413632   \n",
       "183   11.994    1.070  4449.62000      14.00   3350.0     760  1725.409296   \n",
       "211   10.400    0.928  4386.05400      13.80   4710.0     163  1124.864000   \n",
       "\n",
       "     Pl_J_vol  dens_pl_ert  dens_pl_jup  \n",
       "178  1.131366     2.571096  10654.16657  \n",
       "183  1.225043     2.578885  10686.76906  \n",
       "211  0.799179     3.899197  16147.48462  "
      ]
     },
     "execution_count": 22,
     "metadata": {},
     "output_type": "execute_result"
    }
   ],
   "source": [
    "df.query('pl_bmassj > 7')"
   ]
  },
  {
   "cell_type": "code",
   "execution_count": 23,
   "id": "c346b1d0-2394-4285-9327-8662ed9071f6",
   "metadata": {},
   "outputs": [
    {
     "data": {
      "text/html": [
       "<div>\n",
       "<style scoped>\n",
       "    .dataframe tbody tr th:only-of-type {\n",
       "        vertical-align: middle;\n",
       "    }\n",
       "\n",
       "    .dataframe tbody tr th {\n",
       "        vertical-align: top;\n",
       "    }\n",
       "\n",
       "    .dataframe thead th {\n",
       "        text-align: right;\n",
       "    }\n",
       "</style>\n",
       "<table border=\"1\" class=\"dataframe\">\n",
       "  <thead>\n",
       "    <tr style=\"text-align: right;\">\n",
       "      <th></th>\n",
       "      <th>pl_rade</th>\n",
       "      <th>pl_radj</th>\n",
       "      <th>pl_bmasse</th>\n",
       "      <th>pl_bmassj</th>\n",
       "      <th>st_teff</th>\n",
       "      <th>pl_eqt</th>\n",
       "      <th>Pl_eh_vol</th>\n",
       "      <th>Pl_J_vol</th>\n",
       "      <th>dens_pl_ert</th>\n",
       "      <th>dens_pl_jup</th>\n",
       "    </tr>\n",
       "  </thead>\n",
       "  <tbody>\n",
       "    <tr>\n",
       "      <th>40</th>\n",
       "      <td>3.0</td>\n",
       "      <td>0.268</td>\n",
       "      <td>379.0</td>\n",
       "      <td>1.19247</td>\n",
       "      <td>5991.0</td>\n",
       "      <td>1060</td>\n",
       "      <td>27.0</td>\n",
       "      <td>0.019249</td>\n",
       "      <td>14.037077</td>\n",
       "      <td>57931.23696</td>\n",
       "    </tr>\n",
       "  </tbody>\n",
       "</table>\n",
       "</div>"
      ],
      "text/plain": [
       "    pl_rade  pl_radj  pl_bmasse  pl_bmassj  st_teff  pl_eqt  Pl_eh_vol  \\\n",
       "40      3.0    0.268      379.0    1.19247   5991.0    1060       27.0   \n",
       "\n",
       "    Pl_J_vol  dens_pl_ert  dens_pl_jup  \n",
       "40  0.019249    14.037077  57931.23696  "
      ]
     },
     "execution_count": 23,
     "metadata": {},
     "output_type": "execute_result"
    }
   ],
   "source": [
    "df.query('pl_bmassj > 1 and pl_rade < 8')"
   ]
  },
  {
   "cell_type": "markdown",
   "id": "dbd40a0d-25bb-4122-a168-6ab9d35978ea",
   "metadata": {},
   "source": [
    "## Seleccionar Filas y Columnas con df.loc[] y df.iloc[]\n",
    "\n",
    "   - df.loc[]: Se usa para acceder a un grupo de filas y columnas por etiquetas o un condicionado booleano.\n",
    "\n",
    "   - df.iloc[]: Se usa para acceder a un grupo de filas y columnas por índices de posición (números enteros)."
   ]
  },
  {
   "cell_type": "code",
   "execution_count": 24,
   "id": "7c9cdd7b-9d87-400a-a2e0-f452d26190cb",
   "metadata": {},
   "outputs": [
    {
     "data": {
      "text/html": [
       "<div>\n",
       "<style scoped>\n",
       "    .dataframe tbody tr th:only-of-type {\n",
       "        vertical-align: middle;\n",
       "    }\n",
       "\n",
       "    .dataframe tbody tr th {\n",
       "        vertical-align: top;\n",
       "    }\n",
       "\n",
       "    .dataframe thead th {\n",
       "        text-align: right;\n",
       "    }\n",
       "</style>\n",
       "<table border=\"1\" class=\"dataframe\">\n",
       "  <thead>\n",
       "    <tr style=\"text-align: right;\">\n",
       "      <th></th>\n",
       "      <th>pl_rade</th>\n",
       "      <th>pl_radj</th>\n",
       "      <th>pl_bmasse</th>\n",
       "      <th>pl_bmassj</th>\n",
       "      <th>st_teff</th>\n",
       "      <th>pl_eqt</th>\n",
       "      <th>Pl_eh_vol</th>\n",
       "      <th>Pl_J_vol</th>\n",
       "      <th>dens_pl_ert</th>\n",
       "      <th>dens_pl_jup</th>\n",
       "    </tr>\n",
       "  </thead>\n",
       "  <tbody>\n",
       "    <tr>\n",
       "      <th>10</th>\n",
       "      <td>3.550</td>\n",
       "      <td>0.317</td>\n",
       "      <td>19.70000</td>\n",
       "      <td>0.06198</td>\n",
       "      <td>5788.0</td>\n",
       "      <td>769</td>\n",
       "      <td>44.738875</td>\n",
       "      <td>0.031855</td>\n",
       "      <td>0.440334</td>\n",
       "      <td>1819.464168</td>\n",
       "    </tr>\n",
       "    <tr>\n",
       "      <th>11</th>\n",
       "      <td>3.410</td>\n",
       "      <td>0.304</td>\n",
       "      <td>10.00000</td>\n",
       "      <td>0.03146</td>\n",
       "      <td>5348.0</td>\n",
       "      <td>880</td>\n",
       "      <td>39.651821</td>\n",
       "      <td>0.028094</td>\n",
       "      <td>0.252196</td>\n",
       "      <td>1047.147088</td>\n",
       "    </tr>\n",
       "    <tr>\n",
       "      <th>12</th>\n",
       "      <td>3.195</td>\n",
       "      <td>0.285</td>\n",
       "      <td>8.00000</td>\n",
       "      <td>0.02517</td>\n",
       "      <td>5348.0</td>\n",
       "      <td>600</td>\n",
       "      <td>32.614640</td>\n",
       "      <td>0.023149</td>\n",
       "      <td>0.245289</td>\n",
       "      <td>1016.759777</td>\n",
       "    </tr>\n",
       "    <tr>\n",
       "      <th>13</th>\n",
       "      <td>2.995</td>\n",
       "      <td>0.267</td>\n",
       "      <td>2.80000</td>\n",
       "      <td>0.00881</td>\n",
       "      <td>5348.0</td>\n",
       "      <td>540</td>\n",
       "      <td>26.865225</td>\n",
       "      <td>0.019034</td>\n",
       "      <td>0.104224</td>\n",
       "      <td>432.824510</td>\n",
       "    </tr>\n",
       "    <tr>\n",
       "      <th>14</th>\n",
       "      <td>17.318</td>\n",
       "      <td>1.545</td>\n",
       "      <td>323.23311</td>\n",
       "      <td>1.01700</td>\n",
       "      <td>6272.0</td>\n",
       "      <td>2132</td>\n",
       "      <td>5193.895481</td>\n",
       "      <td>3.687954</td>\n",
       "      <td>0.062233</td>\n",
       "      <td>257.872614</td>\n",
       "    </tr>\n",
       "    <tr>\n",
       "      <th>15</th>\n",
       "      <td>1.720</td>\n",
       "      <td>0.153</td>\n",
       "      <td>7.42000</td>\n",
       "      <td>0.02335</td>\n",
       "      <td>5596.0</td>\n",
       "      <td>2141</td>\n",
       "      <td>5.088448</td>\n",
       "      <td>0.003582</td>\n",
       "      <td>1.458209</td>\n",
       "      <td>6096.524372</td>\n",
       "    </tr>\n",
       "    <tr>\n",
       "      <th>16</th>\n",
       "      <td>2.501</td>\n",
       "      <td>0.223</td>\n",
       "      <td>14.40000</td>\n",
       "      <td>0.04531</td>\n",
       "      <td>5070.0</td>\n",
       "      <td>632</td>\n",
       "      <td>15.643757</td>\n",
       "      <td>0.011090</td>\n",
       "      <td>0.920498</td>\n",
       "      <td>3820.755042</td>\n",
       "    </tr>\n",
       "    <tr>\n",
       "      <th>17</th>\n",
       "      <td>1.745</td>\n",
       "      <td>0.156</td>\n",
       "      <td>8.83000</td>\n",
       "      <td>0.02778</td>\n",
       "      <td>5978.0</td>\n",
       "      <td>2128</td>\n",
       "      <td>5.313569</td>\n",
       "      <td>0.003796</td>\n",
       "      <td>1.661788</td>\n",
       "      <td>6842.710530</td>\n",
       "    </tr>\n",
       "    <tr>\n",
       "      <th>18</th>\n",
       "      <td>0.892</td>\n",
       "      <td>0.080</td>\n",
       "      <td>3.70000</td>\n",
       "      <td>0.01164</td>\n",
       "      <td>4640.0</td>\n",
       "      <td>701</td>\n",
       "      <td>0.709732</td>\n",
       "      <td>0.000512</td>\n",
       "      <td>5.213248</td>\n",
       "      <td>21259.485070</td>\n",
       "    </tr>\n",
       "    <tr>\n",
       "      <th>19</th>\n",
       "      <td>4.710</td>\n",
       "      <td>0.420</td>\n",
       "      <td>16.60000</td>\n",
       "      <td>0.05223</td>\n",
       "      <td>5527.0</td>\n",
       "      <td>1073</td>\n",
       "      <td>104.487111</td>\n",
       "      <td>0.074088</td>\n",
       "      <td>0.158872</td>\n",
       "      <td>659.237459</td>\n",
       "    </tr>\n",
       "  </tbody>\n",
       "</table>\n",
       "</div>"
      ],
      "text/plain": [
       "    pl_rade  pl_radj  pl_bmasse  pl_bmassj  st_teff  pl_eqt    Pl_eh_vol  \\\n",
       "10    3.550    0.317   19.70000    0.06198   5788.0     769    44.738875   \n",
       "11    3.410    0.304   10.00000    0.03146   5348.0     880    39.651821   \n",
       "12    3.195    0.285    8.00000    0.02517   5348.0     600    32.614640   \n",
       "13    2.995    0.267    2.80000    0.00881   5348.0     540    26.865225   \n",
       "14   17.318    1.545  323.23311    1.01700   6272.0    2132  5193.895481   \n",
       "15    1.720    0.153    7.42000    0.02335   5596.0    2141     5.088448   \n",
       "16    2.501    0.223   14.40000    0.04531   5070.0     632    15.643757   \n",
       "17    1.745    0.156    8.83000    0.02778   5978.0    2128     5.313569   \n",
       "18    0.892    0.080    3.70000    0.01164   4640.0     701     0.709732   \n",
       "19    4.710    0.420   16.60000    0.05223   5527.0    1073   104.487111   \n",
       "\n",
       "    Pl_J_vol  dens_pl_ert   dens_pl_jup  \n",
       "10  0.031855     0.440334   1819.464168  \n",
       "11  0.028094     0.252196   1047.147088  \n",
       "12  0.023149     0.245289   1016.759777  \n",
       "13  0.019034     0.104224    432.824510  \n",
       "14  3.687954     0.062233    257.872614  \n",
       "15  0.003582     1.458209   6096.524372  \n",
       "16  0.011090     0.920498   3820.755042  \n",
       "17  0.003796     1.661788   6842.710530  \n",
       "18  0.000512     5.213248  21259.485070  \n",
       "19  0.074088     0.158872    659.237459  "
      ]
     },
     "execution_count": 24,
     "metadata": {},
     "output_type": "execute_result"
    }
   ],
   "source": [
    "df.iloc[10:20]"
   ]
  },
  {
   "cell_type": "code",
   "execution_count": 25,
   "id": "99395081-2016-4be8-9c74-87985b29ead1",
   "metadata": {},
   "outputs": [
    {
     "data": {
      "text/html": [
       "<div>\n",
       "<style scoped>\n",
       "    .dataframe tbody tr th:only-of-type {\n",
       "        vertical-align: middle;\n",
       "    }\n",
       "\n",
       "    .dataframe tbody tr th {\n",
       "        vertical-align: top;\n",
       "    }\n",
       "\n",
       "    .dataframe thead th {\n",
       "        text-align: right;\n",
       "    }\n",
       "</style>\n",
       "<table border=\"1\" class=\"dataframe\">\n",
       "  <thead>\n",
       "    <tr style=\"text-align: right;\">\n",
       "      <th></th>\n",
       "      <th>pl_radj</th>\n",
       "      <th>pl_bmasse</th>\n",
       "      <th>pl_eqt</th>\n",
       "    </tr>\n",
       "  </thead>\n",
       "  <tbody>\n",
       "    <tr>\n",
       "      <th>0</th>\n",
       "      <td>0.233</td>\n",
       "      <td>22.70000</td>\n",
       "      <td>422</td>\n",
       "    </tr>\n",
       "    <tr>\n",
       "      <th>1</th>\n",
       "      <td>0.190</td>\n",
       "      <td>3.34000</td>\n",
       "      <td>693</td>\n",
       "    </tr>\n",
       "    <tr>\n",
       "      <th>2</th>\n",
       "      <td>0.113</td>\n",
       "      <td>1.86000</td>\n",
       "      <td>773</td>\n",
       "    </tr>\n",
       "    <tr>\n",
       "      <th>3</th>\n",
       "      <td>0.109</td>\n",
       "      <td>1.84000</td>\n",
       "      <td>525</td>\n",
       "    </tr>\n",
       "    <tr>\n",
       "      <th>4</th>\n",
       "      <td>0.064</td>\n",
       "      <td>0.54600</td>\n",
       "      <td>1745</td>\n",
       "    </tr>\n",
       "    <tr>\n",
       "      <th>...</th>\n",
       "      <td>...</td>\n",
       "      <td>...</td>\n",
       "      <td>...</td>\n",
       "    </tr>\n",
       "    <tr>\n",
       "      <th>207</th>\n",
       "      <td>1.070</td>\n",
       "      <td>301.93850</td>\n",
       "      <td>1397</td>\n",
       "    </tr>\n",
       "    <tr>\n",
       "      <th>208</th>\n",
       "      <td>1.171</td>\n",
       "      <td>211.99261</td>\n",
       "      <td>1192</td>\n",
       "    </tr>\n",
       "    <tr>\n",
       "      <th>209</th>\n",
       "      <td>0.852</td>\n",
       "      <td>55.30242</td>\n",
       "      <td>1526</td>\n",
       "    </tr>\n",
       "    <tr>\n",
       "      <th>210</th>\n",
       "      <td>0.247</td>\n",
       "      <td>9.10000</td>\n",
       "      <td>941</td>\n",
       "    </tr>\n",
       "    <tr>\n",
       "      <th>211</th>\n",
       "      <td>0.928</td>\n",
       "      <td>4386.05400</td>\n",
       "      <td>163</td>\n",
       "    </tr>\n",
       "  </tbody>\n",
       "</table>\n",
       "<p>212 rows × 3 columns</p>\n",
       "</div>"
      ],
      "text/plain": [
       "     pl_radj   pl_bmasse  pl_eqt\n",
       "0      0.233    22.70000     422\n",
       "1      0.190     3.34000     693\n",
       "2      0.113     1.86000     773\n",
       "3      0.109     1.84000     525\n",
       "4      0.064     0.54600    1745\n",
       "..       ...         ...     ...\n",
       "207    1.070   301.93850    1397\n",
       "208    1.171   211.99261    1192\n",
       "209    0.852    55.30242    1526\n",
       "210    0.247     9.10000     941\n",
       "211    0.928  4386.05400     163\n",
       "\n",
       "[212 rows x 3 columns]"
      ]
     },
     "execution_count": 25,
     "metadata": {},
     "output_type": "execute_result"
    }
   ],
   "source": [
    "df.iloc[:, [1, 2, 5]]"
   ]
  },
  {
   "cell_type": "code",
   "execution_count": 26,
   "id": "fd93987e-c5e0-4d7a-a6d5-bffda32533cc",
   "metadata": {},
   "outputs": [
    {
     "data": {
      "text/html": [
       "<div>\n",
       "<style scoped>\n",
       "    .dataframe tbody tr th:only-of-type {\n",
       "        vertical-align: middle;\n",
       "    }\n",
       "\n",
       "    .dataframe tbody tr th {\n",
       "        vertical-align: top;\n",
       "    }\n",
       "\n",
       "    .dataframe thead th {\n",
       "        text-align: right;\n",
       "    }\n",
       "</style>\n",
       "<table border=\"1\" class=\"dataframe\">\n",
       "  <thead>\n",
       "    <tr style=\"text-align: right;\">\n",
       "      <th></th>\n",
       "      <th>pl_rade</th>\n",
       "      <th>pl_radj</th>\n",
       "      <th>pl_bmasse</th>\n",
       "      <th>pl_bmassj</th>\n",
       "      <th>st_teff</th>\n",
       "      <th>pl_eqt</th>\n",
       "    </tr>\n",
       "  </thead>\n",
       "  <tbody>\n",
       "    <tr>\n",
       "      <th>0</th>\n",
       "      <td>2.610</td>\n",
       "      <td>0.233</td>\n",
       "      <td>22.70000</td>\n",
       "      <td>0.07142</td>\n",
       "      <td>4640.0</td>\n",
       "      <td>422</td>\n",
       "    </tr>\n",
       "    <tr>\n",
       "      <th>1</th>\n",
       "      <td>2.130</td>\n",
       "      <td>0.190</td>\n",
       "      <td>3.34000</td>\n",
       "      <td>0.01051</td>\n",
       "      <td>3556.0</td>\n",
       "      <td>693</td>\n",
       "    </tr>\n",
       "    <tr>\n",
       "      <th>2</th>\n",
       "      <td>1.264</td>\n",
       "      <td>0.113</td>\n",
       "      <td>1.86000</td>\n",
       "      <td>0.00585</td>\n",
       "      <td>3347.0</td>\n",
       "      <td>773</td>\n",
       "    </tr>\n",
       "    <tr>\n",
       "      <th>3</th>\n",
       "      <td>1.217</td>\n",
       "      <td>0.109</td>\n",
       "      <td>1.84000</td>\n",
       "      <td>0.00579</td>\n",
       "      <td>3505.0</td>\n",
       "      <td>525</td>\n",
       "    </tr>\n",
       "    <tr>\n",
       "      <th>4</th>\n",
       "      <td>0.718</td>\n",
       "      <td>0.064</td>\n",
       "      <td>0.54600</td>\n",
       "      <td>0.00172</td>\n",
       "      <td>3522.0</td>\n",
       "      <td>1745</td>\n",
       "    </tr>\n",
       "    <tr>\n",
       "      <th>...</th>\n",
       "      <td>...</td>\n",
       "      <td>...</td>\n",
       "      <td>...</td>\n",
       "      <td>...</td>\n",
       "      <td>...</td>\n",
       "      <td>...</td>\n",
       "    </tr>\n",
       "    <tr>\n",
       "      <th>207</th>\n",
       "      <td>11.994</td>\n",
       "      <td>1.070</td>\n",
       "      <td>301.93850</td>\n",
       "      <td>0.95000</td>\n",
       "      <td>6261.0</td>\n",
       "      <td>1397</td>\n",
       "    </tr>\n",
       "    <tr>\n",
       "      <th>208</th>\n",
       "      <td>13.126</td>\n",
       "      <td>1.171</td>\n",
       "      <td>211.99261</td>\n",
       "      <td>0.66700</td>\n",
       "      <td>5570.0</td>\n",
       "      <td>1192</td>\n",
       "    </tr>\n",
       "    <tr>\n",
       "      <th>209</th>\n",
       "      <td>9.550</td>\n",
       "      <td>0.852</td>\n",
       "      <td>55.30242</td>\n",
       "      <td>0.17400</td>\n",
       "      <td>5710.0</td>\n",
       "      <td>1526</td>\n",
       "    </tr>\n",
       "    <tr>\n",
       "      <th>210</th>\n",
       "      <td>2.765</td>\n",
       "      <td>0.247</td>\n",
       "      <td>9.10000</td>\n",
       "      <td>0.02863</td>\n",
       "      <td>4435.0</td>\n",
       "      <td>941</td>\n",
       "    </tr>\n",
       "    <tr>\n",
       "      <th>211</th>\n",
       "      <td>10.400</td>\n",
       "      <td>0.928</td>\n",
       "      <td>4386.05400</td>\n",
       "      <td>13.80000</td>\n",
       "      <td>4710.0</td>\n",
       "      <td>163</td>\n",
       "    </tr>\n",
       "  </tbody>\n",
       "</table>\n",
       "<p>212 rows × 6 columns</p>\n",
       "</div>"
      ],
      "text/plain": [
       "     pl_rade  pl_radj   pl_bmasse  pl_bmassj  st_teff  pl_eqt\n",
       "0      2.610    0.233    22.70000    0.07142   4640.0     422\n",
       "1      2.130    0.190     3.34000    0.01051   3556.0     693\n",
       "2      1.264    0.113     1.86000    0.00585   3347.0     773\n",
       "3      1.217    0.109     1.84000    0.00579   3505.0     525\n",
       "4      0.718    0.064     0.54600    0.00172   3522.0    1745\n",
       "..       ...      ...         ...        ...      ...     ...\n",
       "207   11.994    1.070   301.93850    0.95000   6261.0    1397\n",
       "208   13.126    1.171   211.99261    0.66700   5570.0    1192\n",
       "209    9.550    0.852    55.30242    0.17400   5710.0    1526\n",
       "210    2.765    0.247     9.10000    0.02863   4435.0     941\n",
       "211   10.400    0.928  4386.05400   13.80000   4710.0     163\n",
       "\n",
       "[212 rows x 6 columns]"
      ]
     },
     "execution_count": 26,
     "metadata": {},
     "output_type": "execute_result"
    }
   ],
   "source": [
    "df.loc[:, 'pl_rade':'pl_eqt']"
   ]
  },
  {
   "cell_type": "code",
   "execution_count": 27,
   "id": "d2e59e0b-ccd2-4a7f-8303-7f213fbc710e",
   "metadata": {},
   "outputs": [
    {
     "data": {
      "text/html": [
       "<div>\n",
       "<style scoped>\n",
       "    .dataframe tbody tr th:only-of-type {\n",
       "        vertical-align: middle;\n",
       "    }\n",
       "\n",
       "    .dataframe tbody tr th {\n",
       "        vertical-align: top;\n",
       "    }\n",
       "\n",
       "    .dataframe thead th {\n",
       "        text-align: right;\n",
       "    }\n",
       "</style>\n",
       "<table border=\"1\" class=\"dataframe\">\n",
       "  <thead>\n",
       "    <tr style=\"text-align: right;\">\n",
       "      <th></th>\n",
       "      <th>pl_eqt</th>\n",
       "      <th>pl_rade</th>\n",
       "    </tr>\n",
       "  </thead>\n",
       "  <tbody>\n",
       "    <tr>\n",
       "      <th>7</th>\n",
       "      <td>1228</td>\n",
       "      <td>11.500</td>\n",
       "    </tr>\n",
       "    <tr>\n",
       "      <th>14</th>\n",
       "      <td>2132</td>\n",
       "      <td>17.318</td>\n",
       "    </tr>\n",
       "    <tr>\n",
       "      <th>27</th>\n",
       "      <td>2061</td>\n",
       "      <td>16.141</td>\n",
       "    </tr>\n",
       "    <tr>\n",
       "      <th>39</th>\n",
       "      <td>1411</td>\n",
       "      <td>22.754</td>\n",
       "    </tr>\n",
       "    <tr>\n",
       "      <th>56</th>\n",
       "      <td>688</td>\n",
       "      <td>11.994</td>\n",
       "    </tr>\n",
       "    <tr>\n",
       "      <th>...</th>\n",
       "      <td>...</td>\n",
       "      <td>...</td>\n",
       "    </tr>\n",
       "    <tr>\n",
       "      <th>196</th>\n",
       "      <td>1749</td>\n",
       "      <td>19.851</td>\n",
       "    </tr>\n",
       "    <tr>\n",
       "      <th>198</th>\n",
       "      <td>1252</td>\n",
       "      <td>13.115</td>\n",
       "    </tr>\n",
       "    <tr>\n",
       "      <th>207</th>\n",
       "      <td>1397</td>\n",
       "      <td>11.994</td>\n",
       "    </tr>\n",
       "    <tr>\n",
       "      <th>208</th>\n",
       "      <td>1192</td>\n",
       "      <td>13.126</td>\n",
       "    </tr>\n",
       "    <tr>\n",
       "      <th>211</th>\n",
       "      <td>163</td>\n",
       "      <td>10.400</td>\n",
       "    </tr>\n",
       "  </tbody>\n",
       "</table>\n",
       "<p>82 rows × 2 columns</p>\n",
       "</div>"
      ],
      "text/plain": [
       "     pl_eqt  pl_rade\n",
       "7      1228   11.500\n",
       "14     2132   17.318\n",
       "27     2061   16.141\n",
       "39     1411   22.754\n",
       "56      688   11.994\n",
       "..      ...      ...\n",
       "196    1749   19.851\n",
       "198    1252   13.115\n",
       "207    1397   11.994\n",
       "208    1192   13.126\n",
       "211     163   10.400\n",
       "\n",
       "[82 rows x 2 columns]"
      ]
     },
     "execution_count": 27,
     "metadata": {},
     "output_type": "execute_result"
    }
   ],
   "source": [
    "df.loc[df['pl_rade'] > 10, ['pl_eqt', 'pl_rade']]"
   ]
  },
  {
   "cell_type": "code",
   "execution_count": 28,
   "id": "747053b0-48b3-4fc0-87d8-8aae14691464",
   "metadata": {},
   "outputs": [
    {
     "data": {
      "text/plain": [
       "3.34"
      ]
     },
     "execution_count": 28,
     "metadata": {},
     "output_type": "execute_result"
    }
   ],
   "source": [
    "df.iat[1, 2]"
   ]
  },
  {
   "cell_type": "code",
   "execution_count": 29,
   "id": "1e4c376a-29d5-423b-aa6a-ddb1af026521",
   "metadata": {},
   "outputs": [
    {
     "data": {
      "text/plain": [
       "0.718"
      ]
     },
     "execution_count": 29,
     "metadata": {},
     "output_type": "execute_result"
    }
   ],
   "source": [
    "df.at[4, 'pl_rade']"
   ]
  },
  {
   "cell_type": "markdown",
   "id": "118112f6-46ce-418e-9b4b-ef7705be6373",
   "metadata": {},
   "source": [
    "## Summarize data"
   ]
  },
  {
   "cell_type": "code",
   "execution_count": 30,
   "id": "0ea5a01c-d753-4a4e-bac7-08c52ea5485c",
   "metadata": {},
   "outputs": [
    {
     "data": {
      "text/plain": [
       "pl_rade\n",
       "11.994    3\n",
       "11.882    3\n",
       "16.141    2\n",
       "11.209    2\n",
       "3.510     2\n",
       "         ..\n",
       "2.759     1\n",
       "2.930     1\n",
       "11.456    1\n",
       "2.410     1\n",
       "16.814    1\n",
       "Name: count, Length: 198, dtype: int64"
      ]
     },
     "execution_count": 30,
     "metadata": {},
     "output_type": "execute_result"
    }
   ],
   "source": [
    "df['pl_rade'].value_counts()"
   ]
  },
  {
   "cell_type": "code",
   "execution_count": 31,
   "id": "2204d47d-4ea3-4b5d-be39-16a603ba50e7",
   "metadata": {},
   "outputs": [
    {
     "data": {
      "text/plain": [
       "212"
      ]
     },
     "execution_count": 31,
     "metadata": {},
     "output_type": "execute_result"
    }
   ],
   "source": [
    "len(df)"
   ]
  },
  {
   "cell_type": "code",
   "execution_count": 32,
   "id": "8bc85aec-69f3-416a-9370-6ab6f7f0ba99",
   "metadata": {},
   "outputs": [
    {
     "data": {
      "text/plain": [
       "(212, 10)"
      ]
     },
     "execution_count": 32,
     "metadata": {},
     "output_type": "execute_result"
    }
   ],
   "source": [
    "df.shape"
   ]
  },
  {
   "cell_type": "code",
   "execution_count": 33,
   "id": "03efa6a7-59d6-4a8c-9b96-294521c73a80",
   "metadata": {},
   "outputs": [
    {
     "data": {
      "text/plain": [
       "198"
      ]
     },
     "execution_count": 33,
     "metadata": {},
     "output_type": "execute_result"
    }
   ],
   "source": [
    "df['pl_rade'].nunique()"
   ]
  },
  {
   "cell_type": "code",
   "execution_count": 34,
   "id": "f915327d-0444-4ca1-a973-1252fce52613",
   "metadata": {},
   "outputs": [
    {
     "data": {
      "text/html": [
       "<div>\n",
       "<style scoped>\n",
       "    .dataframe tbody tr th:only-of-type {\n",
       "        vertical-align: middle;\n",
       "    }\n",
       "\n",
       "    .dataframe tbody tr th {\n",
       "        vertical-align: top;\n",
       "    }\n",
       "\n",
       "    .dataframe thead th {\n",
       "        text-align: right;\n",
       "    }\n",
       "</style>\n",
       "<table border=\"1\" class=\"dataframe\">\n",
       "  <thead>\n",
       "    <tr style=\"text-align: right;\">\n",
       "      <th></th>\n",
       "      <th>pl_rade</th>\n",
       "      <th>pl_radj</th>\n",
       "      <th>pl_bmasse</th>\n",
       "      <th>pl_bmassj</th>\n",
       "      <th>st_teff</th>\n",
       "      <th>pl_eqt</th>\n",
       "      <th>Pl_eh_vol</th>\n",
       "      <th>Pl_J_vol</th>\n",
       "      <th>dens_pl_ert</th>\n",
       "      <th>dens_pl_jup</th>\n",
       "    </tr>\n",
       "  </thead>\n",
       "  <tbody>\n",
       "    <tr>\n",
       "      <th>count</th>\n",
       "      <td>212.000000</td>\n",
       "      <td>212.000000</td>\n",
       "      <td>212.000000</td>\n",
       "      <td>212.000000</td>\n",
       "      <td>212.000000</td>\n",
       "      <td>212.000000</td>\n",
       "      <td>212.000000</td>\n",
       "      <td>212.000000</td>\n",
       "      <td>212.000000</td>\n",
       "      <td>212.000000</td>\n",
       "    </tr>\n",
       "    <tr>\n",
       "      <th>mean</th>\n",
       "      <td>7.037358</td>\n",
       "      <td>0.627863</td>\n",
       "      <td>268.057333</td>\n",
       "      <td>0.843390</td>\n",
       "      <td>5017.003774</td>\n",
       "      <td>1015.905660</td>\n",
       "      <td>1129.260283</td>\n",
       "      <td>0.801854</td>\n",
       "      <td>0.819621</td>\n",
       "      <td>3393.889530</td>\n",
       "    </tr>\n",
       "    <tr>\n",
       "      <th>std</th>\n",
       "      <td>5.659580</td>\n",
       "      <td>0.504901</td>\n",
       "      <td>615.284594</td>\n",
       "      <td>1.935886</td>\n",
       "      <td>1029.716480</td>\n",
       "      <td>516.561646</td>\n",
       "      <td>1863.951036</td>\n",
       "      <td>1.323489</td>\n",
       "      <td>1.915110</td>\n",
       "      <td>7924.755564</td>\n",
       "    </tr>\n",
       "    <tr>\n",
       "      <th>min</th>\n",
       "      <td>0.718000</td>\n",
       "      <td>0.064000</td>\n",
       "      <td>0.400000</td>\n",
       "      <td>0.001260</td>\n",
       "      <td>2850.000000</td>\n",
       "      <td>163.000000</td>\n",
       "      <td>0.370146</td>\n",
       "      <td>0.000262</td>\n",
       "      <td>0.026280</td>\n",
       "      <td>108.903190</td>\n",
       "    </tr>\n",
       "    <tr>\n",
       "      <th>25%</th>\n",
       "      <td>2.182500</td>\n",
       "      <td>0.194500</td>\n",
       "      <td>7.230000</td>\n",
       "      <td>0.022748</td>\n",
       "      <td>3985.000000</td>\n",
       "      <td>629.250000</td>\n",
       "      <td>10.397018</td>\n",
       "      <td>0.007358</td>\n",
       "      <td>0.144893</td>\n",
       "      <td>601.542890</td>\n",
       "    </tr>\n",
       "    <tr>\n",
       "      <th>50%</th>\n",
       "      <td>3.600000</td>\n",
       "      <td>0.321500</td>\n",
       "      <td>21.200000</td>\n",
       "      <td>0.066705</td>\n",
       "      <td>5320.500000</td>\n",
       "      <td>893.500000</td>\n",
       "      <td>46.683000</td>\n",
       "      <td>0.033250</td>\n",
       "      <td>0.376838</td>\n",
       "      <td>1562.391626</td>\n",
       "    </tr>\n",
       "    <tr>\n",
       "      <th>75%</th>\n",
       "      <td>12.018000</td>\n",
       "      <td>1.072500</td>\n",
       "      <td>282.868333</td>\n",
       "      <td>0.890000</td>\n",
       "      <td>5844.750000</td>\n",
       "      <td>1395.000000</td>\n",
       "      <td>1735.822749</td>\n",
       "      <td>1.233672</td>\n",
       "      <td>0.856498</td>\n",
       "      <td>3529.168984</td>\n",
       "    </tr>\n",
       "    <tr>\n",
       "      <th>max</th>\n",
       "      <td>23.539000</td>\n",
       "      <td>2.100000</td>\n",
       "      <td>4449.620000</td>\n",
       "      <td>14.000000</td>\n",
       "      <td>7690.000000</td>\n",
       "      <td>3646.000000</td>\n",
       "      <td>13042.595540</td>\n",
       "      <td>9.261000</td>\n",
       "      <td>21.224218</td>\n",
       "      <td>87959.313640</td>\n",
       "    </tr>\n",
       "  </tbody>\n",
       "</table>\n",
       "</div>"
      ],
      "text/plain": [
       "          pl_rade     pl_radj    pl_bmasse   pl_bmassj      st_teff  \\\n",
       "count  212.000000  212.000000   212.000000  212.000000   212.000000   \n",
       "mean     7.037358    0.627863   268.057333    0.843390  5017.003774   \n",
       "std      5.659580    0.504901   615.284594    1.935886  1029.716480   \n",
       "min      0.718000    0.064000     0.400000    0.001260  2850.000000   \n",
       "25%      2.182500    0.194500     7.230000    0.022748  3985.000000   \n",
       "50%      3.600000    0.321500    21.200000    0.066705  5320.500000   \n",
       "75%     12.018000    1.072500   282.868333    0.890000  5844.750000   \n",
       "max     23.539000    2.100000  4449.620000   14.000000  7690.000000   \n",
       "\n",
       "            pl_eqt     Pl_eh_vol    Pl_J_vol  dens_pl_ert   dens_pl_jup  \n",
       "count   212.000000    212.000000  212.000000   212.000000    212.000000  \n",
       "mean   1015.905660   1129.260283    0.801854     0.819621   3393.889530  \n",
       "std     516.561646   1863.951036    1.323489     1.915110   7924.755564  \n",
       "min     163.000000      0.370146    0.000262     0.026280    108.903190  \n",
       "25%     629.250000     10.397018    0.007358     0.144893    601.542890  \n",
       "50%     893.500000     46.683000    0.033250     0.376838   1562.391626  \n",
       "75%    1395.000000   1735.822749    1.233672     0.856498   3529.168984  \n",
       "max    3646.000000  13042.595540    9.261000    21.224218  87959.313640  "
      ]
     },
     "execution_count": 34,
     "metadata": {},
     "output_type": "execute_result"
    }
   ],
   "source": [
    "df.describe()"
   ]
  },
  {
   "cell_type": "markdown",
   "id": "5d550777-4da7-4f49-8549-e074b55d42ff",
   "metadata": {},
   "source": [
    "Pandas ofrece un gran conjunto de funciones de resumen que operan en diferentes tipos de objetos de pandas (columnas de DataFrame, Series, GroupBy, Expanding y Rolling (ver más abajo)) y producen valores únicos para cada uno de los grupos. Cuando se aplica a un DataFrame, el resultado se devuelve como una Series de pandas para cada columna. Ejemplos:"
   ]
  },
  {
   "cell_type": "code",
   "execution_count": 37,
   "id": "744c4b0a-da17-44f6-a25d-ad49a5cfe69a",
   "metadata": {},
   "outputs": [
    {
     "data": {
      "text/plain": [
       "pl_rade        1.491920e+03\n",
       "pl_radj        1.331070e+02\n",
       "pl_bmasse      5.682815e+04\n",
       "pl_bmassj      1.787986e+02\n",
       "st_teff        1.063605e+06\n",
       "pl_eqt         2.153720e+05\n",
       "Pl_eh_vol      2.394032e+05\n",
       "Pl_J_vol       1.699930e+02\n",
       "dens_pl_ert    1.737596e+02\n",
       "dens_pl_jup    7.195046e+05\n",
       "dtype: float64"
      ]
     },
     "execution_count": 37,
     "metadata": {},
     "output_type": "execute_result"
    }
   ],
   "source": [
    "df.sum()\n"
   ]
  },
  {
   "cell_type": "code",
   "execution_count": 38,
   "id": "8e547850-9d99-4f60-b3f6-fc43f02dfeeb",
   "metadata": {},
   "outputs": [
    {
     "data": {
      "text/plain": [
       "pl_rade        212\n",
       "pl_radj        212\n",
       "pl_bmasse      212\n",
       "pl_bmassj      212\n",
       "st_teff        212\n",
       "pl_eqt         212\n",
       "Pl_eh_vol      212\n",
       "Pl_J_vol       212\n",
       "dens_pl_ert    212\n",
       "dens_pl_jup    212\n",
       "dtype: int64"
      ]
     },
     "execution_count": 38,
     "metadata": {},
     "output_type": "execute_result"
    }
   ],
   "source": [
    "df.count()"
   ]
  },
  {
   "cell_type": "code",
   "execution_count": 40,
   "id": "579a16df-d5a8-47ca-a4fa-28262f021712",
   "metadata": {},
   "outputs": [
    {
     "data": {
      "text/plain": [
       "pl_rade           3.600000\n",
       "pl_radj           0.321500\n",
       "pl_bmasse        21.200000\n",
       "pl_bmassj         0.066705\n",
       "st_teff        5320.500000\n",
       "pl_eqt          893.500000\n",
       "Pl_eh_vol        46.683000\n",
       "Pl_J_vol          0.033250\n",
       "dens_pl_ert       0.376838\n",
       "dens_pl_jup    1562.391626\n",
       "dtype: float64"
      ]
     },
     "execution_count": 40,
     "metadata": {},
     "output_type": "execute_result"
    }
   ],
   "source": [
    "df.median()"
   ]
  },
  {
   "cell_type": "code",
   "execution_count": 41,
   "id": "5f7173dd-7d49-4a32-aed0-67800c15db15",
   "metadata": {},
   "outputs": [
    {
     "data": {
      "text/html": [
       "<div>\n",
       "<style scoped>\n",
       "    .dataframe tbody tr th:only-of-type {\n",
       "        vertical-align: middle;\n",
       "    }\n",
       "\n",
       "    .dataframe tbody tr th {\n",
       "        vertical-align: top;\n",
       "    }\n",
       "\n",
       "    .dataframe thead th {\n",
       "        text-align: right;\n",
       "    }\n",
       "</style>\n",
       "<table border=\"1\" class=\"dataframe\">\n",
       "  <thead>\n",
       "    <tr style=\"text-align: right;\">\n",
       "      <th></th>\n",
       "      <th>pl_rade</th>\n",
       "      <th>pl_radj</th>\n",
       "      <th>pl_bmasse</th>\n",
       "      <th>pl_bmassj</th>\n",
       "      <th>st_teff</th>\n",
       "      <th>pl_eqt</th>\n",
       "      <th>Pl_eh_vol</th>\n",
       "      <th>Pl_J_vol</th>\n",
       "      <th>dens_pl_ert</th>\n",
       "      <th>dens_pl_jup</th>\n",
       "    </tr>\n",
       "  </thead>\n",
       "  <tbody>\n",
       "    <tr>\n",
       "      <th>0.25</th>\n",
       "      <td>2.1825</td>\n",
       "      <td>0.1945</td>\n",
       "      <td>7.230000</td>\n",
       "      <td>0.022748</td>\n",
       "      <td>3985.00</td>\n",
       "      <td>629.25</td>\n",
       "      <td>10.397018</td>\n",
       "      <td>0.007358</td>\n",
       "      <td>0.144893</td>\n",
       "      <td>601.542890</td>\n",
       "    </tr>\n",
       "    <tr>\n",
       "      <th>0.75</th>\n",
       "      <td>12.0180</td>\n",
       "      <td>1.0725</td>\n",
       "      <td>282.868333</td>\n",
       "      <td>0.890000</td>\n",
       "      <td>5844.75</td>\n",
       "      <td>1395.00</td>\n",
       "      <td>1735.822749</td>\n",
       "      <td>1.233672</td>\n",
       "      <td>0.856498</td>\n",
       "      <td>3529.168984</td>\n",
       "    </tr>\n",
       "  </tbody>\n",
       "</table>\n",
       "</div>"
      ],
      "text/plain": [
       "      pl_rade  pl_radj   pl_bmasse  pl_bmassj  st_teff   pl_eqt    Pl_eh_vol  \\\n",
       "0.25   2.1825   0.1945    7.230000   0.022748  3985.00   629.25    10.397018   \n",
       "0.75  12.0180   1.0725  282.868333   0.890000  5844.75  1395.00  1735.822749   \n",
       "\n",
       "      Pl_J_vol  dens_pl_ert  dens_pl_jup  \n",
       "0.25  0.007358     0.144893   601.542890  \n",
       "0.75  1.233672     0.856498  3529.168984  "
      ]
     },
     "execution_count": 41,
     "metadata": {},
     "output_type": "execute_result"
    }
   ],
   "source": [
    "df.quantile([0.25,0.75])"
   ]
  },
  {
   "cell_type": "code",
   "execution_count": 42,
   "id": "dfeca42d-1426-4128-9649-084247891ac5",
   "metadata": {},
   "outputs": [
    {
     "data": {
      "text/plain": [
       "pl_rade           0.718000\n",
       "pl_radj           0.064000\n",
       "pl_bmasse         0.400000\n",
       "pl_bmassj         0.001260\n",
       "st_teff        2850.000000\n",
       "pl_eqt          163.000000\n",
       "Pl_eh_vol         0.370146\n",
       "Pl_J_vol          0.000262\n",
       "dens_pl_ert       0.026280\n",
       "dens_pl_jup     108.903190\n",
       "dtype: float64"
      ]
     },
     "execution_count": 42,
     "metadata": {},
     "output_type": "execute_result"
    }
   ],
   "source": [
    "df.min()"
   ]
  },
  {
   "cell_type": "code",
   "execution_count": 43,
   "id": "dd4780ef-ed7b-4d56-8b88-8916af49da71",
   "metadata": {},
   "outputs": [
    {
     "data": {
      "text/plain": [
       "pl_rade           23.539000\n",
       "pl_radj            2.100000\n",
       "pl_bmasse       4449.620000\n",
       "pl_bmassj         14.000000\n",
       "st_teff         7690.000000\n",
       "pl_eqt          3646.000000\n",
       "Pl_eh_vol      13042.595540\n",
       "Pl_J_vol           9.261000\n",
       "dens_pl_ert       21.224218\n",
       "dens_pl_jup    87959.313640\n",
       "dtype: float64"
      ]
     },
     "execution_count": 43,
     "metadata": {},
     "output_type": "execute_result"
    }
   ],
   "source": [
    "df.max()"
   ]
  },
  {
   "cell_type": "code",
   "execution_count": 44,
   "id": "6976c7e0-63e7-47aa-820e-703f8f36df96",
   "metadata": {},
   "outputs": [
    {
     "data": {
      "text/plain": [
       "pl_rade           7.037358\n",
       "pl_radj           0.627863\n",
       "pl_bmasse       268.057333\n",
       "pl_bmassj         0.843390\n",
       "st_teff        5017.003774\n",
       "pl_eqt         1015.905660\n",
       "Pl_eh_vol      1129.260283\n",
       "Pl_J_vol          0.801854\n",
       "dens_pl_ert       0.819621\n",
       "dens_pl_jup    3393.889530\n",
       "dtype: float64"
      ]
     },
     "execution_count": 44,
     "metadata": {},
     "output_type": "execute_result"
    }
   ],
   "source": [
    "df.mean()"
   ]
  },
  {
   "cell_type": "code",
   "execution_count": 45,
   "id": "b15eccb6-7421-449f-843a-0a809171dd24",
   "metadata": {},
   "outputs": [
    {
     "data": {
      "text/plain": [
       "pl_rade        3.203085e+01\n",
       "pl_radj        2.549249e-01\n",
       "pl_bmasse      3.785751e+05\n",
       "pl_bmassj      3.747654e+00\n",
       "st_teff        1.060316e+06\n",
       "pl_eqt         2.668359e+05\n",
       "Pl_eh_vol      3.474313e+06\n",
       "Pl_J_vol       1.751623e+00\n",
       "dens_pl_ert    3.667646e+00\n",
       "dens_pl_jup    6.280175e+07\n",
       "dtype: float64"
      ]
     },
     "execution_count": 45,
     "metadata": {},
     "output_type": "execute_result"
    }
   ],
   "source": [
    "df.var()"
   ]
  },
  {
   "cell_type": "code",
   "execution_count": 46,
   "id": "8dcaf09c-5a9e-4922-a2ba-ae460c901f75",
   "metadata": {},
   "outputs": [
    {
     "data": {
      "text/plain": [
       "pl_rade           5.659580\n",
       "pl_radj           0.504901\n",
       "pl_bmasse       615.284594\n",
       "pl_bmassj         1.935886\n",
       "st_teff        1029.716480\n",
       "pl_eqt          516.561646\n",
       "Pl_eh_vol      1863.951036\n",
       "Pl_J_vol          1.323489\n",
       "dens_pl_ert       1.915110\n",
       "dens_pl_jup    7924.755564\n",
       "dtype: float64"
      ]
     },
     "execution_count": 46,
     "metadata": {},
     "output_type": "execute_result"
    }
   ],
   "source": [
    "df.std()"
   ]
  },
  {
   "cell_type": "markdown",
   "id": "eabe239b-952e-42f2-b1cb-b7d96394a96f",
   "metadata": {},
   "source": [
    "### Las anteriores funcionen permiten obtener de manera general diferentes métricas"
   ]
  },
  {
   "cell_type": "markdown",
   "id": "0fb6069a-d678-4185-b6f2-663b62edbc7e",
   "metadata": {},
   "source": [
    "## Manejo de datos faltantes"
   ]
  },
  {
   "cell_type": "code",
   "execution_count": 47,
   "id": "847469e1-1cfc-4562-9def-586fa9560d5f",
   "metadata": {},
   "outputs": [
    {
     "data": {
      "text/html": [
       "<div>\n",
       "<style scoped>\n",
       "    .dataframe tbody tr th:only-of-type {\n",
       "        vertical-align: middle;\n",
       "    }\n",
       "\n",
       "    .dataframe tbody tr th {\n",
       "        vertical-align: top;\n",
       "    }\n",
       "\n",
       "    .dataframe thead th {\n",
       "        text-align: right;\n",
       "    }\n",
       "</style>\n",
       "<table border=\"1\" class=\"dataframe\">\n",
       "  <thead>\n",
       "    <tr style=\"text-align: right;\">\n",
       "      <th></th>\n",
       "      <th>pl_rade</th>\n",
       "      <th>pl_radj</th>\n",
       "      <th>pl_bmasse</th>\n",
       "      <th>pl_bmassj</th>\n",
       "      <th>st_teff</th>\n",
       "      <th>pl_eqt</th>\n",
       "      <th>Pl_eh_vol</th>\n",
       "      <th>Pl_J_vol</th>\n",
       "      <th>dens_pl_ert</th>\n",
       "      <th>dens_pl_jup</th>\n",
       "    </tr>\n",
       "  </thead>\n",
       "  <tbody>\n",
       "    <tr>\n",
       "      <th>0</th>\n",
       "      <td>2.610</td>\n",
       "      <td>0.233</td>\n",
       "      <td>22.70000</td>\n",
       "      <td>0.07142</td>\n",
       "      <td>4640.0</td>\n",
       "      <td>422</td>\n",
       "      <td>17.779581</td>\n",
       "      <td>0.012649</td>\n",
       "      <td>1.276749</td>\n",
       "      <td>5279.852677</td>\n",
       "    </tr>\n",
       "    <tr>\n",
       "      <th>1</th>\n",
       "      <td>2.130</td>\n",
       "      <td>0.190</td>\n",
       "      <td>3.34000</td>\n",
       "      <td>0.01051</td>\n",
       "      <td>3556.0</td>\n",
       "      <td>693</td>\n",
       "      <td>9.663597</td>\n",
       "      <td>0.006859</td>\n",
       "      <td>0.345628</td>\n",
       "      <td>1432.885986</td>\n",
       "    </tr>\n",
       "    <tr>\n",
       "      <th>2</th>\n",
       "      <td>1.264</td>\n",
       "      <td>0.113</td>\n",
       "      <td>1.86000</td>\n",
       "      <td>0.00585</td>\n",
       "      <td>3347.0</td>\n",
       "      <td>773</td>\n",
       "      <td>2.019488</td>\n",
       "      <td>0.001443</td>\n",
       "      <td>0.921028</td>\n",
       "      <td>3791.318391</td>\n",
       "    </tr>\n",
       "    <tr>\n",
       "      <th>3</th>\n",
       "      <td>1.217</td>\n",
       "      <td>0.109</td>\n",
       "      <td>1.84000</td>\n",
       "      <td>0.00579</td>\n",
       "      <td>3505.0</td>\n",
       "      <td>525</td>\n",
       "      <td>1.802485</td>\n",
       "      <td>0.001295</td>\n",
       "      <td>1.020816</td>\n",
       "      <td>4180.890486</td>\n",
       "    </tr>\n",
       "    <tr>\n",
       "      <th>4</th>\n",
       "      <td>0.718</td>\n",
       "      <td>0.064</td>\n",
       "      <td>0.54600</td>\n",
       "      <td>0.00172</td>\n",
       "      <td>3522.0</td>\n",
       "      <td>1745</td>\n",
       "      <td>0.370146</td>\n",
       "      <td>0.000262</td>\n",
       "      <td>1.475097</td>\n",
       "      <td>6135.617067</td>\n",
       "    </tr>\n",
       "    <tr>\n",
       "      <th>...</th>\n",
       "      <td>...</td>\n",
       "      <td>...</td>\n",
       "      <td>...</td>\n",
       "      <td>...</td>\n",
       "      <td>...</td>\n",
       "      <td>...</td>\n",
       "      <td>...</td>\n",
       "      <td>...</td>\n",
       "      <td>...</td>\n",
       "      <td>...</td>\n",
       "    </tr>\n",
       "    <tr>\n",
       "      <th>207</th>\n",
       "      <td>11.994</td>\n",
       "      <td>1.070</td>\n",
       "      <td>301.93850</td>\n",
       "      <td>0.95000</td>\n",
       "      <td>6261.0</td>\n",
       "      <td>1397</td>\n",
       "      <td>1725.409296</td>\n",
       "      <td>1.225043</td>\n",
       "      <td>0.174996</td>\n",
       "      <td>725.173615</td>\n",
       "    </tr>\n",
       "    <tr>\n",
       "      <th>208</th>\n",
       "      <td>13.126</td>\n",
       "      <td>1.171</td>\n",
       "      <td>211.99261</td>\n",
       "      <td>0.66700</td>\n",
       "      <td>5570.0</td>\n",
       "      <td>1192</td>\n",
       "      <td>2261.503164</td>\n",
       "      <td>1.605723</td>\n",
       "      <td>0.093740</td>\n",
       "      <td>388.440828</td>\n",
       "    </tr>\n",
       "    <tr>\n",
       "      <th>209</th>\n",
       "      <td>9.550</td>\n",
       "      <td>0.852</td>\n",
       "      <td>55.30242</td>\n",
       "      <td>0.17400</td>\n",
       "      <td>5710.0</td>\n",
       "      <td>1526</td>\n",
       "      <td>870.983875</td>\n",
       "      <td>0.618470</td>\n",
       "      <td>0.063494</td>\n",
       "      <td>263.087483</td>\n",
       "    </tr>\n",
       "    <tr>\n",
       "      <th>210</th>\n",
       "      <td>2.765</td>\n",
       "      <td>0.247</td>\n",
       "      <td>9.10000</td>\n",
       "      <td>0.02863</td>\n",
       "      <td>4435.0</td>\n",
       "      <td>941</td>\n",
       "      <td>21.139047</td>\n",
       "      <td>0.015069</td>\n",
       "      <td>0.430484</td>\n",
       "      <td>1776.643168</td>\n",
       "    </tr>\n",
       "    <tr>\n",
       "      <th>211</th>\n",
       "      <td>10.400</td>\n",
       "      <td>0.928</td>\n",
       "      <td>4386.05400</td>\n",
       "      <td>13.80000</td>\n",
       "      <td>4710.0</td>\n",
       "      <td>163</td>\n",
       "      <td>1124.864000</td>\n",
       "      <td>0.799179</td>\n",
       "      <td>3.899197</td>\n",
       "      <td>16147.484620</td>\n",
       "    </tr>\n",
       "  </tbody>\n",
       "</table>\n",
       "<p>212 rows × 10 columns</p>\n",
       "</div>"
      ],
      "text/plain": [
       "     pl_rade  pl_radj   pl_bmasse  pl_bmassj  st_teff  pl_eqt    Pl_eh_vol  \\\n",
       "0      2.610    0.233    22.70000    0.07142   4640.0     422    17.779581   \n",
       "1      2.130    0.190     3.34000    0.01051   3556.0     693     9.663597   \n",
       "2      1.264    0.113     1.86000    0.00585   3347.0     773     2.019488   \n",
       "3      1.217    0.109     1.84000    0.00579   3505.0     525     1.802485   \n",
       "4      0.718    0.064     0.54600    0.00172   3522.0    1745     0.370146   \n",
       "..       ...      ...         ...        ...      ...     ...          ...   \n",
       "207   11.994    1.070   301.93850    0.95000   6261.0    1397  1725.409296   \n",
       "208   13.126    1.171   211.99261    0.66700   5570.0    1192  2261.503164   \n",
       "209    9.550    0.852    55.30242    0.17400   5710.0    1526   870.983875   \n",
       "210    2.765    0.247     9.10000    0.02863   4435.0     941    21.139047   \n",
       "211   10.400    0.928  4386.05400   13.80000   4710.0     163  1124.864000   \n",
       "\n",
       "     Pl_J_vol  dens_pl_ert   dens_pl_jup  \n",
       "0    0.012649     1.276749   5279.852677  \n",
       "1    0.006859     0.345628   1432.885986  \n",
       "2    0.001443     0.921028   3791.318391  \n",
       "3    0.001295     1.020816   4180.890486  \n",
       "4    0.000262     1.475097   6135.617067  \n",
       "..        ...          ...           ...  \n",
       "207  1.225043     0.174996    725.173615  \n",
       "208  1.605723     0.093740    388.440828  \n",
       "209  0.618470     0.063494    263.087483  \n",
       "210  0.015069     0.430484   1776.643168  \n",
       "211  0.799179     3.899197  16147.484620  \n",
       "\n",
       "[212 rows x 10 columns]"
      ]
     },
     "execution_count": 47,
     "metadata": {},
     "output_type": "execute_result"
    }
   ],
   "source": [
    "df.dropna()"
   ]
  },
  {
   "cell_type": "code",
   "execution_count": 49,
   "id": "53757825-39a1-489b-a2ce-796f7496814f",
   "metadata": {},
   "outputs": [
    {
     "data": {
      "text/html": [
       "<div>\n",
       "<style scoped>\n",
       "    .dataframe tbody tr th:only-of-type {\n",
       "        vertical-align: middle;\n",
       "    }\n",
       "\n",
       "    .dataframe tbody tr th {\n",
       "        vertical-align: top;\n",
       "    }\n",
       "\n",
       "    .dataframe thead th {\n",
       "        text-align: right;\n",
       "    }\n",
       "</style>\n",
       "<table border=\"1\" class=\"dataframe\">\n",
       "  <thead>\n",
       "    <tr style=\"text-align: right;\">\n",
       "      <th></th>\n",
       "      <th>pl_rade</th>\n",
       "      <th>pl_radj</th>\n",
       "      <th>pl_bmasse</th>\n",
       "      <th>pl_bmassj</th>\n",
       "      <th>st_teff</th>\n",
       "      <th>pl_eqt</th>\n",
       "      <th>Pl_eh_vol</th>\n",
       "      <th>Pl_J_vol</th>\n",
       "      <th>dens_pl_ert</th>\n",
       "      <th>dens_pl_jup</th>\n",
       "    </tr>\n",
       "  </thead>\n",
       "  <tbody>\n",
       "    <tr>\n",
       "      <th>0</th>\n",
       "      <td>2.610</td>\n",
       "      <td>0.233</td>\n",
       "      <td>22.70000</td>\n",
       "      <td>0.07142</td>\n",
       "      <td>4640.0</td>\n",
       "      <td>422</td>\n",
       "      <td>17.779581</td>\n",
       "      <td>0.012649</td>\n",
       "      <td>1.276749</td>\n",
       "      <td>5279.852677</td>\n",
       "    </tr>\n",
       "    <tr>\n",
       "      <th>1</th>\n",
       "      <td>2.130</td>\n",
       "      <td>0.190</td>\n",
       "      <td>3.34000</td>\n",
       "      <td>0.01051</td>\n",
       "      <td>3556.0</td>\n",
       "      <td>693</td>\n",
       "      <td>9.663597</td>\n",
       "      <td>0.006859</td>\n",
       "      <td>0.345628</td>\n",
       "      <td>1432.885986</td>\n",
       "    </tr>\n",
       "    <tr>\n",
       "      <th>2</th>\n",
       "      <td>1.264</td>\n",
       "      <td>0.113</td>\n",
       "      <td>1.86000</td>\n",
       "      <td>0.00585</td>\n",
       "      <td>3347.0</td>\n",
       "      <td>773</td>\n",
       "      <td>2.019488</td>\n",
       "      <td>0.001443</td>\n",
       "      <td>0.921028</td>\n",
       "      <td>3791.318391</td>\n",
       "    </tr>\n",
       "    <tr>\n",
       "      <th>3</th>\n",
       "      <td>1.217</td>\n",
       "      <td>0.109</td>\n",
       "      <td>1.84000</td>\n",
       "      <td>0.00579</td>\n",
       "      <td>3505.0</td>\n",
       "      <td>525</td>\n",
       "      <td>1.802485</td>\n",
       "      <td>0.001295</td>\n",
       "      <td>1.020816</td>\n",
       "      <td>4180.890486</td>\n",
       "    </tr>\n",
       "    <tr>\n",
       "      <th>4</th>\n",
       "      <td>0.718</td>\n",
       "      <td>0.064</td>\n",
       "      <td>0.54600</td>\n",
       "      <td>0.00172</td>\n",
       "      <td>3522.0</td>\n",
       "      <td>1745</td>\n",
       "      <td>0.370146</td>\n",
       "      <td>0.000262</td>\n",
       "      <td>1.475097</td>\n",
       "      <td>6135.617067</td>\n",
       "    </tr>\n",
       "    <tr>\n",
       "      <th>...</th>\n",
       "      <td>...</td>\n",
       "      <td>...</td>\n",
       "      <td>...</td>\n",
       "      <td>...</td>\n",
       "      <td>...</td>\n",
       "      <td>...</td>\n",
       "      <td>...</td>\n",
       "      <td>...</td>\n",
       "      <td>...</td>\n",
       "      <td>...</td>\n",
       "    </tr>\n",
       "    <tr>\n",
       "      <th>207</th>\n",
       "      <td>11.994</td>\n",
       "      <td>1.070</td>\n",
       "      <td>301.93850</td>\n",
       "      <td>0.95000</td>\n",
       "      <td>6261.0</td>\n",
       "      <td>1397</td>\n",
       "      <td>1725.409296</td>\n",
       "      <td>1.225043</td>\n",
       "      <td>0.174996</td>\n",
       "      <td>725.173615</td>\n",
       "    </tr>\n",
       "    <tr>\n",
       "      <th>208</th>\n",
       "      <td>13.126</td>\n",
       "      <td>1.171</td>\n",
       "      <td>211.99261</td>\n",
       "      <td>0.66700</td>\n",
       "      <td>5570.0</td>\n",
       "      <td>1192</td>\n",
       "      <td>2261.503164</td>\n",
       "      <td>1.605723</td>\n",
       "      <td>0.093740</td>\n",
       "      <td>388.440828</td>\n",
       "    </tr>\n",
       "    <tr>\n",
       "      <th>209</th>\n",
       "      <td>9.550</td>\n",
       "      <td>0.852</td>\n",
       "      <td>55.30242</td>\n",
       "      <td>0.17400</td>\n",
       "      <td>5710.0</td>\n",
       "      <td>1526</td>\n",
       "      <td>870.983875</td>\n",
       "      <td>0.618470</td>\n",
       "      <td>0.063494</td>\n",
       "      <td>263.087483</td>\n",
       "    </tr>\n",
       "    <tr>\n",
       "      <th>210</th>\n",
       "      <td>2.765</td>\n",
       "      <td>0.247</td>\n",
       "      <td>9.10000</td>\n",
       "      <td>0.02863</td>\n",
       "      <td>4435.0</td>\n",
       "      <td>941</td>\n",
       "      <td>21.139047</td>\n",
       "      <td>0.015069</td>\n",
       "      <td>0.430484</td>\n",
       "      <td>1776.643168</td>\n",
       "    </tr>\n",
       "    <tr>\n",
       "      <th>211</th>\n",
       "      <td>10.400</td>\n",
       "      <td>0.928</td>\n",
       "      <td>4386.05400</td>\n",
       "      <td>13.80000</td>\n",
       "      <td>4710.0</td>\n",
       "      <td>163</td>\n",
       "      <td>1124.864000</td>\n",
       "      <td>0.799179</td>\n",
       "      <td>3.899197</td>\n",
       "      <td>16147.484620</td>\n",
       "    </tr>\n",
       "  </tbody>\n",
       "</table>\n",
       "<p>212 rows × 10 columns</p>\n",
       "</div>"
      ],
      "text/plain": [
       "     pl_rade  pl_radj   pl_bmasse  pl_bmassj  st_teff  pl_eqt    Pl_eh_vol  \\\n",
       "0      2.610    0.233    22.70000    0.07142   4640.0     422    17.779581   \n",
       "1      2.130    0.190     3.34000    0.01051   3556.0     693     9.663597   \n",
       "2      1.264    0.113     1.86000    0.00585   3347.0     773     2.019488   \n",
       "3      1.217    0.109     1.84000    0.00579   3505.0     525     1.802485   \n",
       "4      0.718    0.064     0.54600    0.00172   3522.0    1745     0.370146   \n",
       "..       ...      ...         ...        ...      ...     ...          ...   \n",
       "207   11.994    1.070   301.93850    0.95000   6261.0    1397  1725.409296   \n",
       "208   13.126    1.171   211.99261    0.66700   5570.0    1192  2261.503164   \n",
       "209    9.550    0.852    55.30242    0.17400   5710.0    1526   870.983875   \n",
       "210    2.765    0.247     9.10000    0.02863   4435.0     941    21.139047   \n",
       "211   10.400    0.928  4386.05400   13.80000   4710.0     163  1124.864000   \n",
       "\n",
       "     Pl_J_vol  dens_pl_ert   dens_pl_jup  \n",
       "0    0.012649     1.276749   5279.852677  \n",
       "1    0.006859     0.345628   1432.885986  \n",
       "2    0.001443     0.921028   3791.318391  \n",
       "3    0.001295     1.020816   4180.890486  \n",
       "4    0.000262     1.475097   6135.617067  \n",
       "..        ...          ...           ...  \n",
       "207  1.225043     0.174996    725.173615  \n",
       "208  1.605723     0.093740    388.440828  \n",
       "209  0.618470     0.063494    263.087483  \n",
       "210  0.015069     0.430484   1776.643168  \n",
       "211  0.799179     3.899197  16147.484620  \n",
       "\n",
       "[212 rows x 10 columns]"
      ]
     },
     "execution_count": 49,
     "metadata": {},
     "output_type": "execute_result"
    }
   ],
   "source": [
    "df.fillna(0)"
   ]
  },
  {
   "cell_type": "code",
   "execution_count": 50,
   "id": "e84891a6-4fc0-4c54-a019-75c1e3db7e61",
   "metadata": {},
   "outputs": [
    {
     "data": {
      "text/html": [
       "<div>\n",
       "<style scoped>\n",
       "    .dataframe tbody tr th:only-of-type {\n",
       "        vertical-align: middle;\n",
       "    }\n",
       "\n",
       "    .dataframe tbody tr th {\n",
       "        vertical-align: top;\n",
       "    }\n",
       "\n",
       "    .dataframe thead th {\n",
       "        text-align: right;\n",
       "    }\n",
       "</style>\n",
       "<table border=\"1\" class=\"dataframe\">\n",
       "  <thead>\n",
       "    <tr style=\"text-align: right;\">\n",
       "      <th></th>\n",
       "      <th>pl_rade</th>\n",
       "      <th>pl_radj</th>\n",
       "      <th>pl_bmasse</th>\n",
       "      <th>pl_bmassj</th>\n",
       "      <th>st_teff</th>\n",
       "      <th>pl_eqt</th>\n",
       "      <th>Pl_eh_vol</th>\n",
       "      <th>Pl_J_vol</th>\n",
       "      <th>dens_pl_ert</th>\n",
       "      <th>dens_pl_jup</th>\n",
       "      <th>Area</th>\n",
       "    </tr>\n",
       "  </thead>\n",
       "  <tbody>\n",
       "    <tr>\n",
       "      <th>0</th>\n",
       "      <td>2.610</td>\n",
       "      <td>0.233</td>\n",
       "      <td>22.70000</td>\n",
       "      <td>0.07142</td>\n",
       "      <td>4640.0</td>\n",
       "      <td>422</td>\n",
       "      <td>17.779581</td>\n",
       "      <td>0.012649</td>\n",
       "      <td>1.276749</td>\n",
       "      <td>5279.852677</td>\n",
       "      <td>1.053280e+05</td>\n",
       "    </tr>\n",
       "    <tr>\n",
       "      <th>1</th>\n",
       "      <td>2.130</td>\n",
       "      <td>0.190</td>\n",
       "      <td>3.34000</td>\n",
       "      <td>0.01051</td>\n",
       "      <td>3556.0</td>\n",
       "      <td>693</td>\n",
       "      <td>9.663597</td>\n",
       "      <td>0.006859</td>\n",
       "      <td>0.345628</td>\n",
       "      <td>1432.885986</td>\n",
       "      <td>1.187704e+04</td>\n",
       "    </tr>\n",
       "    <tr>\n",
       "      <th>2</th>\n",
       "      <td>1.264</td>\n",
       "      <td>0.113</td>\n",
       "      <td>1.86000</td>\n",
       "      <td>0.00585</td>\n",
       "      <td>3347.0</td>\n",
       "      <td>773</td>\n",
       "      <td>2.019488</td>\n",
       "      <td>0.001443</td>\n",
       "      <td>0.921028</td>\n",
       "      <td>3791.318391</td>\n",
       "      <td>6.225420e+03</td>\n",
       "    </tr>\n",
       "    <tr>\n",
       "      <th>3</th>\n",
       "      <td>1.217</td>\n",
       "      <td>0.109</td>\n",
       "      <td>1.84000</td>\n",
       "      <td>0.00579</td>\n",
       "      <td>3505.0</td>\n",
       "      <td>525</td>\n",
       "      <td>1.802485</td>\n",
       "      <td>0.001295</td>\n",
       "      <td>1.020816</td>\n",
       "      <td>4180.890486</td>\n",
       "      <td>6.449200e+03</td>\n",
       "    </tr>\n",
       "    <tr>\n",
       "      <th>4</th>\n",
       "      <td>0.718</td>\n",
       "      <td>0.064</td>\n",
       "      <td>0.54600</td>\n",
       "      <td>0.00172</td>\n",
       "      <td>3522.0</td>\n",
       "      <td>1745</td>\n",
       "      <td>0.370146</td>\n",
       "      <td>0.000262</td>\n",
       "      <td>1.475097</td>\n",
       "      <td>6135.617067</td>\n",
       "      <td>1.923012e+03</td>\n",
       "    </tr>\n",
       "    <tr>\n",
       "      <th>...</th>\n",
       "      <td>...</td>\n",
       "      <td>...</td>\n",
       "      <td>...</td>\n",
       "      <td>...</td>\n",
       "      <td>...</td>\n",
       "      <td>...</td>\n",
       "      <td>...</td>\n",
       "      <td>...</td>\n",
       "      <td>...</td>\n",
       "      <td>...</td>\n",
       "      <td>...</td>\n",
       "    </tr>\n",
       "    <tr>\n",
       "      <th>207</th>\n",
       "      <td>11.994</td>\n",
       "      <td>1.070</td>\n",
       "      <td>301.93850</td>\n",
       "      <td>0.95000</td>\n",
       "      <td>6261.0</td>\n",
       "      <td>1397</td>\n",
       "      <td>1725.409296</td>\n",
       "      <td>1.225043</td>\n",
       "      <td>0.174996</td>\n",
       "      <td>725.173615</td>\n",
       "      <td>1.890437e+06</td>\n",
       "    </tr>\n",
       "    <tr>\n",
       "      <th>208</th>\n",
       "      <td>13.126</td>\n",
       "      <td>1.171</td>\n",
       "      <td>211.99261</td>\n",
       "      <td>0.66700</td>\n",
       "      <td>5570.0</td>\n",
       "      <td>1192</td>\n",
       "      <td>2261.503164</td>\n",
       "      <td>1.605723</td>\n",
       "      <td>0.093740</td>\n",
       "      <td>388.440828</td>\n",
       "      <td>1.180799e+06</td>\n",
       "    </tr>\n",
       "    <tr>\n",
       "      <th>209</th>\n",
       "      <td>9.550</td>\n",
       "      <td>0.852</td>\n",
       "      <td>55.30242</td>\n",
       "      <td>0.17400</td>\n",
       "      <td>5710.0</td>\n",
       "      <td>1526</td>\n",
       "      <td>870.983875</td>\n",
       "      <td>0.618470</td>\n",
       "      <td>0.063494</td>\n",
       "      <td>263.087483</td>\n",
       "      <td>3.157768e+05</td>\n",
       "    </tr>\n",
       "    <tr>\n",
       "      <th>210</th>\n",
       "      <td>2.765</td>\n",
       "      <td>0.247</td>\n",
       "      <td>9.10000</td>\n",
       "      <td>0.02863</td>\n",
       "      <td>4435.0</td>\n",
       "      <td>941</td>\n",
       "      <td>21.139047</td>\n",
       "      <td>0.015069</td>\n",
       "      <td>0.430484</td>\n",
       "      <td>1776.643168</td>\n",
       "      <td>4.035850e+04</td>\n",
       "    </tr>\n",
       "    <tr>\n",
       "      <th>211</th>\n",
       "      <td>10.400</td>\n",
       "      <td>0.928</td>\n",
       "      <td>4386.05400</td>\n",
       "      <td>13.80000</td>\n",
       "      <td>4710.0</td>\n",
       "      <td>163</td>\n",
       "      <td>1124.864000</td>\n",
       "      <td>0.799179</td>\n",
       "      <td>3.899197</td>\n",
       "      <td>16147.484620</td>\n",
       "      <td>2.065831e+07</td>\n",
       "    </tr>\n",
       "  </tbody>\n",
       "</table>\n",
       "<p>212 rows × 11 columns</p>\n",
       "</div>"
      ],
      "text/plain": [
       "     pl_rade  pl_radj   pl_bmasse  pl_bmassj  st_teff  pl_eqt    Pl_eh_vol  \\\n",
       "0      2.610    0.233    22.70000    0.07142   4640.0     422    17.779581   \n",
       "1      2.130    0.190     3.34000    0.01051   3556.0     693     9.663597   \n",
       "2      1.264    0.113     1.86000    0.00585   3347.0     773     2.019488   \n",
       "3      1.217    0.109     1.84000    0.00579   3505.0     525     1.802485   \n",
       "4      0.718    0.064     0.54600    0.00172   3522.0    1745     0.370146   \n",
       "..       ...      ...         ...        ...      ...     ...          ...   \n",
       "207   11.994    1.070   301.93850    0.95000   6261.0    1397  1725.409296   \n",
       "208   13.126    1.171   211.99261    0.66700   5570.0    1192  2261.503164   \n",
       "209    9.550    0.852    55.30242    0.17400   5710.0    1526   870.983875   \n",
       "210    2.765    0.247     9.10000    0.02863   4435.0     941    21.139047   \n",
       "211   10.400    0.928  4386.05400   13.80000   4710.0     163  1124.864000   \n",
       "\n",
       "     Pl_J_vol  dens_pl_ert   dens_pl_jup          Area  \n",
       "0    0.012649     1.276749   5279.852677  1.053280e+05  \n",
       "1    0.006859     0.345628   1432.885986  1.187704e+04  \n",
       "2    0.001443     0.921028   3791.318391  6.225420e+03  \n",
       "3    0.001295     1.020816   4180.890486  6.449200e+03  \n",
       "4    0.000262     1.475097   6135.617067  1.923012e+03  \n",
       "..        ...          ...           ...           ...  \n",
       "207  1.225043     0.174996    725.173615  1.890437e+06  \n",
       "208  1.605723     0.093740    388.440828  1.180799e+06  \n",
       "209  0.618470     0.063494    263.087483  3.157768e+05  \n",
       "210  0.015069     0.430484   1776.643168  4.035850e+04  \n",
       "211  0.799179     3.899197  16147.484620  2.065831e+07  \n",
       "\n",
       "[212 rows x 11 columns]"
      ]
     },
     "execution_count": 50,
     "metadata": {},
     "output_type": "execute_result"
    }
   ],
   "source": [
    "df.assign(Area=lambda df: df.pl_bmasse*df.st_teff)"
   ]
  },
  {
   "cell_type": "code",
   "execution_count": 52,
   "id": "b13504e2-04ee-4044-8f07-6dc09dc974ac",
   "metadata": {},
   "outputs": [
    {
     "data": {
      "text/plain": [
       "0      1\n",
       "1      0\n",
       "2      0\n",
       "3      0\n",
       "4      0\n",
       "      ..\n",
       "207    2\n",
       "208    2\n",
       "209    1\n",
       "210    0\n",
       "211    2\n",
       "Name: pl_bmassj, Length: 212, dtype: int64"
      ]
     },
     "execution_count": 52,
     "metadata": {},
     "output_type": "execute_result"
    }
   ],
   "source": [
    "pd.qcut(df.pl_bmassj, n, labels=False)"
   ]
  },
  {
   "cell_type": "code",
   "execution_count": 53,
   "id": "4c1e3d60-378d-4536-b3b0-83d445d01a4e",
   "metadata": {},
   "outputs": [
    {
     "data": {
      "text/plain": [
       "0       5279.852677\n",
       "1       3556.000000\n",
       "2       3791.318391\n",
       "3       4180.890486\n",
       "4       6135.617067\n",
       "           ...     \n",
       "207     6261.000000\n",
       "208     5570.000000\n",
       "209     5710.000000\n",
       "210     4435.000000\n",
       "211    16147.484620\n",
       "Length: 212, dtype: float64"
      ]
     },
     "execution_count": 53,
     "metadata": {},
     "output_type": "execute_result"
    }
   ],
   "source": [
    "df.max(axis=1)"
   ]
  },
  {
   "cell_type": "code",
   "execution_count": 54,
   "id": "ce8ac508-32c6-4643-b3d7-a36869baa479",
   "metadata": {},
   "outputs": [
    {
     "data": {
      "text/html": [
       "<div>\n",
       "<style scoped>\n",
       "    .dataframe tbody tr th:only-of-type {\n",
       "        vertical-align: middle;\n",
       "    }\n",
       "\n",
       "    .dataframe tbody tr th {\n",
       "        vertical-align: top;\n",
       "    }\n",
       "\n",
       "    .dataframe thead th {\n",
       "        text-align: right;\n",
       "    }\n",
       "</style>\n",
       "<table border=\"1\" class=\"dataframe\">\n",
       "  <thead>\n",
       "    <tr style=\"text-align: right;\">\n",
       "      <th></th>\n",
       "      <th>pl_rade</th>\n",
       "      <th>pl_radj</th>\n",
       "      <th>pl_bmasse</th>\n",
       "      <th>pl_bmassj</th>\n",
       "      <th>st_teff</th>\n",
       "      <th>pl_eqt</th>\n",
       "      <th>Pl_eh_vol</th>\n",
       "      <th>Pl_J_vol</th>\n",
       "      <th>dens_pl_ert</th>\n",
       "      <th>dens_pl_jup</th>\n",
       "    </tr>\n",
       "  </thead>\n",
       "  <tbody>\n",
       "    <tr>\n",
       "      <th>0</th>\n",
       "      <td>2.610</td>\n",
       "      <td>0.233</td>\n",
       "      <td>10.000</td>\n",
       "      <td>0.07142</td>\n",
       "      <td>10.0</td>\n",
       "      <td>10</td>\n",
       "      <td>10.000000</td>\n",
       "      <td>0.012649</td>\n",
       "      <td>1.276749</td>\n",
       "      <td>10.0</td>\n",
       "    </tr>\n",
       "    <tr>\n",
       "      <th>1</th>\n",
       "      <td>2.130</td>\n",
       "      <td>0.190</td>\n",
       "      <td>3.340</td>\n",
       "      <td>0.01051</td>\n",
       "      <td>10.0</td>\n",
       "      <td>10</td>\n",
       "      <td>9.663597</td>\n",
       "      <td>0.006859</td>\n",
       "      <td>0.345628</td>\n",
       "      <td>10.0</td>\n",
       "    </tr>\n",
       "    <tr>\n",
       "      <th>2</th>\n",
       "      <td>1.264</td>\n",
       "      <td>0.113</td>\n",
       "      <td>1.860</td>\n",
       "      <td>0.00585</td>\n",
       "      <td>10.0</td>\n",
       "      <td>10</td>\n",
       "      <td>2.019488</td>\n",
       "      <td>0.001443</td>\n",
       "      <td>0.921028</td>\n",
       "      <td>10.0</td>\n",
       "    </tr>\n",
       "    <tr>\n",
       "      <th>3</th>\n",
       "      <td>1.217</td>\n",
       "      <td>0.109</td>\n",
       "      <td>1.840</td>\n",
       "      <td>0.00579</td>\n",
       "      <td>10.0</td>\n",
       "      <td>10</td>\n",
       "      <td>1.802485</td>\n",
       "      <td>0.001295</td>\n",
       "      <td>1.020816</td>\n",
       "      <td>10.0</td>\n",
       "    </tr>\n",
       "    <tr>\n",
       "      <th>4</th>\n",
       "      <td>0.718</td>\n",
       "      <td>0.064</td>\n",
       "      <td>0.546</td>\n",
       "      <td>0.00172</td>\n",
       "      <td>10.0</td>\n",
       "      <td>10</td>\n",
       "      <td>0.370146</td>\n",
       "      <td>0.000262</td>\n",
       "      <td>1.475097</td>\n",
       "      <td>10.0</td>\n",
       "    </tr>\n",
       "    <tr>\n",
       "      <th>...</th>\n",
       "      <td>...</td>\n",
       "      <td>...</td>\n",
       "      <td>...</td>\n",
       "      <td>...</td>\n",
       "      <td>...</td>\n",
       "      <td>...</td>\n",
       "      <td>...</td>\n",
       "      <td>...</td>\n",
       "      <td>...</td>\n",
       "      <td>...</td>\n",
       "    </tr>\n",
       "    <tr>\n",
       "      <th>207</th>\n",
       "      <td>10.000</td>\n",
       "      <td>1.070</td>\n",
       "      <td>10.000</td>\n",
       "      <td>0.95000</td>\n",
       "      <td>10.0</td>\n",
       "      <td>10</td>\n",
       "      <td>10.000000</td>\n",
       "      <td>1.225043</td>\n",
       "      <td>0.174996</td>\n",
       "      <td>10.0</td>\n",
       "    </tr>\n",
       "    <tr>\n",
       "      <th>208</th>\n",
       "      <td>10.000</td>\n",
       "      <td>1.171</td>\n",
       "      <td>10.000</td>\n",
       "      <td>0.66700</td>\n",
       "      <td>10.0</td>\n",
       "      <td>10</td>\n",
       "      <td>10.000000</td>\n",
       "      <td>1.605723</td>\n",
       "      <td>0.093740</td>\n",
       "      <td>10.0</td>\n",
       "    </tr>\n",
       "    <tr>\n",
       "      <th>209</th>\n",
       "      <td>9.550</td>\n",
       "      <td>0.852</td>\n",
       "      <td>10.000</td>\n",
       "      <td>0.17400</td>\n",
       "      <td>10.0</td>\n",
       "      <td>10</td>\n",
       "      <td>10.000000</td>\n",
       "      <td>0.618470</td>\n",
       "      <td>0.063494</td>\n",
       "      <td>10.0</td>\n",
       "    </tr>\n",
       "    <tr>\n",
       "      <th>210</th>\n",
       "      <td>2.765</td>\n",
       "      <td>0.247</td>\n",
       "      <td>9.100</td>\n",
       "      <td>0.02863</td>\n",
       "      <td>10.0</td>\n",
       "      <td>10</td>\n",
       "      <td>10.000000</td>\n",
       "      <td>0.015069</td>\n",
       "      <td>0.430484</td>\n",
       "      <td>10.0</td>\n",
       "    </tr>\n",
       "    <tr>\n",
       "      <th>211</th>\n",
       "      <td>10.000</td>\n",
       "      <td>0.928</td>\n",
       "      <td>10.000</td>\n",
       "      <td>10.00000</td>\n",
       "      <td>10.0</td>\n",
       "      <td>10</td>\n",
       "      <td>10.000000</td>\n",
       "      <td>0.799179</td>\n",
       "      <td>3.899197</td>\n",
       "      <td>10.0</td>\n",
       "    </tr>\n",
       "  </tbody>\n",
       "</table>\n",
       "<p>212 rows × 10 columns</p>\n",
       "</div>"
      ],
      "text/plain": [
       "     pl_rade  pl_radj  pl_bmasse  pl_bmassj  st_teff  pl_eqt  Pl_eh_vol  \\\n",
       "0      2.610    0.233     10.000    0.07142     10.0      10  10.000000   \n",
       "1      2.130    0.190      3.340    0.01051     10.0      10   9.663597   \n",
       "2      1.264    0.113      1.860    0.00585     10.0      10   2.019488   \n",
       "3      1.217    0.109      1.840    0.00579     10.0      10   1.802485   \n",
       "4      0.718    0.064      0.546    0.00172     10.0      10   0.370146   \n",
       "..       ...      ...        ...        ...      ...     ...        ...   \n",
       "207   10.000    1.070     10.000    0.95000     10.0      10  10.000000   \n",
       "208   10.000    1.171     10.000    0.66700     10.0      10  10.000000   \n",
       "209    9.550    0.852     10.000    0.17400     10.0      10  10.000000   \n",
       "210    2.765    0.247      9.100    0.02863     10.0      10  10.000000   \n",
       "211   10.000    0.928     10.000   10.00000     10.0      10  10.000000   \n",
       "\n",
       "     Pl_J_vol  dens_pl_ert  dens_pl_jup  \n",
       "0    0.012649     1.276749         10.0  \n",
       "1    0.006859     0.345628         10.0  \n",
       "2    0.001443     0.921028         10.0  \n",
       "3    0.001295     1.020816         10.0  \n",
       "4    0.000262     1.475097         10.0  \n",
       "..        ...          ...          ...  \n",
       "207  1.225043     0.174996         10.0  \n",
       "208  1.605723     0.093740         10.0  \n",
       "209  0.618470     0.063494         10.0  \n",
       "210  0.015069     0.430484         10.0  \n",
       "211  0.799179     3.899197         10.0  \n",
       "\n",
       "[212 rows x 10 columns]"
      ]
     },
     "execution_count": 54,
     "metadata": {},
     "output_type": "execute_result"
    }
   ],
   "source": [
    "df.clip(lower=-10,upper=10)"
   ]
  },
  {
   "cell_type": "code",
   "execution_count": 55,
   "id": "68ecf3bf-82ce-480f-9b23-02d8c144e56f",
   "metadata": {},
   "outputs": [
    {
     "data": {
      "text/html": [
       "<div>\n",
       "<style scoped>\n",
       "    .dataframe tbody tr th:only-of-type {\n",
       "        vertical-align: middle;\n",
       "    }\n",
       "\n",
       "    .dataframe tbody tr th {\n",
       "        vertical-align: top;\n",
       "    }\n",
       "\n",
       "    .dataframe thead th {\n",
       "        text-align: right;\n",
       "    }\n",
       "</style>\n",
       "<table border=\"1\" class=\"dataframe\">\n",
       "  <thead>\n",
       "    <tr style=\"text-align: right;\">\n",
       "      <th></th>\n",
       "      <th>pl_rade</th>\n",
       "      <th>pl_radj</th>\n",
       "      <th>pl_bmasse</th>\n",
       "      <th>pl_bmassj</th>\n",
       "      <th>st_teff</th>\n",
       "      <th>pl_eqt</th>\n",
       "      <th>Pl_eh_vol</th>\n",
       "      <th>Pl_J_vol</th>\n",
       "      <th>dens_pl_ert</th>\n",
       "      <th>dens_pl_jup</th>\n",
       "    </tr>\n",
       "  </thead>\n",
       "  <tbody>\n",
       "    <tr>\n",
       "      <th>0</th>\n",
       "      <td>2.610</td>\n",
       "      <td>0.233</td>\n",
       "      <td>22.70000</td>\n",
       "      <td>0.07142</td>\n",
       "      <td>4640.0</td>\n",
       "      <td>422</td>\n",
       "      <td>17.779581</td>\n",
       "      <td>0.012649</td>\n",
       "      <td>1.276749</td>\n",
       "      <td>5279.852677</td>\n",
       "    </tr>\n",
       "    <tr>\n",
       "      <th>1</th>\n",
       "      <td>2.130</td>\n",
       "      <td>0.190</td>\n",
       "      <td>3.34000</td>\n",
       "      <td>0.01051</td>\n",
       "      <td>3556.0</td>\n",
       "      <td>693</td>\n",
       "      <td>9.663597</td>\n",
       "      <td>0.006859</td>\n",
       "      <td>0.345628</td>\n",
       "      <td>1432.885986</td>\n",
       "    </tr>\n",
       "    <tr>\n",
       "      <th>2</th>\n",
       "      <td>1.264</td>\n",
       "      <td>0.113</td>\n",
       "      <td>1.86000</td>\n",
       "      <td>0.00585</td>\n",
       "      <td>3347.0</td>\n",
       "      <td>773</td>\n",
       "      <td>2.019488</td>\n",
       "      <td>0.001443</td>\n",
       "      <td>0.921028</td>\n",
       "      <td>3791.318391</td>\n",
       "    </tr>\n",
       "    <tr>\n",
       "      <th>3</th>\n",
       "      <td>1.217</td>\n",
       "      <td>0.109</td>\n",
       "      <td>1.84000</td>\n",
       "      <td>0.00579</td>\n",
       "      <td>3505.0</td>\n",
       "      <td>525</td>\n",
       "      <td>1.802485</td>\n",
       "      <td>0.001295</td>\n",
       "      <td>1.020816</td>\n",
       "      <td>4180.890486</td>\n",
       "    </tr>\n",
       "    <tr>\n",
       "      <th>4</th>\n",
       "      <td>0.718</td>\n",
       "      <td>0.064</td>\n",
       "      <td>0.54600</td>\n",
       "      <td>0.00172</td>\n",
       "      <td>3522.0</td>\n",
       "      <td>1745</td>\n",
       "      <td>0.370146</td>\n",
       "      <td>0.000262</td>\n",
       "      <td>1.475097</td>\n",
       "      <td>6135.617067</td>\n",
       "    </tr>\n",
       "    <tr>\n",
       "      <th>...</th>\n",
       "      <td>...</td>\n",
       "      <td>...</td>\n",
       "      <td>...</td>\n",
       "      <td>...</td>\n",
       "      <td>...</td>\n",
       "      <td>...</td>\n",
       "      <td>...</td>\n",
       "      <td>...</td>\n",
       "      <td>...</td>\n",
       "      <td>...</td>\n",
       "    </tr>\n",
       "    <tr>\n",
       "      <th>207</th>\n",
       "      <td>11.994</td>\n",
       "      <td>1.070</td>\n",
       "      <td>301.93850</td>\n",
       "      <td>0.95000</td>\n",
       "      <td>6261.0</td>\n",
       "      <td>1397</td>\n",
       "      <td>1725.409296</td>\n",
       "      <td>1.225043</td>\n",
       "      <td>0.174996</td>\n",
       "      <td>725.173615</td>\n",
       "    </tr>\n",
       "    <tr>\n",
       "      <th>208</th>\n",
       "      <td>13.126</td>\n",
       "      <td>1.171</td>\n",
       "      <td>211.99261</td>\n",
       "      <td>0.66700</td>\n",
       "      <td>5570.0</td>\n",
       "      <td>1192</td>\n",
       "      <td>2261.503164</td>\n",
       "      <td>1.605723</td>\n",
       "      <td>0.093740</td>\n",
       "      <td>388.440828</td>\n",
       "    </tr>\n",
       "    <tr>\n",
       "      <th>209</th>\n",
       "      <td>9.550</td>\n",
       "      <td>0.852</td>\n",
       "      <td>55.30242</td>\n",
       "      <td>0.17400</td>\n",
       "      <td>5710.0</td>\n",
       "      <td>1526</td>\n",
       "      <td>870.983875</td>\n",
       "      <td>0.618470</td>\n",
       "      <td>0.063494</td>\n",
       "      <td>263.087483</td>\n",
       "    </tr>\n",
       "    <tr>\n",
       "      <th>210</th>\n",
       "      <td>2.765</td>\n",
       "      <td>0.247</td>\n",
       "      <td>9.10000</td>\n",
       "      <td>0.02863</td>\n",
       "      <td>4435.0</td>\n",
       "      <td>941</td>\n",
       "      <td>21.139047</td>\n",
       "      <td>0.015069</td>\n",
       "      <td>0.430484</td>\n",
       "      <td>1776.643168</td>\n",
       "    </tr>\n",
       "    <tr>\n",
       "      <th>211</th>\n",
       "      <td>10.400</td>\n",
       "      <td>0.928</td>\n",
       "      <td>4386.05400</td>\n",
       "      <td>13.80000</td>\n",
       "      <td>4710.0</td>\n",
       "      <td>163</td>\n",
       "      <td>1124.864000</td>\n",
       "      <td>0.799179</td>\n",
       "      <td>3.899197</td>\n",
       "      <td>16147.484620</td>\n",
       "    </tr>\n",
       "  </tbody>\n",
       "</table>\n",
       "<p>212 rows × 10 columns</p>\n",
       "</div>"
      ],
      "text/plain": [
       "     pl_rade  pl_radj   pl_bmasse  pl_bmassj  st_teff  pl_eqt    Pl_eh_vol  \\\n",
       "0      2.610    0.233    22.70000    0.07142   4640.0     422    17.779581   \n",
       "1      2.130    0.190     3.34000    0.01051   3556.0     693     9.663597   \n",
       "2      1.264    0.113     1.86000    0.00585   3347.0     773     2.019488   \n",
       "3      1.217    0.109     1.84000    0.00579   3505.0     525     1.802485   \n",
       "4      0.718    0.064     0.54600    0.00172   3522.0    1745     0.370146   \n",
       "..       ...      ...         ...        ...      ...     ...          ...   \n",
       "207   11.994    1.070   301.93850    0.95000   6261.0    1397  1725.409296   \n",
       "208   13.126    1.171   211.99261    0.66700   5570.0    1192  2261.503164   \n",
       "209    9.550    0.852    55.30242    0.17400   5710.0    1526   870.983875   \n",
       "210    2.765    0.247     9.10000    0.02863   4435.0     941    21.139047   \n",
       "211   10.400    0.928  4386.05400   13.80000   4710.0     163  1124.864000   \n",
       "\n",
       "     Pl_J_vol  dens_pl_ert   dens_pl_jup  \n",
       "0    0.012649     1.276749   5279.852677  \n",
       "1    0.006859     0.345628   1432.885986  \n",
       "2    0.001443     0.921028   3791.318391  \n",
       "3    0.001295     1.020816   4180.890486  \n",
       "4    0.000262     1.475097   6135.617067  \n",
       "..        ...          ...           ...  \n",
       "207  1.225043     0.174996    725.173615  \n",
       "208  1.605723     0.093740    388.440828  \n",
       "209  0.618470     0.063494    263.087483  \n",
       "210  0.015069     0.430484   1776.643168  \n",
       "211  0.799179     3.899197  16147.484620  \n",
       "\n",
       "[212 rows x 10 columns]"
      ]
     },
     "execution_count": 55,
     "metadata": {},
     "output_type": "execute_result"
    }
   ],
   "source": [
    "df.abs()"
   ]
  },
  {
   "cell_type": "code",
   "execution_count": 56,
   "id": "feba92d0-76ce-4f2c-8dc2-d6871a9d3e41",
   "metadata": {},
   "outputs": [
    {
     "data": {
      "text/plain": [
       "<pandas.core.groupby.generic.DataFrameGroupBy object at 0x7ff78d528bf0>"
      ]
     },
     "execution_count": 56,
     "metadata": {},
     "output_type": "execute_result"
    }
   ],
   "source": [
    "df.groupby(by=\"pl_rade\")"
   ]
  },
  {
   "cell_type": "code",
   "execution_count": 60,
   "id": "7c88cb29-1071-48f0-9e58-3d9d7893edf9",
   "metadata": {},
   "outputs": [
    {
     "data": {
      "text/plain": [
       "Expanding [min_periods=1,axis=0,method=single]"
      ]
     },
     "execution_count": 60,
     "metadata": {},
     "output_type": "execute_result"
    }
   ],
   "source": [
    "df.expanding()"
   ]
  },
  {
   "cell_type": "code",
   "execution_count": 61,
   "id": "60668551-d830-44cd-a2b2-f51a73550ebb",
   "metadata": {},
   "outputs": [
    {
     "data": {
      "text/plain": [
       "Rolling [window=3,center=False,axis=0,method=single]"
      ]
     },
     "execution_count": 61,
     "metadata": {},
     "output_type": "execute_result"
    }
   ],
   "source": [
    "df.rolling(n)"
   ]
  },
  {
   "cell_type": "markdown",
   "id": "d05cecf8-4f31-4020-bb38-c91d20251814",
   "metadata": {},
   "source": [
    "# Graficación de los datos"
   ]
  },
  {
   "cell_type": "code",
   "execution_count": 62,
   "id": "8166e96c-b492-4571-bc19-25c72323724a",
   "metadata": {},
   "outputs": [
    {
     "data": {
      "text/plain": [
       "<Axes: ylabel='Frequency'>"
      ]
     },
     "execution_count": 62,
     "metadata": {},
     "output_type": "execute_result"
    },
    {
     "data": {
      "image/png": "[encoded data removed]",
      "text/plain": [
       "<Figure size 640x480 with 1 Axes>"
      ]
     },
     "metadata": {},
     "output_type": "display_data"
    }
   ],
   "source": [
    "df.plot.hist()"
   ]
  },
  {
   "cell_type": "code",
   "execution_count": 64,
   "id": "488e5888-7c02-4cfd-ba58-7c49669e5bf1",
   "metadata": {},
   "outputs": [
    {
     "data": {
      "text/plain": [
       "<Axes: xlabel='pl_rade', ylabel='Pl_eh_vol'>"
      ]
     },
     "execution_count": 64,
     "metadata": {},
     "output_type": "execute_result"
    },
    {
     "data": {
      "image/png": "[encoded data removed]",
      "text/plain": [
       "<Figure size 640x480 with 1 Axes>"
      ]
     },
     "metadata": {},
     "output_type": "display_data"
    }
   ],
   "source": [
    "df.plot.scatter(x='pl_rade',y='Pl_eh_vol')"
   ]
  },
  {
   "cell_type": "code",
   "execution_count": 65,
   "id": "5d586cfb-e1e9-4f31-9677-e7e05c1c122b",
   "metadata": {},
   "outputs": [
    {
     "data": {
      "text/plain": [
       "<Axes: xlabel='pl_rade', ylabel='pl_bmasse'>"
      ]
     },
     "execution_count": 65,
     "metadata": {},
     "output_type": "execute_result"
    },
    {
     "data": {
      "image/png": "[encoded data removed]",
      "text/plain": [
       "<Figure size 640x480 with 1 Axes>"
      ]
     },
     "metadata": {},
     "output_type": "display_data"
    }
   ],
   "source": [
    "df.plot.scatter(x='pl_rade',y='pl_bmasse')"
   ]
  },
  {
   "cell_type": "code",
   "execution_count": null,
   "id": "34429d40-9072-4e45-a034-e41dfe2262da",
   "metadata": {},
   "outputs": [],
   "source": []
  },
  {
   "cell_type": "markdown",
   "id": "6babf296-c49d-43f2-bd0a-c7385dc04432",
   "metadata": {},
   "source": [
    "# Numpy Cheat Sheet"
   ]
  },
  {
   "cell_type": "markdown",
   "id": "a323a944-c9da-4dd1-a819-5ce8633133d7",
   "metadata": {},
   "source": [
    "## Crear arreglos"
   ]
  },
  {
   "cell_type": "code",
   "execution_count": 66,
   "id": "bc536a29-ae56-40a9-910f-97acffa8dba7",
   "metadata": {},
   "outputs": [],
   "source": [
    "a = np.array([1,2,3])\n",
    "b = np.array([(1.5,2,3), (4,5,6)], dtype = float)\n",
    "\n",
    "c = np.array([[(1.5,2,3), (4,5,6)],[(3,2,1), (4,5,6)]], dtype = float)"
   ]
  },
  {
   "cell_type": "code",
   "execution_count": 68,
   "id": "7618153c-da7f-4559-9a83-2241ca6d43dd",
   "metadata": {},
   "outputs": [
    {
     "data": {
      "text/plain": [
       "array([[0., 0., 0., 0.],\n",
       "       [0., 0., 0., 0.],\n",
       "       [0., 0., 0., 0.]])"
      ]
     },
     "execution_count": 68,
     "metadata": {},
     "output_type": "execute_result"
    }
   ],
   "source": [
    "np.zeros((3,4))\n"
   ]
  },
  {
   "cell_type": "code",
   "execution_count": 69,
   "id": "3ed7b87d-258b-4da3-8f80-8e6f50c0fbd3",
   "metadata": {},
   "outputs": [
    {
     "data": {
      "text/plain": [
       "array([[[1, 1, 1, 1],\n",
       "        [1, 1, 1, 1],\n",
       "        [1, 1, 1, 1]],\n",
       "\n",
       "       [[1, 1, 1, 1],\n",
       "        [1, 1, 1, 1],\n",
       "        [1, 1, 1, 1]]], dtype=int16)"
      ]
     },
     "execution_count": 69,
     "metadata": {},
     "output_type": "execute_result"
    }
   ],
   "source": [
    "np.ones((2,3,4), dtype=np.int16)"
   ]
  },
  {
   "cell_type": "code",
   "execution_count": 72,
   "id": "683c4383-01e6-47f6-acf3-b80da93d182a",
   "metadata": {},
   "outputs": [
    {
     "name": "stdout",
     "output_type": "stream",
     "text": [
      "[10 15 20]\n"
     ]
    }
   ],
   "source": [
    "d = np.arange(10,25,5)\n",
    "print(d)"
   ]
  },
  {
   "cell_type": "code",
   "execution_count": 74,
   "id": "5ed7c47a-879f-4d59-b790-08b1f6facbf8",
   "metadata": {},
   "outputs": [
    {
     "data": {
      "text/plain": [
       "array([0.  , 0.25, 0.5 , 0.75, 1.  , 1.25, 1.5 , 1.75, 2.  ])"
      ]
     },
     "execution_count": 74,
     "metadata": {},
     "output_type": "execute_result"
    }
   ],
   "source": [
    "np.linspace(0,2,9)"
   ]
  },
  {
   "cell_type": "code",
   "execution_count": 79,
   "id": "714e0f85-aad5-41c4-8472-6050bba080fe",
   "metadata": {},
   "outputs": [
    {
     "name": "stdout",
     "output_type": "stream",
     "text": [
      "[[7 7]\n",
      " [7 7]]\n"
     ]
    }
   ],
   "source": [
    "e=np.full((2,2),7)\n",
    "print(e)"
   ]
  },
  {
   "cell_type": "code",
   "execution_count": 81,
   "id": "9de6886a-ce9d-4609-956a-7cadb4cf7fe4",
   "metadata": {},
   "outputs": [
    {
     "name": "stdout",
     "output_type": "stream",
     "text": [
      "[[1. 0.]\n",
      " [0. 1.]]\n"
     ]
    }
   ],
   "source": [
    "f= np.eye(2)\n",
    "print(f)"
   ]
  },
  {
   "cell_type": "code",
   "execution_count": 82,
   "id": "262e601d-9b0d-416d-be47-6827f65090f6",
   "metadata": {},
   "outputs": [
    {
     "data": {
      "text/plain": [
       "array([[0.55672987, 0.62151573],\n",
       "       [0.8676872 , 0.96449069]])"
      ]
     },
     "execution_count": 82,
     "metadata": {},
     "output_type": "execute_result"
    }
   ],
   "source": [
    "np.random.random((2,2))"
   ]
  },
  {
   "cell_type": "code",
   "execution_count": 83,
   "id": "8ba6a941-5e1e-48b2-abc3-0ab83567e2f1",
   "metadata": {},
   "outputs": [
    {
     "data": {
      "text/plain": [
       "array([[1.5, 2. ],\n",
       "       [3. , 4. ],\n",
       "       [5. , 6. ]])"
      ]
     },
     "execution_count": 83,
     "metadata": {},
     "output_type": "execute_result"
    }
   ],
   "source": [
    "np.empty((3,2))\n"
   ]
  },
  {
   "cell_type": "markdown",
   "id": "704268d3-65d2-4a63-90f1-6c6263520446",
   "metadata": {},
   "source": [
    "# I / O"
   ]
  },
  {
   "cell_type": "code",
   "execution_count": 84,
   "id": "291c8828-274b-4d57-b319-d23a39dda347",
   "metadata": {},
   "outputs": [],
   "source": [
    "np.save('my_array',a)"
   ]
  },
  {
   "cell_type": "code",
   "execution_count": 85,
   "id": "debd2d5f-d9ef-4d4e-bb8a-7003270d0b14",
   "metadata": {},
   "outputs": [],
   "source": [
    "np.savez('array.npz',a,b)"
   ]
  },
  {
   "cell_type": "code",
   "execution_count": 87,
   "id": "26ee3669-c6cd-40f5-bbf8-4940a4d4925f",
   "metadata": {},
   "outputs": [],
   "source": [
    "np.savetxt(\"myarray.txt\",a,delimiter=\"\")"
   ]
  },
  {
   "cell_type": "code",
   "execution_count": 90,
   "id": "fb80cd6e-f42d-426d-b696-7fcb35ec88b5",
   "metadata": {},
   "outputs": [
    {
     "data": {
      "text/plain": [
       "(3,)"
      ]
     },
     "execution_count": 90,
     "metadata": {},
     "output_type": "execute_result"
    }
   ],
   "source": [
    "a.shape #Dimension del arreglo"
   ]
  },
  {
   "cell_type": "code",
   "execution_count": 91,
   "id": "703a6181-e900-41d9-898b-3873fa181a3a",
   "metadata": {},
   "outputs": [
    {
     "data": {
      "text/plain": [
       "3"
      ]
     },
     "execution_count": 91,
     "metadata": {},
     "output_type": "execute_result"
    }
   ],
   "source": [
    "len(a) #longitud del arreglo"
   ]
  },
  {
   "cell_type": "code",
   "execution_count": 93,
   "id": "e352dcc5-3162-4d12-8000-c88874c67649",
   "metadata": {},
   "outputs": [
    {
     "data": {
      "text/plain": [
       "2"
      ]
     },
     "execution_count": 93,
     "metadata": {},
     "output_type": "execute_result"
    }
   ],
   "source": [
    "b.ndim #dimensiones del arreglo"
   ]
  },
  {
   "cell_type": "code",
   "execution_count": 94,
   "id": "d872e7c1-5679-44c2-8f3d-c23ba87e1435",
   "metadata": {},
   "outputs": [
    {
     "data": {
      "text/plain": [
       "4"
      ]
     },
     "execution_count": 94,
     "metadata": {},
     "output_type": "execute_result"
    }
   ],
   "source": [
    "e.size"
   ]
  },
  {
   "cell_type": "code",
   "execution_count": 95,
   "id": "aa9ce8ca-0a1c-4a88-8ee7-0a8ce061d4b4",
   "metadata": {},
   "outputs": [
    {
     "data": {
      "text/plain": [
       "dtype('float64')"
      ]
     },
     "execution_count": 95,
     "metadata": {},
     "output_type": "execute_result"
    }
   ],
   "source": [
    "b.dtype"
   ]
  },
  {
   "cell_type": "code",
   "execution_count": 96,
   "id": "379c46e5-9fc8-4568-abce-8691b26cf360",
   "metadata": {},
   "outputs": [
    {
     "data": {
      "text/plain": [
       "'float64'"
      ]
     },
     "execution_count": 96,
     "metadata": {},
     "output_type": "execute_result"
    }
   ],
   "source": [
    "b.dtype.name"
   ]
  },
  {
   "cell_type": "code",
   "execution_count": 97,
   "id": "941a2e35-5048-4689-81b1-dee8bd1abc29",
   "metadata": {},
   "outputs": [
    {
     "data": {
      "text/plain": [
       "array([[1, 2, 3],\n",
       "       [4, 5, 6]])"
      ]
     },
     "execution_count": 97,
     "metadata": {},
     "output_type": "execute_result"
    }
   ],
   "source": [
    "b.astype(int)"
   ]
  },
  {
   "cell_type": "code",
   "execution_count": 98,
   "id": "ee09807b-eae2-4981-b8a5-1b75544eafe1",
   "metadata": {},
   "outputs": [
    {
     "data": {
      "text/plain": [
       "numpy.int64"
      ]
     },
     "execution_count": 98,
     "metadata": {},
     "output_type": "execute_result"
    }
   ],
   "source": [
    "np.int64"
   ]
  },
  {
   "cell_type": "code",
   "execution_count": 99,
   "id": "b3adc925-513e-4b70-8020-2154602d739a",
   "metadata": {},
   "outputs": [
    {
     "data": {
      "text/plain": [
       "numpy.float32"
      ]
     },
     "execution_count": 99,
     "metadata": {},
     "output_type": "execute_result"
    }
   ],
   "source": [
    "np.float32"
   ]
  },
  {
   "cell_type": "code",
   "execution_count": 103,
   "id": "43c56a3f-d16a-4a9c-960a-9e9ef7d25eb1",
   "metadata": {},
   "outputs": [
    {
     "data": {
      "text/plain": [
       "numpy.bytes_"
      ]
     },
     "execution_count": 103,
     "metadata": {},
     "output_type": "execute_result"
    }
   ],
   "source": [
    "np.string_\n"
   ]
  },
  {
   "cell_type": "code",
   "execution_count": 104,
   "id": "451900db-48d8-4146-af53-840e1204433a",
   "metadata": {},
   "outputs": [
    {
     "data": {
      "text/plain": [
       "numpy.str_"
      ]
     },
     "execution_count": 104,
     "metadata": {},
     "output_type": "execute_result"
    }
   ],
   "source": [
    "np.unicode_"
   ]
  },
  {
   "cell_type": "markdown",
   "id": "80d3779b-2ea0-47a8-88e1-9dadfb09442b",
   "metadata": {},
   "source": [
    "# Matemáticas en arreglos"
   ]
  },
  {
   "cell_type": "code",
   "execution_count": 107,
   "id": "6dca497b-7b9e-4eb9-a8e0-853c14582fcc",
   "metadata": {},
   "outputs": [
    {
     "name": "stdout",
     "output_type": "stream",
     "text": [
      "[[-0.5  0.   0. ]\n",
      " [-3.  -3.  -3. ]]\n"
     ]
    }
   ],
   "source": [
    "g = a-b #Resta\n",
    "\n",
    "print(g)"
   ]
  },
  {
   "cell_type": "code",
   "execution_count": 109,
   "id": "53a01362-f89b-48f3-9b0c-f2c18c75ade6",
   "metadata": {},
   "outputs": [
    {
     "data": {
      "text/plain": [
       "array([[-0.5,  0. ,  0. ],\n",
       "       [-3. , -3. , -3. ]])"
      ]
     },
     "execution_count": 109,
     "metadata": {},
     "output_type": "execute_result"
    }
   ],
   "source": [
    "np.subtract(a,b)"
   ]
  },
  {
   "cell_type": "code",
   "execution_count": 110,
   "id": "3ccad128-9467-45fc-b3b9-a41e73ef77a9",
   "metadata": {},
   "outputs": [
    {
     "data": {
      "text/plain": [
       "array([[2.5, 4. , 6. ],\n",
       "       [5. , 7. , 9. ]])"
      ]
     },
     "execution_count": 110,
     "metadata": {},
     "output_type": "execute_result"
    }
   ],
   "source": [
    "b + a"
   ]
  },
  {
   "cell_type": "code",
   "execution_count": 112,
   "id": "c3e7b072-38f7-46b1-9946-86bd9ffd66a4",
   "metadata": {},
   "outputs": [
    {
     "data": {
      "text/plain": [
       "array([[2.5, 4. , 6. ],\n",
       "       [5. , 7. , 9. ]])"
      ]
     },
     "execution_count": 112,
     "metadata": {},
     "output_type": "execute_result"
    }
   ],
   "source": [
    "np.add(b,a)"
   ]
  },
  {
   "cell_type": "code",
   "execution_count": 113,
   "id": "b98e2a4c-a3a3-4b11-9e29-f987ada6055f",
   "metadata": {},
   "outputs": [
    {
     "data": {
      "text/plain": [
       "array([[0.66666667, 1.        , 1.        ],\n",
       "       [0.25      , 0.4       , 0.5       ]])"
      ]
     },
     "execution_count": 113,
     "metadata": {},
     "output_type": "execute_result"
    }
   ],
   "source": [
    "a / b"
   ]
  },
  {
   "cell_type": "code",
   "execution_count": 114,
   "id": "68778321-ea6f-4174-b8ad-3f0b56d254c8",
   "metadata": {},
   "outputs": [
    {
     "data": {
      "text/plain": [
       "array([[0.66666667, 1.        , 1.        ],\n",
       "       [0.25      , 0.4       , 0.5       ]])"
      ]
     },
     "execution_count": 114,
     "metadata": {},
     "output_type": "execute_result"
    }
   ],
   "source": [
    "np.divide(a,b)"
   ]
  },
  {
   "cell_type": "code",
   "execution_count": 115,
   "id": "9f69052a-81fa-4adb-849d-999412fd087e",
   "metadata": {},
   "outputs": [
    {
     "data": {
      "text/plain": [
       "array([[ 1.5,  4. ,  9. ],\n",
       "       [ 4. , 10. , 18. ]])"
      ]
     },
     "execution_count": 115,
     "metadata": {},
     "output_type": "execute_result"
    }
   ],
   "source": [
    "a * b "
   ]
  },
  {
   "cell_type": "code",
   "execution_count": 116,
   "id": "83c2c554-2dad-45fd-a196-795219199c47",
   "metadata": {},
   "outputs": [
    {
     "data": {
      "text/plain": [
       "array([[ 1.5,  4. ,  9. ],\n",
       "       [ 4. , 10. , 18. ]])"
      ]
     },
     "execution_count": 116,
     "metadata": {},
     "output_type": "execute_result"
    }
   ],
   "source": [
    "np.multiply(a,b)"
   ]
  },
  {
   "cell_type": "code",
   "execution_count": 117,
   "id": "b818df28-7440-4494-8e9d-491b6f95b27d",
   "metadata": {},
   "outputs": [
    {
     "data": {
      "text/plain": [
       "array([[  4.48168907,   7.3890561 ,  20.08553692],\n",
       "       [ 54.59815003, 148.4131591 , 403.42879349]])"
      ]
     },
     "execution_count": 117,
     "metadata": {},
     "output_type": "execute_result"
    }
   ],
   "source": [
    "np.exp(b)"
   ]
  },
  {
   "cell_type": "code",
   "execution_count": 118,
   "id": "e17a3a7b-588f-4fe1-9559-25c115f2f951",
   "metadata": {},
   "outputs": [
    {
     "data": {
      "text/plain": [
       "array([[1.22474487, 1.41421356, 1.73205081],\n",
       "       [2.        , 2.23606798, 2.44948974]])"
      ]
     },
     "execution_count": 118,
     "metadata": {},
     "output_type": "execute_result"
    }
   ],
   "source": [
    "np.sqrt(b)"
   ]
  },
  {
   "cell_type": "code",
   "execution_count": 119,
   "id": "500b09b8-78c3-4153-ad26-82c7cb8386fc",
   "metadata": {},
   "outputs": [
    {
     "data": {
      "text/plain": [
       "array([0.84147098, 0.90929743, 0.14112001])"
      ]
     },
     "execution_count": 119,
     "metadata": {},
     "output_type": "execute_result"
    }
   ],
   "source": [
    "np.sin(a)"
   ]
  },
  {
   "cell_type": "code",
   "execution_count": 120,
   "id": "d20ba0ea-2d08-4b0b-b4a5-20c4efe6be3b",
   "metadata": {},
   "outputs": [
    {
     "data": {
      "text/plain": [
       "array([[ 0.0707372 , -0.41614684, -0.9899925 ],\n",
       "       [-0.65364362,  0.28366219,  0.96017029]])"
      ]
     },
     "execution_count": 120,
     "metadata": {},
     "output_type": "execute_result"
    }
   ],
   "source": [
    "np.cos(b)"
   ]
  },
  {
   "cell_type": "code",
   "execution_count": 121,
   "id": "837dae65-9cae-4e0e-8174-878be4086838",
   "metadata": {},
   "outputs": [
    {
     "data": {
      "text/plain": [
       "array([0.        , 0.69314718, 1.09861229])"
      ]
     },
     "execution_count": 121,
     "metadata": {},
     "output_type": "execute_result"
    }
   ],
   "source": [
    "np.log(a)"
   ]
  },
  {
   "cell_type": "code",
   "execution_count": 122,
   "id": "7b1da0a4-6a6b-476f-9b11-f4fb4ee093d4",
   "metadata": {},
   "outputs": [
    {
     "data": {
      "text/plain": [
       "array([[7., 7.],\n",
       "       [7., 7.]])"
      ]
     },
     "execution_count": 122,
     "metadata": {},
     "output_type": "execute_result"
    }
   ],
   "source": [
    "e.dot(f)  #Producto punto"
   ]
  },
  {
   "cell_type": "markdown",
   "id": "93626d4a-b5a0-4beb-9eb6-c881095a1d42",
   "metadata": {},
   "source": [
    "## Comparación"
   ]
  },
  {
   "cell_type": "code",
   "execution_count": 125,
   "id": "6f6e7a6e-976f-4047-bf2d-1441e69e1a5b",
   "metadata": {},
   "outputs": [],
   "source": [
    "a = b\n",
    "\n"
   ]
  },
  {
   "cell_type": "code",
   "execution_count": 126,
   "id": "429e1d38-41c5-4529-986f-42893973ad76",
   "metadata": {},
   "outputs": [
    {
     "data": {
      "text/plain": [
       "array([[ True, False, False],\n",
       "       [False, False, False]])"
      ]
     },
     "execution_count": 126,
     "metadata": {},
     "output_type": "execute_result"
    }
   ],
   "source": [
    "a < 2"
   ]
  },
  {
   "cell_type": "code",
   "execution_count": 127,
   "id": "9ba21c8d-51bb-4504-826e-ead37d695080",
   "metadata": {},
   "outputs": [
    {
     "data": {
      "text/plain": [
       "True"
      ]
     },
     "execution_count": 127,
     "metadata": {},
     "output_type": "execute_result"
    }
   ],
   "source": [
    "np.array_equal(a,b)"
   ]
  },
  {
   "cell_type": "code",
   "execution_count": 128,
   "id": "349bfd88-c5f2-48e1-915c-b3030f125d5f",
   "metadata": {},
   "outputs": [
    {
     "data": {
      "text/plain": [
       "21.5"
      ]
     },
     "execution_count": 128,
     "metadata": {},
     "output_type": "execute_result"
    }
   ],
   "source": [
    "a.sum()"
   ]
  },
  {
   "cell_type": "code",
   "execution_count": 129,
   "id": "a496849c-6644-4fdc-ac07-ce4e33a54576",
   "metadata": {},
   "outputs": [
    {
     "data": {
      "text/plain": [
       "1.5"
      ]
     },
     "execution_count": 129,
     "metadata": {},
     "output_type": "execute_result"
    }
   ],
   "source": [
    "a.min()"
   ]
  },
  {
   "cell_type": "code",
   "execution_count": 130,
   "id": "cfb87ff6-bd63-427c-9e45-dde6945cf5df",
   "metadata": {},
   "outputs": [
    {
     "data": {
      "text/plain": [
       "array([4., 5., 6.])"
      ]
     },
     "execution_count": 130,
     "metadata": {},
     "output_type": "execute_result"
    }
   ],
   "source": [
    "b.max(axis=0)"
   ]
  },
  {
   "cell_type": "code",
   "execution_count": 131,
   "id": "b799c629-fdc7-408e-b87f-1d8e6209b6e5",
   "metadata": {},
   "outputs": [
    {
     "data": {
      "text/plain": [
       "array([[ 1.5,  3.5,  6.5],\n",
       "       [ 4. ,  9. , 15. ]])"
      ]
     },
     "execution_count": 131,
     "metadata": {},
     "output_type": "execute_result"
    }
   ],
   "source": [
    "b.cumsum(axis=1)"
   ]
  },
  {
   "cell_type": "code",
   "execution_count": 132,
   "id": "353824e8-5398-4b22-a523-597807d67f98",
   "metadata": {},
   "outputs": [
    {
     "data": {
      "text/plain": [
       "3.5833333333333335"
      ]
     },
     "execution_count": 132,
     "metadata": {},
     "output_type": "execute_result"
    }
   ],
   "source": [
    "a.mean()"
   ]
  },
  {
   "cell_type": "code",
   "execution_count": 133,
   "id": "8b82e66f-f81a-4818-bb07-733c7f4c769a",
   "metadata": {},
   "outputs": [
    {
     "data": {
      "text/plain": [
       "3.5"
      ]
     },
     "execution_count": 133,
     "metadata": {},
     "output_type": "execute_result"
    }
   ],
   "source": [
    "np.median(b)"
   ]
  },
  {
   "cell_type": "code",
   "execution_count": 134,
   "id": "51cda6d4-74cb-4516-9fad-84ceaf699165",
   "metadata": {},
   "outputs": [
    {
     "data": {
      "text/plain": [
       "array([[1.        , 0.98198051],\n",
       "       [0.98198051, 1.        ]])"
      ]
     },
     "execution_count": 134,
     "metadata": {},
     "output_type": "execute_result"
    }
   ],
   "source": [
    "np.corrcoef(a)"
   ]
  },
  {
   "cell_type": "code",
   "execution_count": 135,
   "id": "4b0e7ea6-2ff4-42db-9d8f-94c176cd6b4c",
   "metadata": {},
   "outputs": [
    {
     "data": {
      "text/plain": [
       "1.5920810978785667"
      ]
     },
     "execution_count": 135,
     "metadata": {},
     "output_type": "execute_result"
    }
   ],
   "source": [
    "np.std(b)"
   ]
  },
  {
   "cell_type": "markdown",
   "id": "2d2c1fab-af5f-48ee-ba73-e02576d9cff1",
   "metadata": {},
   "source": [
    "## copiar arreglos"
   ]
  },
  {
   "cell_type": "code",
   "execution_count": 136,
   "id": "ec1a96d9-7b8b-4043-b56a-405f17b7e9e6",
   "metadata": {},
   "outputs": [],
   "source": [
    "h= a.view()"
   ]
  },
  {
   "cell_type": "code",
   "execution_count": 137,
   "id": "9e74c799-8306-4457-b98e-e4d8cae869c4",
   "metadata": {},
   "outputs": [
    {
     "data": {
      "text/plain": [
       "array([[1.5, 2. , 3. ],\n",
       "       [4. , 5. , 6. ]])"
      ]
     },
     "execution_count": 137,
     "metadata": {},
     "output_type": "execute_result"
    }
   ],
   "source": [
    "np.copy(a)"
   ]
  },
  {
   "cell_type": "code",
   "execution_count": 138,
   "id": "6b4cf796-da5c-418d-9656-c8bd3e082bae",
   "metadata": {},
   "outputs": [],
   "source": [
    "h = a.copy()"
   ]
  },
  {
   "cell_type": "markdown",
   "id": "d8e1df14-649c-4d07-9447-97c71c323b40",
   "metadata": {},
   "source": [
    "## Ordenar arreglos"
   ]
  },
  {
   "cell_type": "code",
   "execution_count": 140,
   "id": "1882fa97-c7fb-400f-b676-b24c51c48741",
   "metadata": {},
   "outputs": [
    {
     "name": "stdout",
     "output_type": "stream",
     "text": [
      "[[1.5 2.  3. ]\n",
      " [4.  5.  6. ]]\n"
     ]
    }
   ],
   "source": [
    "a.sort()\n",
    "\n",
    "print(a)"
   ]
  },
  {
   "cell_type": "code",
   "execution_count": 143,
   "id": "c367dab8-b2c4-4c64-958c-801827476e8e",
   "metadata": {},
   "outputs": [
    {
     "name": "stdout",
     "output_type": "stream",
     "text": [
      "[[[1.5 2.  1. ]\n",
      "  [4.  5.  6. ]]\n",
      "\n",
      " [[3.  2.  3. ]\n",
      "  [4.  5.  6. ]]]\n"
     ]
    }
   ],
   "source": [
    "c.sort(axis=0)\n",
    "\n",
    "print(c)"
   ]
  },
  {
   "cell_type": "code",
   "execution_count": 145,
   "id": "dcb443e7-03e5-415c-82b0-79533d986b60",
   "metadata": {},
   "outputs": [
    {
     "data": {
      "text/plain": [
       "array([4., 5., 6.])"
      ]
     },
     "execution_count": 145,
     "metadata": {},
     "output_type": "execute_result"
    }
   ],
   "source": [
    "a[1]"
   ]
  },
  {
   "cell_type": "code",
   "execution_count": 146,
   "id": "fcede27f-c04d-418f-befa-53a19ab5bc25",
   "metadata": {},
   "outputs": [
    {
     "data": {
      "text/plain": [
       "6.0"
      ]
     },
     "execution_count": 146,
     "metadata": {},
     "output_type": "execute_result"
    }
   ],
   "source": [
    "b[1,2]"
   ]
  },
  {
   "cell_type": "code",
   "execution_count": 147,
   "id": "ad679910-7aec-47fb-b25c-8e96c841bfb6",
   "metadata": {},
   "outputs": [
    {
     "data": {
      "text/plain": [
       "array([[1.5, 2. , 3. ],\n",
       "       [4. , 5. , 6. ]])"
      ]
     },
     "execution_count": 147,
     "metadata": {},
     "output_type": "execute_result"
    }
   ],
   "source": [
    "a[0:2]"
   ]
  },
  {
   "cell_type": "code",
   "execution_count": 148,
   "id": "3b59ea1f-6afd-4fac-ae9f-f400796374a3",
   "metadata": {},
   "outputs": [
    {
     "data": {
      "text/plain": [
       "array([2., 5.])"
      ]
     },
     "execution_count": 148,
     "metadata": {},
     "output_type": "execute_result"
    }
   ],
   "source": [
    "b[0:2,1]"
   ]
  },
  {
   "cell_type": "code",
   "execution_count": 149,
   "id": "b4fc77c8-dba0-4f0d-9e5f-55b744890662",
   "metadata": {},
   "outputs": [
    {
     "data": {
      "text/plain": [
       "array([[1.5, 2. , 3. ]])"
      ]
     },
     "execution_count": 149,
     "metadata": {},
     "output_type": "execute_result"
    }
   ],
   "source": [
    "b[:1]"
   ]
  },
  {
   "cell_type": "code",
   "execution_count": 150,
   "id": "acc8729e-2a68-4ac1-9e74-409be40e6838",
   "metadata": {},
   "outputs": [
    {
     "data": {
      "text/plain": [
       "array([[3., 2., 3.],\n",
       "       [4., 5., 6.]])"
      ]
     },
     "execution_count": 150,
     "metadata": {},
     "output_type": "execute_result"
    }
   ],
   "source": [
    "c[1,...]"
   ]
  },
  {
   "cell_type": "code",
   "execution_count": 151,
   "id": "cf4ce62f-3951-40f5-b702-7c113463851e",
   "metadata": {},
   "outputs": [
    {
     "data": {
      "text/plain": [
       "array([[4. , 5. , 6. ],\n",
       "       [1.5, 2. , 3. ]])"
      ]
     },
     "execution_count": 151,
     "metadata": {},
     "output_type": "execute_result"
    }
   ],
   "source": [
    "a[ : :-1] "
   ]
  },
  {
   "cell_type": "code",
   "execution_count": 152,
   "id": "49b9b351-114e-4b7b-9981-52a82600c170",
   "metadata": {},
   "outputs": [
    {
     "data": {
      "text/plain": [
       "array([1.5])"
      ]
     },
     "execution_count": 152,
     "metadata": {},
     "output_type": "execute_result"
    }
   ],
   "source": [
    "a[a<2]"
   ]
  },
  {
   "cell_type": "code",
   "execution_count": 153,
   "id": "b0509d9d-d5ba-450c-8989-44f5c45cfe48",
   "metadata": {},
   "outputs": [
    {
     "data": {
      "text/plain": [
       "array([4. , 2. , 6. , 1.5])"
      ]
     },
     "execution_count": 153,
     "metadata": {},
     "output_type": "execute_result"
    }
   ],
   "source": [
    "b[[1,0,1,0],[0,1,2,0]]"
   ]
  },
  {
   "cell_type": "code",
   "execution_count": 154,
   "id": "fb7a2de7-8024-429d-aee2-1678f02c2fa1",
   "metadata": {},
   "outputs": [
    {
     "data": {
      "text/plain": [
       "array([[4. , 5. , 6. , 4. ],\n",
       "       [1.5, 2. , 3. , 1.5],\n",
       "       [4. , 5. , 6. , 4. ],\n",
       "       [1.5, 2. , 3. , 1.5]])"
      ]
     },
     "execution_count": 154,
     "metadata": {},
     "output_type": "execute_result"
    }
   ],
   "source": [
    "b[[1,0,1,0]][:,[0,1,2,0]]"
   ]
  },
  {
   "cell_type": "markdown",
   "id": "d051ddbf-4f0b-484f-b88a-f1a471e30844",
   "metadata": {},
   "source": [
    "# Manipulación de arreglos"
   ]
  },
  {
   "cell_type": "code",
   "execution_count": 157,
   "id": "1d4f7984-a170-4464-8e95-7cb6a04fd10b",
   "metadata": {},
   "outputs": [
    {
     "name": "stdout",
     "output_type": "stream",
     "text": [
      "[[1.5 4. ]\n",
      " [2.  5. ]\n",
      " [3.  6. ]]\n"
     ]
    }
   ],
   "source": [
    "i = np.transpose(b)\n",
    "\n",
    "print(i)"
   ]
  },
  {
   "cell_type": "code",
   "execution_count": 156,
   "id": "67f981be-beee-416e-9484-5b8d2304dcd3",
   "metadata": {},
   "outputs": [
    {
     "name": "stdout",
     "output_type": "stream",
     "text": [
      "[[1.5 4. ]\n",
      " [2.  5. ]\n",
      " [3.  6. ]]\n"
     ]
    }
   ],
   "source": [
    "i.T\n",
    "print(i)"
   ]
  },
  {
   "cell_type": "code",
   "execution_count": 158,
   "id": "ab6f1f79-3297-4391-b8fb-cbe9e36cc09b",
   "metadata": {},
   "outputs": [
    {
     "data": {
      "text/plain": [
       "array([1.5, 2. , 3. , 4. , 5. , 6. ])"
      ]
     },
     "execution_count": 158,
     "metadata": {},
     "output_type": "execute_result"
    }
   ],
   "source": [
    "b.ravel()"
   ]
  },
  {
   "cell_type": "code",
   "execution_count": 159,
   "id": "82ff2800-d599-43af-a20d-eb5a86c1248b",
   "metadata": {},
   "outputs": [
    {
     "data": {
      "text/plain": [
       "array([[-0.5,  0. ],\n",
       "       [ 0. , -3. ],\n",
       "       [-3. , -3. ]])"
      ]
     },
     "execution_count": 159,
     "metadata": {},
     "output_type": "execute_result"
    }
   ],
   "source": [
    "g.reshape(3,-2)"
   ]
  },
  {
   "cell_type": "code",
   "execution_count": 161,
   "id": "91f8943b-67af-433f-98bf-0fe478fb4dba",
   "metadata": {},
   "outputs": [
    {
     "data": {
      "text/plain": [
       "array([ 1.5,  2. ,  3. ,  4. ,  5. ,  6. ,  0. ,  0. ,  0. ,  0. ,  0. ,\n",
       "        0. , -0.5,  0. ,  0. , -3. , -3. , -3. ])"
      ]
     },
     "execution_count": 161,
     "metadata": {},
     "output_type": "execute_result"
    }
   ],
   "source": [
    "h.resize((2,6))\n",
    "np.append(h,g)"
   ]
  },
  {
   "cell_type": "code",
   "execution_count": 162,
   "id": "7489d39f-7654-4d23-8c54-ddebeafc674f",
   "metadata": {},
   "outputs": [
    {
     "data": {
      "text/plain": [
       "array([1.5, 5. , 2. , 3. , 4. , 5. , 6. ])"
      ]
     },
     "execution_count": 162,
     "metadata": {},
     "output_type": "execute_result"
    }
   ],
   "source": [
    "np.insert(a,1,5)"
   ]
  },
  {
   "cell_type": "code",
   "execution_count": 163,
   "id": "bc23fbc5-a6c1-4524-865b-f23e312ac022",
   "metadata": {},
   "outputs": [
    {
     "data": {
      "text/plain": [
       "array([1.5, 3. , 4. , 5. , 6. ])"
      ]
     },
     "execution_count": 163,
     "metadata": {},
     "output_type": "execute_result"
    }
   ],
   "source": [
    "np.delete(a,[1])"
   ]
  },
  {
   "cell_type": "code",
   "execution_count": 169,
   "id": "3d8f1586-cc36-433f-a521-af0cbda80b9b",
   "metadata": {},
   "outputs": [
    {
     "data": {
      "text/plain": [
       "array([[1.5, 2. , 3. ],\n",
       "       [4. , 5. , 6. ],\n",
       "       [1.5, 2. , 3. ],\n",
       "       [4. , 5. , 6. ]])"
      ]
     },
     "execution_count": 169,
     "metadata": {},
     "output_type": "execute_result"
    }
   ],
   "source": [
    "np.concatenate((a,b),axis=0)"
   ]
  },
  {
   "cell_type": "code",
   "execution_count": 165,
   "id": "c4b59634-0764-4c82-a5b7-ebb42e4cbef9",
   "metadata": {},
   "outputs": [
    {
     "data": {
      "text/plain": [
       "array([[1.5, 2. , 3. ],\n",
       "       [4. , 5. , 6. ],\n",
       "       [1.5, 2. , 3. ],\n",
       "       [4. , 5. , 6. ]])"
      ]
     },
     "execution_count": 165,
     "metadata": {},
     "output_type": "execute_result"
    }
   ],
   "source": [
    "np.vstack((a,b))"
   ]
  },
  {
   "cell_type": "code",
   "execution_count": 166,
   "id": "560f11b0-3e34-4cc2-b7d7-91a71d498cfc",
   "metadata": {},
   "outputs": [
    {
     "data": {
      "text/plain": [
       "array([[7., 7.],\n",
       "       [7., 7.],\n",
       "       [1., 0.],\n",
       "       [0., 1.]])"
      ]
     },
     "execution_count": 166,
     "metadata": {},
     "output_type": "execute_result"
    }
   ],
   "source": [
    "np.r_[e,f]"
   ]
  },
  {
   "cell_type": "code",
   "execution_count": 170,
   "id": "bf513882-ed14-4570-a4aa-85b6029a27ad",
   "metadata": {},
   "outputs": [
    {
     "data": {
      "text/plain": [
       "array([[1.5, 2. , 3. , 1.5, 2. , 3. ],\n",
       "       [4. , 5. , 6. , 4. , 5. , 6. ]])"
      ]
     },
     "execution_count": 170,
     "metadata": {},
     "output_type": "execute_result"
    }
   ],
   "source": [
    "np.column_stack((a,b))"
   ]
  },
  {
   "cell_type": "code",
   "execution_count": 171,
   "id": "c549b1a9-6bdc-44be-b34f-4d62a87ee0f0",
   "metadata": {},
   "outputs": [
    {
     "data": {
      "text/plain": [
       "array([[1.5, 2. , 3. , 1.5, 2. , 3. ],\n",
       "       [4. , 5. , 6. , 4. , 5. , 6. ]])"
      ]
     },
     "execution_count": 171,
     "metadata": {},
     "output_type": "execute_result"
    }
   ],
   "source": [
    "np.c_[a,b]"
   ]
  },
  {
   "cell_type": "code",
   "execution_count": 175,
   "id": "6f33be57-f10c-4ce3-9fea-4a7a1776bde4",
   "metadata": {},
   "outputs": [
    {
     "data": {
      "text/plain": [
       "[array([[1.5],\n",
       "        [4. ]]),\n",
       " array([[2.],\n",
       "        [5.]]),\n",
       " array([[3.],\n",
       "        [6.]])]"
      ]
     },
     "execution_count": 175,
     "metadata": {},
     "output_type": "execute_result"
    }
   ],
   "source": [
    "np.hsplit(a,3)  #Divide el arreglo horizontalmente "
   ]
  },
  {
   "cell_type": "code",
   "execution_count": 174,
   "id": "7c773bf9-b21f-4edd-bad8-ae8acd1226a1",
   "metadata": {},
   "outputs": [
    {
     "data": {
      "text/plain": [
       "[array([[[1.5, 2. , 1. ],\n",
       "         [4. , 5. , 6. ]]]),\n",
       " array([[[3., 2., 3.],\n",
       "         [4., 5., 6.]]])]"
      ]
     },
     "execution_count": 174,
     "metadata": {},
     "output_type": "execute_result"
    }
   ],
   "source": [
    "np.vsplit(c,2)  #Divide el arreglo verticalmente"
   ]
  },
  {
   "cell_type": "code",
   "execution_count": null,
   "id": "0ecfd716-3f60-48d4-b721-0760fd01316e",
   "metadata": {},
   "outputs": [],
   "source": []
  }
 ],
 "metadata": {
  "kernelspec": {
   "display_name": "Python 3 (ipykernel)",
   "language": "python",
   "name": "python3"
  },
  "language_info": {
   "codemirror_mode": {
    "name": "ipython",
    "version": 3
   },
   "file_extension": ".py",
   "mimetype": "text/x-python",
   "name": "python",
   "nbconvert_exporter": "python",
   "pygments_lexer": "ipython3",
   "version": "3.12.4"
  }
 },
 "nbformat": 4,
 "nbformat_minor": 5
}
